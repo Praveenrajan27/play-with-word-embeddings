{
 "cells": [
  {
   "cell_type": "markdown",
   "metadata": {},
   "source": [
    "# Visualizing Word Embeddings"
   ]
  },
  {
   "cell_type": "code",
   "execution_count": 2,
   "metadata": {},
   "outputs": [],
   "source": [
    "import pandas as pd\n",
    "import numpy as np\n",
    "import flair\n",
    "from sklearn.preprocessing import LabelEncoder\n",
    "from flair.embeddings import WordEmbeddings,TransformerWordEmbeddings,ELMoEmbeddings\n",
    "import seaborn as sns\n",
    "import matplotlib.pyplot as plt\n",
    "from sklearn.manifold import TSNE \n",
    "from flair.data import Sentence,Token\n",
    "import plotly.graph_objects as go\n",
    "import plotly.express as px\n"
   ]
  },
  {
   "cell_type": "markdown",
   "metadata": {},
   "source": [
    "### Pretrained Language Models - Context is King\n",
    "\n",
    "1. Glove\n",
    "2. ELMO\n",
    "3. BERT"
   ]
  },
  {
   "cell_type": "markdown",
   "metadata": {},
   "source": [
    "Defining some helper functions that would plot the embeddings on a lower dimension for easier visualization"
   ]
  },
  {
   "cell_type": "code",
   "execution_count": 3,
   "metadata": {},
   "outputs": [],
   "source": [
    "def get_embeddings(text,emb_model):\n",
    "    sentence = Sentence(text)\n",
    "    emb_model.embed(sentence)\n",
    "    emb_token = [ token.embedding.numpy() for token in sentence]\n",
    "    emb_mat=np.matrix([e for e in emb_token])\n",
    "    print(emb_mat.shape)\n",
    "    return emb_mat,sentence.tokens\n",
    "    "
   ]
  },
  {
   "cell_type": "code",
   "execution_count": 5,
   "metadata": {},
   "outputs": [],
   "source": [
    "def tsne_plot_embeddings(emb_mat,tokens,perplexity=30):\n",
    "    tsne = TSNE(n_components=2,random_state=12,perplexity=perplexity)\n",
    "    emb_tsne = tsne.fit_transform(emb_mat)\n",
    "    emb_tsne_data = np.vstack((emb_tsne.T, tokens)).T\n",
    "    df_tsne = pd.DataFrame(emb_tsne_data, columns=['Dim1', 'Dim2', 'token'])\n",
    "    fig = px.scatter(df_tsne, x=\"Dim1\", y=\"Dim2\",color=\"token\",text=pd.Series([t.text for t in df_tsne.token]))\n",
    "    fig.update_traces(textposition='top center')\n",
    "    return fig"
   ]
  },
  {
   "cell_type": "markdown",
   "metadata": {},
   "source": [
    "Lets visualize the below text. \n",
    "\n",
    "This is a sample which has a couple of sentences about a training school. Words like <i> train </i> are called Homographs because they are spelt the same, but can have different meanings based on the context."
   ]
  },
  {
   "cell_type": "code",
   "execution_count": 34,
   "metadata": {},
   "outputs": [],
   "source": [
    "text=\"\"\"\n",
    "The train briefly stopped at the SBT Terminal.\n",
    "It was in this city that I underwent my training at law school. \n",
    "There were so many qualified professors who used to train us back then. \n",
    "\"\"\""
   ]
  },
  {
   "cell_type": "markdown",
   "metadata": {},
   "source": [
    "Glove Embeddings\n",
    "\n",
    "The glove embedding is visualized by looking at the embeddings by reducing the dimension into a 2d using T-SNE.\n",
    "\n",
    "From the plot we could see that related words like <i> professors, school </i> and <i> training </i> are closely aligned. However both the <i> train </i> words seem to appear close but generally they both are used in different context in our text. While the train in the first sentence refers to the railway train, the other train is used in sentence 3 refers to the training in school"
   ]
  },
  {
   "cell_type": "code",
   "execution_count": 59,
   "metadata": {},
   "outputs": [
    {
     "name": "stdout",
     "output_type": "stream",
     "text": [
      "(37, 100)\n"
     ]
    },
    {
     "data": {
      "application/vnd.plotly.v1+json": {
       "config": {
        "plotlyServerURL": "https://plot.ly"
       },
       "data": [
        {
         "hovertemplate": "token=Token: 1 The<br>Dim1=%{x}<br>Dim2=%{y}<br>text=%{text}<extra></extra>",
         "legendgroup": "Token: 1 The",
         "marker": {
          "color": "#636efa",
          "symbol": "circle"
         },
         "mode": "markers+text",
         "name": "Token: 1 The",
         "orientation": "v",
         "showlegend": true,
         "text": [
          "The"
         ],
         "textposition": "top center",
         "type": "scatter",
         "x": [
          44.43996810913086
         ],
         "xaxis": "x",
         "y": [
          -49.26435089111328
         ],
         "yaxis": "y"
        },
        {
         "hovertemplate": "token=Token: 2 train<br>Dim1=%{x}<br>Dim2=%{y}<br>text=%{text}<extra></extra>",
         "legendgroup": "Token: 2 train",
         "marker": {
          "color": "#EF553B",
          "symbol": "circle"
         },
         "mode": "markers+text",
         "name": "Token: 2 train",
         "orientation": "v",
         "showlegend": true,
         "text": [
          "train"
         ],
         "textposition": "top center",
         "type": "scatter",
         "x": [
          -106.74861145019531
         ],
         "xaxis": "x",
         "y": [
          -28.087141036987305
         ],
         "yaxis": "y"
        },
        {
         "hovertemplate": "token=Token: 3 briefly<br>Dim1=%{x}<br>Dim2=%{y}<br>text=%{text}<extra></extra>",
         "legendgroup": "Token: 3 briefly",
         "marker": {
          "color": "#00cc96",
          "symbol": "circle"
         },
         "mode": "markers+text",
         "name": "Token: 3 briefly",
         "orientation": "v",
         "showlegend": true,
         "text": [
          "briefly"
         ],
         "textposition": "top center",
         "type": "scatter",
         "x": [
          -54.027103424072266
         ],
         "xaxis": "x",
         "y": [
          43.92057800292969
         ],
         "yaxis": "y"
        },
        {
         "hovertemplate": "token=Token: 4 stopped<br>Dim1=%{x}<br>Dim2=%{y}<br>text=%{text}<extra></extra>",
         "legendgroup": "Token: 4 stopped",
         "marker": {
          "color": "#ab63fa",
          "symbol": "circle"
         },
         "mode": "markers+text",
         "name": "Token: 4 stopped",
         "orientation": "v",
         "showlegend": true,
         "text": [
          "stopped"
         ],
         "textposition": "top center",
         "type": "scatter",
         "x": [
          -60.358062744140625
         ],
         "xaxis": "x",
         "y": [
          15.454780578613281
         ],
         "yaxis": "y"
        },
        {
         "hovertemplate": "token=Token: 5 at<br>Dim1=%{x}<br>Dim2=%{y}<br>text=%{text}<extra></extra>",
         "legendgroup": "Token: 5 at",
         "marker": {
          "color": "#FFA15A",
          "symbol": "circle"
         },
         "mode": "markers+text",
         "name": "Token: 5 at",
         "orientation": "v",
         "showlegend": true,
         "text": [
          "at"
         ],
         "textposition": "top center",
         "type": "scatter",
         "x": [
          9.709982872009277
         ],
         "xaxis": "x",
         "y": [
          -95.74242401123047
         ],
         "yaxis": "y"
        },
        {
         "hovertemplate": "token=Token: 6 the<br>Dim1=%{x}<br>Dim2=%{y}<br>text=%{text}<extra></extra>",
         "legendgroup": "Token: 6 the",
         "marker": {
          "color": "#19d3f3",
          "symbol": "circle"
         },
         "mode": "markers+text",
         "name": "Token: 6 the",
         "orientation": "v",
         "showlegend": true,
         "text": [
          "the"
         ],
         "textposition": "top center",
         "type": "scatter",
         "x": [
          19.95526885986328
         ],
         "xaxis": "x",
         "y": [
          -46.080116271972656
         ],
         "yaxis": "y"
        },
        {
         "hovertemplate": "token=Token: 7 SBT<br>Dim1=%{x}<br>Dim2=%{y}<br>text=%{text}<extra></extra>",
         "legendgroup": "Token: 7 SBT",
         "marker": {
          "color": "#FF6692",
          "symbol": "circle"
         },
         "mode": "markers+text",
         "name": "Token: 7 SBT",
         "orientation": "v",
         "showlegend": true,
         "text": [
          "SBT"
         ],
         "textposition": "top center",
         "type": "scatter",
         "x": [
          -93.49087524414062
         ],
         "xaxis": "x",
         "y": [
          45.529537200927734
         ],
         "yaxis": "y"
        },
        {
         "hovertemplate": "token=Token: 8 Terminal<br>Dim1=%{x}<br>Dim2=%{y}<br>text=%{text}<extra></extra>",
         "legendgroup": "Token: 8 Terminal",
         "marker": {
          "color": "#B6E880",
          "symbol": "circle"
         },
         "mode": "markers+text",
         "name": "Token: 8 Terminal",
         "orientation": "v",
         "showlegend": true,
         "text": [
          "Terminal"
         ],
         "textposition": "top center",
         "type": "scatter",
         "x": [
          -119.32255554199219
         ],
         "xaxis": "x",
         "y": [
          7.586648941040039
         ],
         "yaxis": "y"
        },
        {
         "hovertemplate": "token=Token: 9 .<br>Dim1=%{x}<br>Dim2=%{y}<br>text=%{text}<extra></extra>",
         "legendgroup": "Token: 9 .",
         "marker": {
          "color": "#FF97FF",
          "symbol": "circle"
         },
         "mode": "markers+text",
         "name": "Token: 9 .",
         "orientation": "v",
         "showlegend": true,
         "text": [
          "."
         ],
         "textposition": "top center",
         "type": "scatter",
         "x": [
          -1.57831871509552
         ],
         "xaxis": "x",
         "y": [
          7.476250648498535
         ],
         "yaxis": "y"
        },
        {
         "hovertemplate": "token=Token: 10 It<br>Dim1=%{x}<br>Dim2=%{y}<br>text=%{text}<extra></extra>",
         "legendgroup": "Token: 10 It",
         "marker": {
          "color": "#FECB52",
          "symbol": "circle"
         },
         "mode": "markers+text",
         "name": "Token: 10 It",
         "orientation": "v",
         "showlegend": true,
         "text": [
          "It"
         ],
         "textposition": "top center",
         "type": "scatter",
         "x": [
          47.300048828125
         ],
         "xaxis": "x",
         "y": [
          1.4819772243499756
         ],
         "yaxis": "y"
        },
        {
         "hovertemplate": "token=Token: 11 was<br>Dim1=%{x}<br>Dim2=%{y}<br>text=%{text}<extra></extra>",
         "legendgroup": "Token: 11 was",
         "marker": {
          "color": "#636efa",
          "symbol": "circle"
         },
         "mode": "markers+text",
         "name": "Token: 11 was",
         "orientation": "v",
         "showlegend": true,
         "text": [
          "was"
         ],
         "textposition": "top center",
         "type": "scatter",
         "x": [
          -8.093079566955566
         ],
         "xaxis": "x",
         "y": [
          40.52217102050781
         ],
         "yaxis": "y"
        },
        {
         "hovertemplate": "token=Token: 12 in<br>Dim1=%{x}<br>Dim2=%{y}<br>text=%{text}<extra></extra>",
         "legendgroup": "Token: 12 in",
         "marker": {
          "color": "#EF553B",
          "symbol": "circle"
         },
         "mode": "markers+text",
         "name": "Token: 12 in",
         "orientation": "v",
         "showlegend": true,
         "text": [
          "in"
         ],
         "textposition": "top center",
         "type": "scatter",
         "x": [
          76.40691375732422
         ],
         "xaxis": "x",
         "y": [
          6.435245990753174
         ],
         "yaxis": "y"
        },
        {
         "hovertemplate": "token=Token: 13 this<br>Dim1=%{x}<br>Dim2=%{y}<br>text=%{text}<extra></extra>",
         "legendgroup": "Token: 13 this",
         "marker": {
          "color": "#00cc96",
          "symbol": "circle"
         },
         "mode": "markers+text",
         "name": "Token: 13 this",
         "orientation": "v",
         "showlegend": true,
         "text": [
          "this"
         ],
         "textposition": "top center",
         "type": "scatter",
         "x": [
          34.06181335449219
         ],
         "xaxis": "x",
         "y": [
          -21.151901245117188
         ],
         "yaxis": "y"
        },
        {
         "hovertemplate": "token=Token: 14 city<br>Dim1=%{x}<br>Dim2=%{y}<br>text=%{text}<extra></extra>",
         "legendgroup": "Token: 14 city",
         "marker": {
          "color": "#ab63fa",
          "symbol": "circle"
         },
         "mode": "markers+text",
         "name": "Token: 14 city",
         "orientation": "v",
         "showlegend": true,
         "text": [
          "city"
         ],
         "textposition": "top center",
         "type": "scatter",
         "x": [
          48.23878479003906
         ],
         "xaxis": "x",
         "y": [
          -85.04271697998047
         ],
         "yaxis": "y"
        },
        {
         "hovertemplate": "token=Token: 15 that<br>Dim1=%{x}<br>Dim2=%{y}<br>text=%{text}<extra></extra>",
         "legendgroup": "Token: 15 that",
         "marker": {
          "color": "#FFA15A",
          "symbol": "circle"
         },
         "mode": "markers+text",
         "name": "Token: 15 that",
         "orientation": "v",
         "showlegend": true,
         "text": [
          "that"
         ],
         "textposition": "top center",
         "type": "scatter",
         "x": [
          61.742034912109375
         ],
         "xaxis": "x",
         "y": [
          -22.650150299072266
         ],
         "yaxis": "y"
        },
        {
         "hovertemplate": "token=Token: 16 I<br>Dim1=%{x}<br>Dim2=%{y}<br>text=%{text}<extra></extra>",
         "legendgroup": "Token: 16 I",
         "marker": {
          "color": "#19d3f3",
          "symbol": "circle"
         },
         "mode": "markers+text",
         "name": "Token: 16 I",
         "orientation": "v",
         "showlegend": true,
         "text": [
          "I"
         ],
         "textposition": "top center",
         "type": "scatter",
         "x": [
          3.9206912517547607
         ],
         "xaxis": "x",
         "y": [
          93.54244232177734
         ],
         "yaxis": "y"
        },
        {
         "hovertemplate": "token=Token: 17 underwent<br>Dim1=%{x}<br>Dim2=%{y}<br>text=%{text}<extra></extra>",
         "legendgroup": "Token: 17 underwent",
         "marker": {
          "color": "#FF6692",
          "symbol": "circle"
         },
         "mode": "markers+text",
         "name": "Token: 17 underwent",
         "orientation": "v",
         "showlegend": true,
         "text": [
          "underwent"
         ],
         "textposition": "top center",
         "type": "scatter",
         "x": [
          -82.08341217041016
         ],
         "xaxis": "x",
         "y": [
          -106.47867584228516
         ],
         "yaxis": "y"
        },
        {
         "hovertemplate": "token=Token: 18 my<br>Dim1=%{x}<br>Dim2=%{y}<br>text=%{text}<extra></extra>",
         "legendgroup": "Token: 18 my",
         "marker": {
          "color": "#B6E880",
          "symbol": "circle"
         },
         "mode": "markers+text",
         "name": "Token: 18 my",
         "orientation": "v",
         "showlegend": true,
         "text": [
          "my"
         ],
         "textposition": "top center",
         "type": "scatter",
         "x": [
          -26.272844314575195
         ],
         "xaxis": "x",
         "y": [
          85.06840515136719
         ],
         "yaxis": "y"
        },
        {
         "hovertemplate": "token=Token: 19 training<br>Dim1=%{x}<br>Dim2=%{y}<br>text=%{text}<extra></extra>",
         "legendgroup": "Token: 19 training",
         "marker": {
          "color": "#FF97FF",
          "symbol": "circle"
         },
         "mode": "markers+text",
         "name": "Token: 19 training",
         "orientation": "v",
         "showlegend": true,
         "text": [
          "training"
         ],
         "textposition": "top center",
         "type": "scatter",
         "x": [
          -71.1767807006836
         ],
         "xaxis": "x",
         "y": [
          -67.62960052490234
         ],
         "yaxis": "y"
        },
        {
         "hovertemplate": "token=Token: 20 at<br>Dim1=%{x}<br>Dim2=%{y}<br>text=%{text}<extra></extra>",
         "legendgroup": "Token: 20 at",
         "marker": {
          "color": "#FECB52",
          "symbol": "circle"
         },
         "mode": "markers+text",
         "name": "Token: 20 at",
         "orientation": "v",
         "showlegend": true,
         "text": [
          "at"
         ],
         "textposition": "top center",
         "type": "scatter",
         "x": [
          0.23391093313694
         ],
         "xaxis": "x",
         "y": [
          -74.60662841796875
         ],
         "yaxis": "y"
        },
        {
         "hovertemplate": "token=Token: 21 law<br>Dim1=%{x}<br>Dim2=%{y}<br>text=%{text}<extra></extra>",
         "legendgroup": "Token: 21 law",
         "marker": {
          "color": "#636efa",
          "symbol": "circle"
         },
         "mode": "markers+text",
         "name": "Token: 21 law",
         "orientation": "v",
         "showlegend": true,
         "text": [
          "law"
         ],
         "textposition": "top center",
         "type": "scatter",
         "x": [
          -18.8332462310791
         ],
         "xaxis": "x",
         "y": [
          -40.25054931640625
         ],
         "yaxis": "y"
        },
        {
         "hovertemplate": "token=Token: 22 school<br>Dim1=%{x}<br>Dim2=%{y}<br>text=%{text}<extra></extra>",
         "legendgroup": "Token: 22 school",
         "marker": {
          "color": "#EF553B",
          "symbol": "circle"
         },
         "mode": "markers+text",
         "name": "Token: 22 school",
         "orientation": "v",
         "showlegend": true,
         "text": [
          "school"
         ],
         "textposition": "top center",
         "type": "scatter",
         "x": [
          -38.55659103393555
         ],
         "xaxis": "x",
         "y": [
          -72.23075103759766
         ],
         "yaxis": "y"
        },
        {
         "hovertemplate": "token=Token: 23 .<br>Dim1=%{x}<br>Dim2=%{y}<br>text=%{text}<extra></extra>",
         "legendgroup": "Token: 23 .",
         "marker": {
          "color": "#00cc96",
          "symbol": "circle"
         },
         "mode": "markers+text",
         "name": "Token: 23 .",
         "orientation": "v",
         "showlegend": true,
         "text": [
          "."
         ],
         "textposition": "top center",
         "type": "scatter",
         "x": [
          20.57854652404785
         ],
         "xaxis": "x",
         "y": [
          1.5592124462127686
         ],
         "yaxis": "y"
        },
        {
         "hovertemplate": "token=Token: 24 There<br>Dim1=%{x}<br>Dim2=%{y}<br>text=%{text}<extra></extra>",
         "legendgroup": "Token: 24 There",
         "marker": {
          "color": "#ab63fa",
          "symbol": "circle"
         },
         "mode": "markers+text",
         "name": "Token: 24 There",
         "orientation": "v",
         "showlegend": true,
         "text": [
          "There"
         ],
         "textposition": "top center",
         "type": "scatter",
         "x": [
          21.14507484436035
         ],
         "xaxis": "x",
         "y": [
          28.799823760986328
         ],
         "yaxis": "y"
        },
        {
         "hovertemplate": "token=Token: 25 were<br>Dim1=%{x}<br>Dim2=%{y}<br>text=%{text}<extra></extra>",
         "legendgroup": "Token: 25 were",
         "marker": {
          "color": "#FFA15A",
          "symbol": "circle"
         },
         "mode": "markers+text",
         "name": "Token: 25 were",
         "orientation": "v",
         "showlegend": true,
         "text": [
          "were"
         ],
         "textposition": "top center",
         "type": "scatter",
         "x": [
          86.46197509765625
         ],
         "xaxis": "x",
         "y": [
          -60.896663665771484
         ],
         "yaxis": "y"
        },
        {
         "hovertemplate": "token=Token: 26 so<br>Dim1=%{x}<br>Dim2=%{y}<br>text=%{text}<extra></extra>",
         "legendgroup": "Token: 26 so",
         "marker": {
          "color": "#19d3f3",
          "symbol": "circle"
         },
         "mode": "markers+text",
         "name": "Token: 26 so",
         "orientation": "v",
         "showlegend": true,
         "text": [
          "so"
         ],
         "textposition": "top center",
         "type": "scatter",
         "x": [
          47.04789733886719
         ],
         "xaxis": "x",
         "y": [
          26.544418334960938
         ],
         "yaxis": "y"
        },
        {
         "hovertemplate": "token=Token: 27 many<br>Dim1=%{x}<br>Dim2=%{y}<br>text=%{text}<extra></extra>",
         "legendgroup": "Token: 27 many",
         "marker": {
          "color": "#FF6692",
          "symbol": "circle"
         },
         "mode": "markers+text",
         "name": "Token: 27 many",
         "orientation": "v",
         "showlegend": true,
         "text": [
          "many"
         ],
         "textposition": "top center",
         "type": "scatter",
         "x": [
          47.42206573486328
         ],
         "xaxis": "x",
         "y": [
          53.46150207519531
         ],
         "yaxis": "y"
        },
        {
         "hovertemplate": "token=Token: 28 qualified<br>Dim1=%{x}<br>Dim2=%{y}<br>text=%{text}<extra></extra>",
         "legendgroup": "Token: 28 qualified",
         "marker": {
          "color": "#B6E880",
          "symbol": "circle"
         },
         "mode": "markers+text",
         "name": "Token: 28 qualified",
         "orientation": "v",
         "showlegend": true,
         "text": [
          "qualified"
         ],
         "textposition": "top center",
         "type": "scatter",
         "x": [
          60.416175842285156
         ],
         "xaxis": "x",
         "y": [
          91.77191162109375
         ],
         "yaxis": "y"
        },
        {
         "hovertemplate": "token=Token: 29 professors<br>Dim1=%{x}<br>Dim2=%{y}<br>text=%{text}<extra></extra>",
         "legendgroup": "Token: 29 professors",
         "marker": {
          "color": "#FF97FF",
          "symbol": "circle"
         },
         "mode": "markers+text",
         "name": "Token: 29 professors",
         "orientation": "v",
         "showlegend": true,
         "text": [
          "professors"
         ],
         "textposition": "top center",
         "type": "scatter",
         "x": [
          -54.083587646484375
         ],
         "xaxis": "x",
         "y": [
          -34.27402877807617
         ],
         "yaxis": "y"
        },
        {
         "hovertemplate": "token=Token: 30 who<br>Dim1=%{x}<br>Dim2=%{y}<br>text=%{text}<extra></extra>",
         "legendgroup": "Token: 30 who",
         "marker": {
          "color": "#FECB52",
          "symbol": "circle"
         },
         "mode": "markers+text",
         "name": "Token: 30 who",
         "orientation": "v",
         "showlegend": true,
         "text": [
          "who"
         ],
         "textposition": "top center",
         "type": "scatter",
         "x": [
          15.253020286560059
         ],
         "xaxis": "x",
         "y": [
          61.84139633178711
         ],
         "yaxis": "y"
        },
        {
         "hovertemplate": "token=Token: 31 used<br>Dim1=%{x}<br>Dim2=%{y}<br>text=%{text}<extra></extra>",
         "legendgroup": "Token: 31 used",
         "marker": {
          "color": "#636efa",
          "symbol": "circle"
         },
         "mode": "markers+text",
         "name": "Token: 31 used",
         "orientation": "v",
         "showlegend": true,
         "text": [
          "used"
         ],
         "textposition": "top center",
         "type": "scatter",
         "x": [
          81.67333984375
         ],
         "xaxis": "x",
         "y": [
          41.70137023925781
         ],
         "yaxis": "y"
        },
        {
         "hovertemplate": "token=Token: 32 to<br>Dim1=%{x}<br>Dim2=%{y}<br>text=%{text}<extra></extra>",
         "legendgroup": "Token: 32 to",
         "marker": {
          "color": "#EF553B",
          "symbol": "circle"
         },
         "mode": "markers+text",
         "name": "Token: 32 to",
         "orientation": "v",
         "showlegend": true,
         "text": [
          "to"
         ],
         "textposition": "top center",
         "type": "scatter",
         "x": [
          93.29993438720703
         ],
         "xaxis": "x",
         "y": [
          -23.307662963867188
         ],
         "yaxis": "y"
        },
        {
         "hovertemplate": "token=Token: 33 train<br>Dim1=%{x}<br>Dim2=%{y}<br>text=%{text}<extra></extra>",
         "legendgroup": "Token: 33 train",
         "marker": {
          "color": "#00cc96",
          "symbol": "circle"
         },
         "mode": "markers+text",
         "name": "Token: 33 train",
         "orientation": "v",
         "showlegend": true,
         "text": [
          "train"
         ],
         "textposition": "top center",
         "type": "scatter",
         "x": [
          -91.23129272460938
         ],
         "xaxis": "x",
         "y": [
          -11.83560562133789
         ],
         "yaxis": "y"
        },
        {
         "hovertemplate": "token=Token: 34 us<br>Dim1=%{x}<br>Dim2=%{y}<br>text=%{text}<extra></extra>",
         "legendgroup": "Token: 34 us",
         "marker": {
          "color": "#ab63fa",
          "symbol": "circle"
         },
         "mode": "markers+text",
         "name": "Token: 34 us",
         "orientation": "v",
         "showlegend": true,
         "text": [
          "us"
         ],
         "textposition": "top center",
         "type": "scatter",
         "x": [
          116.87364196777344
         ],
         "xaxis": "x",
         "y": [
          6.754785537719727
         ],
         "yaxis": "y"
        },
        {
         "hovertemplate": "token=Token: 35 back<br>Dim1=%{x}<br>Dim2=%{y}<br>text=%{text}<extra></extra>",
         "legendgroup": "Token: 35 back",
         "marker": {
          "color": "#FFA15A",
          "symbol": "circle"
         },
         "mode": "markers+text",
         "name": "Token: 35 back",
         "orientation": "v",
         "showlegend": true,
         "text": [
          "back"
         ],
         "textposition": "top center",
         "type": "scatter",
         "x": [
          -30.608829498291016
         ],
         "xaxis": "x",
         "y": [
          -5.080663681030273
         ],
         "yaxis": "y"
        },
        {
         "hovertemplate": "token=Token: 36 then<br>Dim1=%{x}<br>Dim2=%{y}<br>text=%{text}<extra></extra>",
         "legendgroup": "Token: 36 then",
         "marker": {
          "color": "#19d3f3",
          "symbol": "circle"
         },
         "mode": "markers+text",
         "name": "Token: 36 then",
         "orientation": "v",
         "showlegend": true,
         "text": [
          "then"
         ],
         "textposition": "top center",
         "type": "scatter",
         "x": [
          -28.691143035888672
         ],
         "xaxis": "x",
         "y": [
          22.27337646484375
         ],
         "yaxis": "y"
        },
        {
         "hovertemplate": "token=Token: 37 .<br>Dim1=%{x}<br>Dim2=%{y}<br>text=%{text}<extra></extra>",
         "legendgroup": "Token: 37 .",
         "marker": {
          "color": "#FF6692",
          "symbol": "circle"
         },
         "mode": "markers+text",
         "name": "Token: 37 .",
         "orientation": "v",
         "showlegend": true,
         "text": [
          "."
         ],
         "textposition": "top center",
         "type": "scatter",
         "x": [
          3.7668347358703613
         ],
         "xaxis": "x",
         "y": [
          -17.693599700927734
         ],
         "yaxis": "y"
        }
       ],
       "layout": {
        "height": 400,
        "legend": {
         "title": {
          "text": "token"
         },
         "tracegroupgap": 0
        },
        "margin": {
         "t": 60
        },
        "template": {
         "data": {
          "bar": [
           {
            "error_x": {
             "color": "#2a3f5f"
            },
            "error_y": {
             "color": "#2a3f5f"
            },
            "marker": {
             "line": {
              "color": "#E5ECF6",
              "width": 0.5
             }
            },
            "type": "bar"
           }
          ],
          "barpolar": [
           {
            "marker": {
             "line": {
              "color": "#E5ECF6",
              "width": 0.5
             }
            },
            "type": "barpolar"
           }
          ],
          "carpet": [
           {
            "aaxis": {
             "endlinecolor": "#2a3f5f",
             "gridcolor": "white",
             "linecolor": "white",
             "minorgridcolor": "white",
             "startlinecolor": "#2a3f5f"
            },
            "baxis": {
             "endlinecolor": "#2a3f5f",
             "gridcolor": "white",
             "linecolor": "white",
             "minorgridcolor": "white",
             "startlinecolor": "#2a3f5f"
            },
            "type": "carpet"
           }
          ],
          "choropleth": [
           {
            "colorbar": {
             "outlinewidth": 0,
             "ticks": ""
            },
            "type": "choropleth"
           }
          ],
          "contour": [
           {
            "colorbar": {
             "outlinewidth": 0,
             "ticks": ""
            },
            "colorscale": [
             [
              0,
              "#0d0887"
             ],
             [
              0.1111111111111111,
              "#46039f"
             ],
             [
              0.2222222222222222,
              "#7201a8"
             ],
             [
              0.3333333333333333,
              "#9c179e"
             ],
             [
              0.4444444444444444,
              "#bd3786"
             ],
             [
              0.5555555555555556,
              "#d8576b"
             ],
             [
              0.6666666666666666,
              "#ed7953"
             ],
             [
              0.7777777777777778,
              "#fb9f3a"
             ],
             [
              0.8888888888888888,
              "#fdca26"
             ],
             [
              1,
              "#f0f921"
             ]
            ],
            "type": "contour"
           }
          ],
          "contourcarpet": [
           {
            "colorbar": {
             "outlinewidth": 0,
             "ticks": ""
            },
            "type": "contourcarpet"
           }
          ],
          "heatmap": [
           {
            "colorbar": {
             "outlinewidth": 0,
             "ticks": ""
            },
            "colorscale": [
             [
              0,
              "#0d0887"
             ],
             [
              0.1111111111111111,
              "#46039f"
             ],
             [
              0.2222222222222222,
              "#7201a8"
             ],
             [
              0.3333333333333333,
              "#9c179e"
             ],
             [
              0.4444444444444444,
              "#bd3786"
             ],
             [
              0.5555555555555556,
              "#d8576b"
             ],
             [
              0.6666666666666666,
              "#ed7953"
             ],
             [
              0.7777777777777778,
              "#fb9f3a"
             ],
             [
              0.8888888888888888,
              "#fdca26"
             ],
             [
              1,
              "#f0f921"
             ]
            ],
            "type": "heatmap"
           }
          ],
          "heatmapgl": [
           {
            "colorbar": {
             "outlinewidth": 0,
             "ticks": ""
            },
            "colorscale": [
             [
              0,
              "#0d0887"
             ],
             [
              0.1111111111111111,
              "#46039f"
             ],
             [
              0.2222222222222222,
              "#7201a8"
             ],
             [
              0.3333333333333333,
              "#9c179e"
             ],
             [
              0.4444444444444444,
              "#bd3786"
             ],
             [
              0.5555555555555556,
              "#d8576b"
             ],
             [
              0.6666666666666666,
              "#ed7953"
             ],
             [
              0.7777777777777778,
              "#fb9f3a"
             ],
             [
              0.8888888888888888,
              "#fdca26"
             ],
             [
              1,
              "#f0f921"
             ]
            ],
            "type": "heatmapgl"
           }
          ],
          "histogram": [
           {
            "marker": {
             "colorbar": {
              "outlinewidth": 0,
              "ticks": ""
             }
            },
            "type": "histogram"
           }
          ],
          "histogram2d": [
           {
            "colorbar": {
             "outlinewidth": 0,
             "ticks": ""
            },
            "colorscale": [
             [
              0,
              "#0d0887"
             ],
             [
              0.1111111111111111,
              "#46039f"
             ],
             [
              0.2222222222222222,
              "#7201a8"
             ],
             [
              0.3333333333333333,
              "#9c179e"
             ],
             [
              0.4444444444444444,
              "#bd3786"
             ],
             [
              0.5555555555555556,
              "#d8576b"
             ],
             [
              0.6666666666666666,
              "#ed7953"
             ],
             [
              0.7777777777777778,
              "#fb9f3a"
             ],
             [
              0.8888888888888888,
              "#fdca26"
             ],
             [
              1,
              "#f0f921"
             ]
            ],
            "type": "histogram2d"
           }
          ],
          "histogram2dcontour": [
           {
            "colorbar": {
             "outlinewidth": 0,
             "ticks": ""
            },
            "colorscale": [
             [
              0,
              "#0d0887"
             ],
             [
              0.1111111111111111,
              "#46039f"
             ],
             [
              0.2222222222222222,
              "#7201a8"
             ],
             [
              0.3333333333333333,
              "#9c179e"
             ],
             [
              0.4444444444444444,
              "#bd3786"
             ],
             [
              0.5555555555555556,
              "#d8576b"
             ],
             [
              0.6666666666666666,
              "#ed7953"
             ],
             [
              0.7777777777777778,
              "#fb9f3a"
             ],
             [
              0.8888888888888888,
              "#fdca26"
             ],
             [
              1,
              "#f0f921"
             ]
            ],
            "type": "histogram2dcontour"
           }
          ],
          "mesh3d": [
           {
            "colorbar": {
             "outlinewidth": 0,
             "ticks": ""
            },
            "type": "mesh3d"
           }
          ],
          "parcoords": [
           {
            "line": {
             "colorbar": {
              "outlinewidth": 0,
              "ticks": ""
             }
            },
            "type": "parcoords"
           }
          ],
          "pie": [
           {
            "automargin": true,
            "type": "pie"
           }
          ],
          "scatter": [
           {
            "marker": {
             "colorbar": {
              "outlinewidth": 0,
              "ticks": ""
             }
            },
            "type": "scatter"
           }
          ],
          "scatter3d": [
           {
            "line": {
             "colorbar": {
              "outlinewidth": 0,
              "ticks": ""
             }
            },
            "marker": {
             "colorbar": {
              "outlinewidth": 0,
              "ticks": ""
             }
            },
            "type": "scatter3d"
           }
          ],
          "scattercarpet": [
           {
            "marker": {
             "colorbar": {
              "outlinewidth": 0,
              "ticks": ""
             }
            },
            "type": "scattercarpet"
           }
          ],
          "scattergeo": [
           {
            "marker": {
             "colorbar": {
              "outlinewidth": 0,
              "ticks": ""
             }
            },
            "type": "scattergeo"
           }
          ],
          "scattergl": [
           {
            "marker": {
             "colorbar": {
              "outlinewidth": 0,
              "ticks": ""
             }
            },
            "type": "scattergl"
           }
          ],
          "scattermapbox": [
           {
            "marker": {
             "colorbar": {
              "outlinewidth": 0,
              "ticks": ""
             }
            },
            "type": "scattermapbox"
           }
          ],
          "scatterpolar": [
           {
            "marker": {
             "colorbar": {
              "outlinewidth": 0,
              "ticks": ""
             }
            },
            "type": "scatterpolar"
           }
          ],
          "scatterpolargl": [
           {
            "marker": {
             "colorbar": {
              "outlinewidth": 0,
              "ticks": ""
             }
            },
            "type": "scatterpolargl"
           }
          ],
          "scatterternary": [
           {
            "marker": {
             "colorbar": {
              "outlinewidth": 0,
              "ticks": ""
             }
            },
            "type": "scatterternary"
           }
          ],
          "surface": [
           {
            "colorbar": {
             "outlinewidth": 0,
             "ticks": ""
            },
            "colorscale": [
             [
              0,
              "#0d0887"
             ],
             [
              0.1111111111111111,
              "#46039f"
             ],
             [
              0.2222222222222222,
              "#7201a8"
             ],
             [
              0.3333333333333333,
              "#9c179e"
             ],
             [
              0.4444444444444444,
              "#bd3786"
             ],
             [
              0.5555555555555556,
              "#d8576b"
             ],
             [
              0.6666666666666666,
              "#ed7953"
             ],
             [
              0.7777777777777778,
              "#fb9f3a"
             ],
             [
              0.8888888888888888,
              "#fdca26"
             ],
             [
              1,
              "#f0f921"
             ]
            ],
            "type": "surface"
           }
          ],
          "table": [
           {
            "cells": {
             "fill": {
              "color": "#EBF0F8"
             },
             "line": {
              "color": "white"
             }
            },
            "header": {
             "fill": {
              "color": "#C8D4E3"
             },
             "line": {
              "color": "white"
             }
            },
            "type": "table"
           }
          ]
         },
         "layout": {
          "annotationdefaults": {
           "arrowcolor": "#2a3f5f",
           "arrowhead": 0,
           "arrowwidth": 1
          },
          "autotypenumbers": "strict",
          "coloraxis": {
           "colorbar": {
            "outlinewidth": 0,
            "ticks": ""
           }
          },
          "colorscale": {
           "diverging": [
            [
             0,
             "#8e0152"
            ],
            [
             0.1,
             "#c51b7d"
            ],
            [
             0.2,
             "#de77ae"
            ],
            [
             0.3,
             "#f1b6da"
            ],
            [
             0.4,
             "#fde0ef"
            ],
            [
             0.5,
             "#f7f7f7"
            ],
            [
             0.6,
             "#e6f5d0"
            ],
            [
             0.7,
             "#b8e186"
            ],
            [
             0.8,
             "#7fbc41"
            ],
            [
             0.9,
             "#4d9221"
            ],
            [
             1,
             "#276419"
            ]
           ],
           "sequential": [
            [
             0,
             "#0d0887"
            ],
            [
             0.1111111111111111,
             "#46039f"
            ],
            [
             0.2222222222222222,
             "#7201a8"
            ],
            [
             0.3333333333333333,
             "#9c179e"
            ],
            [
             0.4444444444444444,
             "#bd3786"
            ],
            [
             0.5555555555555556,
             "#d8576b"
            ],
            [
             0.6666666666666666,
             "#ed7953"
            ],
            [
             0.7777777777777778,
             "#fb9f3a"
            ],
            [
             0.8888888888888888,
             "#fdca26"
            ],
            [
             1,
             "#f0f921"
            ]
           ],
           "sequentialminus": [
            [
             0,
             "#0d0887"
            ],
            [
             0.1111111111111111,
             "#46039f"
            ],
            [
             0.2222222222222222,
             "#7201a8"
            ],
            [
             0.3333333333333333,
             "#9c179e"
            ],
            [
             0.4444444444444444,
             "#bd3786"
            ],
            [
             0.5555555555555556,
             "#d8576b"
            ],
            [
             0.6666666666666666,
             "#ed7953"
            ],
            [
             0.7777777777777778,
             "#fb9f3a"
            ],
            [
             0.8888888888888888,
             "#fdca26"
            ],
            [
             1,
             "#f0f921"
            ]
           ]
          },
          "colorway": [
           "#636efa",
           "#EF553B",
           "#00cc96",
           "#ab63fa",
           "#FFA15A",
           "#19d3f3",
           "#FF6692",
           "#B6E880",
           "#FF97FF",
           "#FECB52"
          ],
          "font": {
           "color": "#2a3f5f"
          },
          "geo": {
           "bgcolor": "white",
           "lakecolor": "white",
           "landcolor": "#E5ECF6",
           "showlakes": true,
           "showland": true,
           "subunitcolor": "white"
          },
          "hoverlabel": {
           "align": "left"
          },
          "hovermode": "closest",
          "mapbox": {
           "style": "light"
          },
          "paper_bgcolor": "white",
          "plot_bgcolor": "#E5ECF6",
          "polar": {
           "angularaxis": {
            "gridcolor": "white",
            "linecolor": "white",
            "ticks": ""
           },
           "bgcolor": "#E5ECF6",
           "radialaxis": {
            "gridcolor": "white",
            "linecolor": "white",
            "ticks": ""
           }
          },
          "scene": {
           "xaxis": {
            "backgroundcolor": "#E5ECF6",
            "gridcolor": "white",
            "gridwidth": 2,
            "linecolor": "white",
            "showbackground": true,
            "ticks": "",
            "zerolinecolor": "white"
           },
           "yaxis": {
            "backgroundcolor": "#E5ECF6",
            "gridcolor": "white",
            "gridwidth": 2,
            "linecolor": "white",
            "showbackground": true,
            "ticks": "",
            "zerolinecolor": "white"
           },
           "zaxis": {
            "backgroundcolor": "#E5ECF6",
            "gridcolor": "white",
            "gridwidth": 2,
            "linecolor": "white",
            "showbackground": true,
            "ticks": "",
            "zerolinecolor": "white"
           }
          },
          "shapedefaults": {
           "line": {
            "color": "#2a3f5f"
           }
          },
          "ternary": {
           "aaxis": {
            "gridcolor": "white",
            "linecolor": "white",
            "ticks": ""
           },
           "baxis": {
            "gridcolor": "white",
            "linecolor": "white",
            "ticks": ""
           },
           "bgcolor": "#E5ECF6",
           "caxis": {
            "gridcolor": "white",
            "linecolor": "white",
            "ticks": ""
           }
          },
          "title": {
           "x": 0.05
          },
          "xaxis": {
           "automargin": true,
           "gridcolor": "white",
           "linecolor": "white",
           "ticks": "",
           "title": {
            "standoff": 15
           },
           "zerolinecolor": "white",
           "zerolinewidth": 2
          },
          "yaxis": {
           "automargin": true,
           "gridcolor": "white",
           "linecolor": "white",
           "ticks": "",
           "title": {
            "standoff": 15
           },
           "zerolinecolor": "white",
           "zerolinewidth": 2
          }
         }
        },
        "title": {
         "text": " Glove embeddings"
        },
        "xaxis": {
         "anchor": "y",
         "domain": [
          0,
          1
         ],
         "title": {
          "text": "Dim1"
         }
        },
        "yaxis": {
         "anchor": "x",
         "domain": [
          0,
          1
         ],
         "title": {
          "text": "Dim2"
         }
        }
       }
      },
      "text/html": [
       "<div>                            <div id=\"39a0b4a2-9334-4231-8a89-e7d96bd47194\" class=\"plotly-graph-div\" style=\"height:400px; width:100%;\"></div>            <script type=\"text/javascript\">                require([\"plotly\"], function(Plotly) {                    window.PLOTLYENV=window.PLOTLYENV || {};                                    if (document.getElementById(\"39a0b4a2-9334-4231-8a89-e7d96bd47194\")) {                    Plotly.newPlot(                        \"39a0b4a2-9334-4231-8a89-e7d96bd47194\",                        [{\"hovertemplate\": \"token=Token: 1 The<br>Dim1=%{x}<br>Dim2=%{y}<br>text=%{text}<extra></extra>\", \"legendgroup\": \"Token: 1 The\", \"marker\": {\"color\": \"#636efa\", \"symbol\": \"circle\"}, \"mode\": \"markers+text\", \"name\": \"Token: 1 The\", \"orientation\": \"v\", \"showlegend\": true, \"text\": [\"The\"], \"textposition\": \"top center\", \"type\": \"scatter\", \"x\": [44.43996810913086], \"xaxis\": \"x\", \"y\": [-49.26435089111328], \"yaxis\": \"y\"}, {\"hovertemplate\": \"token=Token: 2 train<br>Dim1=%{x}<br>Dim2=%{y}<br>text=%{text}<extra></extra>\", \"legendgroup\": \"Token: 2 train\", \"marker\": {\"color\": \"#EF553B\", \"symbol\": \"circle\"}, \"mode\": \"markers+text\", \"name\": \"Token: 2 train\", \"orientation\": \"v\", \"showlegend\": true, \"text\": [\"train\"], \"textposition\": \"top center\", \"type\": \"scatter\", \"x\": [-106.74861145019531], \"xaxis\": \"x\", \"y\": [-28.087141036987305], \"yaxis\": \"y\"}, {\"hovertemplate\": \"token=Token: 3 briefly<br>Dim1=%{x}<br>Dim2=%{y}<br>text=%{text}<extra></extra>\", \"legendgroup\": \"Token: 3 briefly\", \"marker\": {\"color\": \"#00cc96\", \"symbol\": \"circle\"}, \"mode\": \"markers+text\", \"name\": \"Token: 3 briefly\", \"orientation\": \"v\", \"showlegend\": true, \"text\": [\"briefly\"], \"textposition\": \"top center\", \"type\": \"scatter\", \"x\": [-54.027103424072266], \"xaxis\": \"x\", \"y\": [43.92057800292969], \"yaxis\": \"y\"}, {\"hovertemplate\": \"token=Token: 4 stopped<br>Dim1=%{x}<br>Dim2=%{y}<br>text=%{text}<extra></extra>\", \"legendgroup\": \"Token: 4 stopped\", \"marker\": {\"color\": \"#ab63fa\", \"symbol\": \"circle\"}, \"mode\": \"markers+text\", \"name\": \"Token: 4 stopped\", \"orientation\": \"v\", \"showlegend\": true, \"text\": [\"stopped\"], \"textposition\": \"top center\", \"type\": \"scatter\", \"x\": [-60.358062744140625], \"xaxis\": \"x\", \"y\": [15.454780578613281], \"yaxis\": \"y\"}, {\"hovertemplate\": \"token=Token: 5 at<br>Dim1=%{x}<br>Dim2=%{y}<br>text=%{text}<extra></extra>\", \"legendgroup\": \"Token: 5 at\", \"marker\": {\"color\": \"#FFA15A\", \"symbol\": \"circle\"}, \"mode\": \"markers+text\", \"name\": \"Token: 5 at\", \"orientation\": \"v\", \"showlegend\": true, \"text\": [\"at\"], \"textposition\": \"top center\", \"type\": \"scatter\", \"x\": [9.709982872009277], \"xaxis\": \"x\", \"y\": [-95.74242401123047], \"yaxis\": \"y\"}, {\"hovertemplate\": \"token=Token: 6 the<br>Dim1=%{x}<br>Dim2=%{y}<br>text=%{text}<extra></extra>\", \"legendgroup\": \"Token: 6 the\", \"marker\": {\"color\": \"#19d3f3\", \"symbol\": \"circle\"}, \"mode\": \"markers+text\", \"name\": \"Token: 6 the\", \"orientation\": \"v\", \"showlegend\": true, \"text\": [\"the\"], \"textposition\": \"top center\", \"type\": \"scatter\", \"x\": [19.95526885986328], \"xaxis\": \"x\", \"y\": [-46.080116271972656], \"yaxis\": \"y\"}, {\"hovertemplate\": \"token=Token: 7 SBT<br>Dim1=%{x}<br>Dim2=%{y}<br>text=%{text}<extra></extra>\", \"legendgroup\": \"Token: 7 SBT\", \"marker\": {\"color\": \"#FF6692\", \"symbol\": \"circle\"}, \"mode\": \"markers+text\", \"name\": \"Token: 7 SBT\", \"orientation\": \"v\", \"showlegend\": true, \"text\": [\"SBT\"], \"textposition\": \"top center\", \"type\": \"scatter\", \"x\": [-93.49087524414062], \"xaxis\": \"x\", \"y\": [45.529537200927734], \"yaxis\": \"y\"}, {\"hovertemplate\": \"token=Token: 8 Terminal<br>Dim1=%{x}<br>Dim2=%{y}<br>text=%{text}<extra></extra>\", \"legendgroup\": \"Token: 8 Terminal\", \"marker\": {\"color\": \"#B6E880\", \"symbol\": \"circle\"}, \"mode\": \"markers+text\", \"name\": \"Token: 8 Terminal\", \"orientation\": \"v\", \"showlegend\": true, \"text\": [\"Terminal\"], \"textposition\": \"top center\", \"type\": \"scatter\", \"x\": [-119.32255554199219], \"xaxis\": \"x\", \"y\": [7.586648941040039], \"yaxis\": \"y\"}, {\"hovertemplate\": \"token=Token: 9 .<br>Dim1=%{x}<br>Dim2=%{y}<br>text=%{text}<extra></extra>\", \"legendgroup\": \"Token: 9 .\", \"marker\": {\"color\": \"#FF97FF\", \"symbol\": \"circle\"}, \"mode\": \"markers+text\", \"name\": \"Token: 9 .\", \"orientation\": \"v\", \"showlegend\": true, \"text\": [\".\"], \"textposition\": \"top center\", \"type\": \"scatter\", \"x\": [-1.57831871509552], \"xaxis\": \"x\", \"y\": [7.476250648498535], \"yaxis\": \"y\"}, {\"hovertemplate\": \"token=Token: 10 It<br>Dim1=%{x}<br>Dim2=%{y}<br>text=%{text}<extra></extra>\", \"legendgroup\": \"Token: 10 It\", \"marker\": {\"color\": \"#FECB52\", \"symbol\": \"circle\"}, \"mode\": \"markers+text\", \"name\": \"Token: 10 It\", \"orientation\": \"v\", \"showlegend\": true, \"text\": [\"It\"], \"textposition\": \"top center\", \"type\": \"scatter\", \"x\": [47.300048828125], \"xaxis\": \"x\", \"y\": [1.4819772243499756], \"yaxis\": \"y\"}, {\"hovertemplate\": \"token=Token: 11 was<br>Dim1=%{x}<br>Dim2=%{y}<br>text=%{text}<extra></extra>\", \"legendgroup\": \"Token: 11 was\", \"marker\": {\"color\": \"#636efa\", \"symbol\": \"circle\"}, \"mode\": \"markers+text\", \"name\": \"Token: 11 was\", \"orientation\": \"v\", \"showlegend\": true, \"text\": [\"was\"], \"textposition\": \"top center\", \"type\": \"scatter\", \"x\": [-8.093079566955566], \"xaxis\": \"x\", \"y\": [40.52217102050781], \"yaxis\": \"y\"}, {\"hovertemplate\": \"token=Token: 12 in<br>Dim1=%{x}<br>Dim2=%{y}<br>text=%{text}<extra></extra>\", \"legendgroup\": \"Token: 12 in\", \"marker\": {\"color\": \"#EF553B\", \"symbol\": \"circle\"}, \"mode\": \"markers+text\", \"name\": \"Token: 12 in\", \"orientation\": \"v\", \"showlegend\": true, \"text\": [\"in\"], \"textposition\": \"top center\", \"type\": \"scatter\", \"x\": [76.40691375732422], \"xaxis\": \"x\", \"y\": [6.435245990753174], \"yaxis\": \"y\"}, {\"hovertemplate\": \"token=Token: 13 this<br>Dim1=%{x}<br>Dim2=%{y}<br>text=%{text}<extra></extra>\", \"legendgroup\": \"Token: 13 this\", \"marker\": {\"color\": \"#00cc96\", \"symbol\": \"circle\"}, \"mode\": \"markers+text\", \"name\": \"Token: 13 this\", \"orientation\": \"v\", \"showlegend\": true, \"text\": [\"this\"], \"textposition\": \"top center\", \"type\": \"scatter\", \"x\": [34.06181335449219], \"xaxis\": \"x\", \"y\": [-21.151901245117188], \"yaxis\": \"y\"}, {\"hovertemplate\": \"token=Token: 14 city<br>Dim1=%{x}<br>Dim2=%{y}<br>text=%{text}<extra></extra>\", \"legendgroup\": \"Token: 14 city\", \"marker\": {\"color\": \"#ab63fa\", \"symbol\": \"circle\"}, \"mode\": \"markers+text\", \"name\": \"Token: 14 city\", \"orientation\": \"v\", \"showlegend\": true, \"text\": [\"city\"], \"textposition\": \"top center\", \"type\": \"scatter\", \"x\": [48.23878479003906], \"xaxis\": \"x\", \"y\": [-85.04271697998047], \"yaxis\": \"y\"}, {\"hovertemplate\": \"token=Token: 15 that<br>Dim1=%{x}<br>Dim2=%{y}<br>text=%{text}<extra></extra>\", \"legendgroup\": \"Token: 15 that\", \"marker\": {\"color\": \"#FFA15A\", \"symbol\": \"circle\"}, \"mode\": \"markers+text\", \"name\": \"Token: 15 that\", \"orientation\": \"v\", \"showlegend\": true, \"text\": [\"that\"], \"textposition\": \"top center\", \"type\": \"scatter\", \"x\": [61.742034912109375], \"xaxis\": \"x\", \"y\": [-22.650150299072266], \"yaxis\": \"y\"}, {\"hovertemplate\": \"token=Token: 16 I<br>Dim1=%{x}<br>Dim2=%{y}<br>text=%{text}<extra></extra>\", \"legendgroup\": \"Token: 16 I\", \"marker\": {\"color\": \"#19d3f3\", \"symbol\": \"circle\"}, \"mode\": \"markers+text\", \"name\": \"Token: 16 I\", \"orientation\": \"v\", \"showlegend\": true, \"text\": [\"I\"], \"textposition\": \"top center\", \"type\": \"scatter\", \"x\": [3.9206912517547607], \"xaxis\": \"x\", \"y\": [93.54244232177734], \"yaxis\": \"y\"}, {\"hovertemplate\": \"token=Token: 17 underwent<br>Dim1=%{x}<br>Dim2=%{y}<br>text=%{text}<extra></extra>\", \"legendgroup\": \"Token: 17 underwent\", \"marker\": {\"color\": \"#FF6692\", \"symbol\": \"circle\"}, \"mode\": \"markers+text\", \"name\": \"Token: 17 underwent\", \"orientation\": \"v\", \"showlegend\": true, \"text\": [\"underwent\"], \"textposition\": \"top center\", \"type\": \"scatter\", \"x\": [-82.08341217041016], \"xaxis\": \"x\", \"y\": [-106.47867584228516], \"yaxis\": \"y\"}, {\"hovertemplate\": \"token=Token: 18 my<br>Dim1=%{x}<br>Dim2=%{y}<br>text=%{text}<extra></extra>\", \"legendgroup\": \"Token: 18 my\", \"marker\": {\"color\": \"#B6E880\", \"symbol\": \"circle\"}, \"mode\": \"markers+text\", \"name\": \"Token: 18 my\", \"orientation\": \"v\", \"showlegend\": true, \"text\": [\"my\"], \"textposition\": \"top center\", \"type\": \"scatter\", \"x\": [-26.272844314575195], \"xaxis\": \"x\", \"y\": [85.06840515136719], \"yaxis\": \"y\"}, {\"hovertemplate\": \"token=Token: 19 training<br>Dim1=%{x}<br>Dim2=%{y}<br>text=%{text}<extra></extra>\", \"legendgroup\": \"Token: 19 training\", \"marker\": {\"color\": \"#FF97FF\", \"symbol\": \"circle\"}, \"mode\": \"markers+text\", \"name\": \"Token: 19 training\", \"orientation\": \"v\", \"showlegend\": true, \"text\": [\"training\"], \"textposition\": \"top center\", \"type\": \"scatter\", \"x\": [-71.1767807006836], \"xaxis\": \"x\", \"y\": [-67.62960052490234], \"yaxis\": \"y\"}, {\"hovertemplate\": \"token=Token: 20 at<br>Dim1=%{x}<br>Dim2=%{y}<br>text=%{text}<extra></extra>\", \"legendgroup\": \"Token: 20 at\", \"marker\": {\"color\": \"#FECB52\", \"symbol\": \"circle\"}, \"mode\": \"markers+text\", \"name\": \"Token: 20 at\", \"orientation\": \"v\", \"showlegend\": true, \"text\": [\"at\"], \"textposition\": \"top center\", \"type\": \"scatter\", \"x\": [0.23391093313694], \"xaxis\": \"x\", \"y\": [-74.60662841796875], \"yaxis\": \"y\"}, {\"hovertemplate\": \"token=Token: 21 law<br>Dim1=%{x}<br>Dim2=%{y}<br>text=%{text}<extra></extra>\", \"legendgroup\": \"Token: 21 law\", \"marker\": {\"color\": \"#636efa\", \"symbol\": \"circle\"}, \"mode\": \"markers+text\", \"name\": \"Token: 21 law\", \"orientation\": \"v\", \"showlegend\": true, \"text\": [\"law\"], \"textposition\": \"top center\", \"type\": \"scatter\", \"x\": [-18.8332462310791], \"xaxis\": \"x\", \"y\": [-40.25054931640625], \"yaxis\": \"y\"}, {\"hovertemplate\": \"token=Token: 22 school<br>Dim1=%{x}<br>Dim2=%{y}<br>text=%{text}<extra></extra>\", \"legendgroup\": \"Token: 22 school\", \"marker\": {\"color\": \"#EF553B\", \"symbol\": \"circle\"}, \"mode\": \"markers+text\", \"name\": \"Token: 22 school\", \"orientation\": \"v\", \"showlegend\": true, \"text\": [\"school\"], \"textposition\": \"top center\", \"type\": \"scatter\", \"x\": [-38.55659103393555], \"xaxis\": \"x\", \"y\": [-72.23075103759766], \"yaxis\": \"y\"}, {\"hovertemplate\": \"token=Token: 23 .<br>Dim1=%{x}<br>Dim2=%{y}<br>text=%{text}<extra></extra>\", \"legendgroup\": \"Token: 23 .\", \"marker\": {\"color\": \"#00cc96\", \"symbol\": \"circle\"}, \"mode\": \"markers+text\", \"name\": \"Token: 23 .\", \"orientation\": \"v\", \"showlegend\": true, \"text\": [\".\"], \"textposition\": \"top center\", \"type\": \"scatter\", \"x\": [20.57854652404785], \"xaxis\": \"x\", \"y\": [1.5592124462127686], \"yaxis\": \"y\"}, {\"hovertemplate\": \"token=Token: 24 There<br>Dim1=%{x}<br>Dim2=%{y}<br>text=%{text}<extra></extra>\", \"legendgroup\": \"Token: 24 There\", \"marker\": {\"color\": \"#ab63fa\", \"symbol\": \"circle\"}, \"mode\": \"markers+text\", \"name\": \"Token: 24 There\", \"orientation\": \"v\", \"showlegend\": true, \"text\": [\"There\"], \"textposition\": \"top center\", \"type\": \"scatter\", \"x\": [21.14507484436035], \"xaxis\": \"x\", \"y\": [28.799823760986328], \"yaxis\": \"y\"}, {\"hovertemplate\": \"token=Token: 25 were<br>Dim1=%{x}<br>Dim2=%{y}<br>text=%{text}<extra></extra>\", \"legendgroup\": \"Token: 25 were\", \"marker\": {\"color\": \"#FFA15A\", \"symbol\": \"circle\"}, \"mode\": \"markers+text\", \"name\": \"Token: 25 were\", \"orientation\": \"v\", \"showlegend\": true, \"text\": [\"were\"], \"textposition\": \"top center\", \"type\": \"scatter\", \"x\": [86.46197509765625], \"xaxis\": \"x\", \"y\": [-60.896663665771484], \"yaxis\": \"y\"}, {\"hovertemplate\": \"token=Token: 26 so<br>Dim1=%{x}<br>Dim2=%{y}<br>text=%{text}<extra></extra>\", \"legendgroup\": \"Token: 26 so\", \"marker\": {\"color\": \"#19d3f3\", \"symbol\": \"circle\"}, \"mode\": \"markers+text\", \"name\": \"Token: 26 so\", \"orientation\": \"v\", \"showlegend\": true, \"text\": [\"so\"], \"textposition\": \"top center\", \"type\": \"scatter\", \"x\": [47.04789733886719], \"xaxis\": \"x\", \"y\": [26.544418334960938], \"yaxis\": \"y\"}, {\"hovertemplate\": \"token=Token: 27 many<br>Dim1=%{x}<br>Dim2=%{y}<br>text=%{text}<extra></extra>\", \"legendgroup\": \"Token: 27 many\", \"marker\": {\"color\": \"#FF6692\", \"symbol\": \"circle\"}, \"mode\": \"markers+text\", \"name\": \"Token: 27 many\", \"orientation\": \"v\", \"showlegend\": true, \"text\": [\"many\"], \"textposition\": \"top center\", \"type\": \"scatter\", \"x\": [47.42206573486328], \"xaxis\": \"x\", \"y\": [53.46150207519531], \"yaxis\": \"y\"}, {\"hovertemplate\": \"token=Token: 28 qualified<br>Dim1=%{x}<br>Dim2=%{y}<br>text=%{text}<extra></extra>\", \"legendgroup\": \"Token: 28 qualified\", \"marker\": {\"color\": \"#B6E880\", \"symbol\": \"circle\"}, \"mode\": \"markers+text\", \"name\": \"Token: 28 qualified\", \"orientation\": \"v\", \"showlegend\": true, \"text\": [\"qualified\"], \"textposition\": \"top center\", \"type\": \"scatter\", \"x\": [60.416175842285156], \"xaxis\": \"x\", \"y\": [91.77191162109375], \"yaxis\": \"y\"}, {\"hovertemplate\": \"token=Token: 29 professors<br>Dim1=%{x}<br>Dim2=%{y}<br>text=%{text}<extra></extra>\", \"legendgroup\": \"Token: 29 professors\", \"marker\": {\"color\": \"#FF97FF\", \"symbol\": \"circle\"}, \"mode\": \"markers+text\", \"name\": \"Token: 29 professors\", \"orientation\": \"v\", \"showlegend\": true, \"text\": [\"professors\"], \"textposition\": \"top center\", \"type\": \"scatter\", \"x\": [-54.083587646484375], \"xaxis\": \"x\", \"y\": [-34.27402877807617], \"yaxis\": \"y\"}, {\"hovertemplate\": \"token=Token: 30 who<br>Dim1=%{x}<br>Dim2=%{y}<br>text=%{text}<extra></extra>\", \"legendgroup\": \"Token: 30 who\", \"marker\": {\"color\": \"#FECB52\", \"symbol\": \"circle\"}, \"mode\": \"markers+text\", \"name\": \"Token: 30 who\", \"orientation\": \"v\", \"showlegend\": true, \"text\": [\"who\"], \"textposition\": \"top center\", \"type\": \"scatter\", \"x\": [15.253020286560059], \"xaxis\": \"x\", \"y\": [61.84139633178711], \"yaxis\": \"y\"}, {\"hovertemplate\": \"token=Token: 31 used<br>Dim1=%{x}<br>Dim2=%{y}<br>text=%{text}<extra></extra>\", \"legendgroup\": \"Token: 31 used\", \"marker\": {\"color\": \"#636efa\", \"symbol\": \"circle\"}, \"mode\": \"markers+text\", \"name\": \"Token: 31 used\", \"orientation\": \"v\", \"showlegend\": true, \"text\": [\"used\"], \"textposition\": \"top center\", \"type\": \"scatter\", \"x\": [81.67333984375], \"xaxis\": \"x\", \"y\": [41.70137023925781], \"yaxis\": \"y\"}, {\"hovertemplate\": \"token=Token: 32 to<br>Dim1=%{x}<br>Dim2=%{y}<br>text=%{text}<extra></extra>\", \"legendgroup\": \"Token: 32 to\", \"marker\": {\"color\": \"#EF553B\", \"symbol\": \"circle\"}, \"mode\": \"markers+text\", \"name\": \"Token: 32 to\", \"orientation\": \"v\", \"showlegend\": true, \"text\": [\"to\"], \"textposition\": \"top center\", \"type\": \"scatter\", \"x\": [93.29993438720703], \"xaxis\": \"x\", \"y\": [-23.307662963867188], \"yaxis\": \"y\"}, {\"hovertemplate\": \"token=Token: 33 train<br>Dim1=%{x}<br>Dim2=%{y}<br>text=%{text}<extra></extra>\", \"legendgroup\": \"Token: 33 train\", \"marker\": {\"color\": \"#00cc96\", \"symbol\": \"circle\"}, \"mode\": \"markers+text\", \"name\": \"Token: 33 train\", \"orientation\": \"v\", \"showlegend\": true, \"text\": [\"train\"], \"textposition\": \"top center\", \"type\": \"scatter\", \"x\": [-91.23129272460938], \"xaxis\": \"x\", \"y\": [-11.83560562133789], \"yaxis\": \"y\"}, {\"hovertemplate\": \"token=Token: 34 us<br>Dim1=%{x}<br>Dim2=%{y}<br>text=%{text}<extra></extra>\", \"legendgroup\": \"Token: 34 us\", \"marker\": {\"color\": \"#ab63fa\", \"symbol\": \"circle\"}, \"mode\": \"markers+text\", \"name\": \"Token: 34 us\", \"orientation\": \"v\", \"showlegend\": true, \"text\": [\"us\"], \"textposition\": \"top center\", \"type\": \"scatter\", \"x\": [116.87364196777344], \"xaxis\": \"x\", \"y\": [6.754785537719727], \"yaxis\": \"y\"}, {\"hovertemplate\": \"token=Token: 35 back<br>Dim1=%{x}<br>Dim2=%{y}<br>text=%{text}<extra></extra>\", \"legendgroup\": \"Token: 35 back\", \"marker\": {\"color\": \"#FFA15A\", \"symbol\": \"circle\"}, \"mode\": \"markers+text\", \"name\": \"Token: 35 back\", \"orientation\": \"v\", \"showlegend\": true, \"text\": [\"back\"], \"textposition\": \"top center\", \"type\": \"scatter\", \"x\": [-30.608829498291016], \"xaxis\": \"x\", \"y\": [-5.080663681030273], \"yaxis\": \"y\"}, {\"hovertemplate\": \"token=Token: 36 then<br>Dim1=%{x}<br>Dim2=%{y}<br>text=%{text}<extra></extra>\", \"legendgroup\": \"Token: 36 then\", \"marker\": {\"color\": \"#19d3f3\", \"symbol\": \"circle\"}, \"mode\": \"markers+text\", \"name\": \"Token: 36 then\", \"orientation\": \"v\", \"showlegend\": true, \"text\": [\"then\"], \"textposition\": \"top center\", \"type\": \"scatter\", \"x\": [-28.691143035888672], \"xaxis\": \"x\", \"y\": [22.27337646484375], \"yaxis\": \"y\"}, {\"hovertemplate\": \"token=Token: 37 .<br>Dim1=%{x}<br>Dim2=%{y}<br>text=%{text}<extra></extra>\", \"legendgroup\": \"Token: 37 .\", \"marker\": {\"color\": \"#FF6692\", \"symbol\": \"circle\"}, \"mode\": \"markers+text\", \"name\": \"Token: 37 .\", \"orientation\": \"v\", \"showlegend\": true, \"text\": [\".\"], \"textposition\": \"top center\", \"type\": \"scatter\", \"x\": [3.7668347358703613], \"xaxis\": \"x\", \"y\": [-17.693599700927734], \"yaxis\": \"y\"}],                        {\"height\": 400, \"legend\": {\"title\": {\"text\": \"token\"}, \"tracegroupgap\": 0}, \"margin\": {\"t\": 60}, \"template\": {\"data\": {\"bar\": [{\"error_x\": {\"color\": \"#2a3f5f\"}, \"error_y\": {\"color\": \"#2a3f5f\"}, \"marker\": {\"line\": {\"color\": \"#E5ECF6\", \"width\": 0.5}}, \"type\": \"bar\"}], \"barpolar\": [{\"marker\": {\"line\": {\"color\": \"#E5ECF6\", \"width\": 0.5}}, \"type\": \"barpolar\"}], \"carpet\": [{\"aaxis\": {\"endlinecolor\": \"#2a3f5f\", \"gridcolor\": \"white\", \"linecolor\": \"white\", \"minorgridcolor\": \"white\", \"startlinecolor\": \"#2a3f5f\"}, \"baxis\": {\"endlinecolor\": \"#2a3f5f\", \"gridcolor\": \"white\", \"linecolor\": \"white\", \"minorgridcolor\": \"white\", \"startlinecolor\": \"#2a3f5f\"}, \"type\": \"carpet\"}], \"choropleth\": [{\"colorbar\": {\"outlinewidth\": 0, \"ticks\": \"\"}, \"type\": \"choropleth\"}], \"contour\": [{\"colorbar\": {\"outlinewidth\": 0, \"ticks\": \"\"}, \"colorscale\": [[0.0, \"#0d0887\"], [0.1111111111111111, \"#46039f\"], [0.2222222222222222, \"#7201a8\"], [0.3333333333333333, \"#9c179e\"], [0.4444444444444444, \"#bd3786\"], [0.5555555555555556, \"#d8576b\"], [0.6666666666666666, \"#ed7953\"], [0.7777777777777778, \"#fb9f3a\"], [0.8888888888888888, \"#fdca26\"], [1.0, \"#f0f921\"]], \"type\": \"contour\"}], \"contourcarpet\": [{\"colorbar\": {\"outlinewidth\": 0, \"ticks\": \"\"}, \"type\": \"contourcarpet\"}], \"heatmap\": [{\"colorbar\": {\"outlinewidth\": 0, \"ticks\": \"\"}, \"colorscale\": [[0.0, \"#0d0887\"], [0.1111111111111111, \"#46039f\"], [0.2222222222222222, \"#7201a8\"], [0.3333333333333333, \"#9c179e\"], [0.4444444444444444, \"#bd3786\"], [0.5555555555555556, \"#d8576b\"], [0.6666666666666666, \"#ed7953\"], [0.7777777777777778, \"#fb9f3a\"], [0.8888888888888888, \"#fdca26\"], [1.0, \"#f0f921\"]], \"type\": \"heatmap\"}], \"heatmapgl\": [{\"colorbar\": {\"outlinewidth\": 0, \"ticks\": \"\"}, \"colorscale\": [[0.0, \"#0d0887\"], [0.1111111111111111, \"#46039f\"], [0.2222222222222222, \"#7201a8\"], [0.3333333333333333, \"#9c179e\"], [0.4444444444444444, \"#bd3786\"], [0.5555555555555556, \"#d8576b\"], [0.6666666666666666, \"#ed7953\"], [0.7777777777777778, \"#fb9f3a\"], [0.8888888888888888, \"#fdca26\"], [1.0, \"#f0f921\"]], \"type\": \"heatmapgl\"}], \"histogram\": [{\"marker\": {\"colorbar\": {\"outlinewidth\": 0, \"ticks\": \"\"}}, \"type\": \"histogram\"}], \"histogram2d\": [{\"colorbar\": {\"outlinewidth\": 0, \"ticks\": \"\"}, \"colorscale\": [[0.0, \"#0d0887\"], [0.1111111111111111, \"#46039f\"], [0.2222222222222222, \"#7201a8\"], [0.3333333333333333, \"#9c179e\"], [0.4444444444444444, \"#bd3786\"], [0.5555555555555556, \"#d8576b\"], [0.6666666666666666, \"#ed7953\"], [0.7777777777777778, \"#fb9f3a\"], [0.8888888888888888, \"#fdca26\"], [1.0, \"#f0f921\"]], \"type\": \"histogram2d\"}], \"histogram2dcontour\": [{\"colorbar\": {\"outlinewidth\": 0, \"ticks\": \"\"}, \"colorscale\": [[0.0, \"#0d0887\"], [0.1111111111111111, \"#46039f\"], [0.2222222222222222, \"#7201a8\"], [0.3333333333333333, \"#9c179e\"], [0.4444444444444444, \"#bd3786\"], [0.5555555555555556, \"#d8576b\"], [0.6666666666666666, \"#ed7953\"], [0.7777777777777778, \"#fb9f3a\"], [0.8888888888888888, \"#fdca26\"], [1.0, \"#f0f921\"]], \"type\": \"histogram2dcontour\"}], \"mesh3d\": [{\"colorbar\": {\"outlinewidth\": 0, \"ticks\": \"\"}, \"type\": \"mesh3d\"}], \"parcoords\": [{\"line\": {\"colorbar\": {\"outlinewidth\": 0, \"ticks\": \"\"}}, \"type\": \"parcoords\"}], \"pie\": [{\"automargin\": true, \"type\": \"pie\"}], \"scatter\": [{\"marker\": {\"colorbar\": {\"outlinewidth\": 0, \"ticks\": \"\"}}, \"type\": \"scatter\"}], \"scatter3d\": [{\"line\": {\"colorbar\": {\"outlinewidth\": 0, \"ticks\": \"\"}}, \"marker\": {\"colorbar\": {\"outlinewidth\": 0, \"ticks\": \"\"}}, \"type\": \"scatter3d\"}], \"scattercarpet\": [{\"marker\": {\"colorbar\": {\"outlinewidth\": 0, \"ticks\": \"\"}}, \"type\": \"scattercarpet\"}], \"scattergeo\": [{\"marker\": {\"colorbar\": {\"outlinewidth\": 0, \"ticks\": \"\"}}, \"type\": \"scattergeo\"}], \"scattergl\": [{\"marker\": {\"colorbar\": {\"outlinewidth\": 0, \"ticks\": \"\"}}, \"type\": \"scattergl\"}], \"scattermapbox\": [{\"marker\": {\"colorbar\": {\"outlinewidth\": 0, \"ticks\": \"\"}}, \"type\": \"scattermapbox\"}], \"scatterpolar\": [{\"marker\": {\"colorbar\": {\"outlinewidth\": 0, \"ticks\": \"\"}}, \"type\": \"scatterpolar\"}], \"scatterpolargl\": [{\"marker\": {\"colorbar\": {\"outlinewidth\": 0, \"ticks\": \"\"}}, \"type\": \"scatterpolargl\"}], \"scatterternary\": [{\"marker\": {\"colorbar\": {\"outlinewidth\": 0, \"ticks\": \"\"}}, \"type\": \"scatterternary\"}], \"surface\": [{\"colorbar\": {\"outlinewidth\": 0, \"ticks\": \"\"}, \"colorscale\": [[0.0, \"#0d0887\"], [0.1111111111111111, \"#46039f\"], [0.2222222222222222, \"#7201a8\"], [0.3333333333333333, \"#9c179e\"], [0.4444444444444444, \"#bd3786\"], [0.5555555555555556, \"#d8576b\"], [0.6666666666666666, \"#ed7953\"], [0.7777777777777778, \"#fb9f3a\"], [0.8888888888888888, \"#fdca26\"], [1.0, \"#f0f921\"]], \"type\": \"surface\"}], \"table\": [{\"cells\": {\"fill\": {\"color\": \"#EBF0F8\"}, \"line\": {\"color\": \"white\"}}, \"header\": {\"fill\": {\"color\": \"#C8D4E3\"}, \"line\": {\"color\": \"white\"}}, \"type\": \"table\"}]}, \"layout\": {\"annotationdefaults\": {\"arrowcolor\": \"#2a3f5f\", \"arrowhead\": 0, \"arrowwidth\": 1}, \"autotypenumbers\": \"strict\", \"coloraxis\": {\"colorbar\": {\"outlinewidth\": 0, \"ticks\": \"\"}}, \"colorscale\": {\"diverging\": [[0, \"#8e0152\"], [0.1, \"#c51b7d\"], [0.2, \"#de77ae\"], [0.3, \"#f1b6da\"], [0.4, \"#fde0ef\"], [0.5, \"#f7f7f7\"], [0.6, \"#e6f5d0\"], [0.7, \"#b8e186\"], [0.8, \"#7fbc41\"], [0.9, \"#4d9221\"], [1, \"#276419\"]], \"sequential\": [[0.0, \"#0d0887\"], [0.1111111111111111, \"#46039f\"], [0.2222222222222222, \"#7201a8\"], [0.3333333333333333, \"#9c179e\"], [0.4444444444444444, \"#bd3786\"], [0.5555555555555556, \"#d8576b\"], [0.6666666666666666, \"#ed7953\"], [0.7777777777777778, \"#fb9f3a\"], [0.8888888888888888, \"#fdca26\"], [1.0, \"#f0f921\"]], \"sequentialminus\": [[0.0, \"#0d0887\"], [0.1111111111111111, \"#46039f\"], [0.2222222222222222, \"#7201a8\"], [0.3333333333333333, \"#9c179e\"], [0.4444444444444444, \"#bd3786\"], [0.5555555555555556, \"#d8576b\"], [0.6666666666666666, \"#ed7953\"], [0.7777777777777778, \"#fb9f3a\"], [0.8888888888888888, \"#fdca26\"], [1.0, \"#f0f921\"]]}, \"colorway\": [\"#636efa\", \"#EF553B\", \"#00cc96\", \"#ab63fa\", \"#FFA15A\", \"#19d3f3\", \"#FF6692\", \"#B6E880\", \"#FF97FF\", \"#FECB52\"], \"font\": {\"color\": \"#2a3f5f\"}, \"geo\": {\"bgcolor\": \"white\", \"lakecolor\": \"white\", \"landcolor\": \"#E5ECF6\", \"showlakes\": true, \"showland\": true, \"subunitcolor\": \"white\"}, \"hoverlabel\": {\"align\": \"left\"}, \"hovermode\": \"closest\", \"mapbox\": {\"style\": \"light\"}, \"paper_bgcolor\": \"white\", \"plot_bgcolor\": \"#E5ECF6\", \"polar\": {\"angularaxis\": {\"gridcolor\": \"white\", \"linecolor\": \"white\", \"ticks\": \"\"}, \"bgcolor\": \"#E5ECF6\", \"radialaxis\": {\"gridcolor\": \"white\", \"linecolor\": \"white\", \"ticks\": \"\"}}, \"scene\": {\"xaxis\": {\"backgroundcolor\": \"#E5ECF6\", \"gridcolor\": \"white\", \"gridwidth\": 2, \"linecolor\": \"white\", \"showbackground\": true, \"ticks\": \"\", \"zerolinecolor\": \"white\"}, \"yaxis\": {\"backgroundcolor\": \"#E5ECF6\", \"gridcolor\": \"white\", \"gridwidth\": 2, \"linecolor\": \"white\", \"showbackground\": true, \"ticks\": \"\", \"zerolinecolor\": \"white\"}, \"zaxis\": {\"backgroundcolor\": \"#E5ECF6\", \"gridcolor\": \"white\", \"gridwidth\": 2, \"linecolor\": \"white\", \"showbackground\": true, \"ticks\": \"\", \"zerolinecolor\": \"white\"}}, \"shapedefaults\": {\"line\": {\"color\": \"#2a3f5f\"}}, \"ternary\": {\"aaxis\": {\"gridcolor\": \"white\", \"linecolor\": \"white\", \"ticks\": \"\"}, \"baxis\": {\"gridcolor\": \"white\", \"linecolor\": \"white\", \"ticks\": \"\"}, \"bgcolor\": \"#E5ECF6\", \"caxis\": {\"gridcolor\": \"white\", \"linecolor\": \"white\", \"ticks\": \"\"}}, \"title\": {\"x\": 0.05}, \"xaxis\": {\"automargin\": true, \"gridcolor\": \"white\", \"linecolor\": \"white\", \"ticks\": \"\", \"title\": {\"standoff\": 15}, \"zerolinecolor\": \"white\", \"zerolinewidth\": 2}, \"yaxis\": {\"automargin\": true, \"gridcolor\": \"white\", \"linecolor\": \"white\", \"ticks\": \"\", \"title\": {\"standoff\": 15}, \"zerolinecolor\": \"white\", \"zerolinewidth\": 2}}}, \"title\": {\"text\": \" Glove embeddings\"}, \"xaxis\": {\"anchor\": \"y\", \"domain\": [0.0, 1.0], \"title\": {\"text\": \"Dim1\"}}, \"yaxis\": {\"anchor\": \"x\", \"domain\": [0.0, 1.0], \"title\": {\"text\": \"Dim2\"}}},                        {\"responsive\": true}                    ).then(function(){\n",
       "                            \n",
       "var gd = document.getElementById('39a0b4a2-9334-4231-8a89-e7d96bd47194');\n",
       "var x = new MutationObserver(function (mutations, observer) {{\n",
       "        var display = window.getComputedStyle(gd).display;\n",
       "        if (!display || display === 'none') {{\n",
       "            console.log([gd, 'removed!']);\n",
       "            Plotly.purge(gd);\n",
       "            observer.disconnect();\n",
       "        }}\n",
       "}});\n",
       "\n",
       "// Listen for the removal of the full notebook cells\n",
       "var notebookContainer = gd.closest('#notebook-container');\n",
       "if (notebookContainer) {{\n",
       "    x.observe(notebookContainer, {childList: true});\n",
       "}}\n",
       "\n",
       "// Listen for the clearing of the current output cell\n",
       "var outputEl = gd.closest('.output');\n",
       "if (outputEl) {{\n",
       "    x.observe(outputEl, {childList: true});\n",
       "}}\n",
       "\n",
       "                        })                };                });            </script>        </div>"
      ]
     },
     "metadata": {},
     "output_type": "display_data"
    }
   ],
   "source": [
    "perplexity_s=25\n",
    "glove_embedding = WordEmbeddings('glove')\n",
    "embeddings,tokens=get_embeddings(text,glove_embedding)\n",
    "fig=tsne_plot_embeddings(embeddings,tokens,perplexity_s)\n",
    "fig.update_layout(height=400, title_text=\" Glove embeddings\")\n",
    "fig.show()"
   ]
  },
  {
   "cell_type": "markdown",
   "metadata": {},
   "source": [
    "\n",
    "In the below plot, ELMO was successful is differentiating the word train referring to the locomotive and the word referring to teach or coach (And Oh coach is a homograph too!).\n",
    "\n",
    "This feature known as the word sense disambiguation is key for the [ELMO model](https://arxiv.org/pdf/1802.05365.pdf)"
   ]
  },
  {
   "cell_type": "code",
   "execution_count": 58,
   "metadata": {},
   "outputs": [
    {
     "name": "stdout",
     "output_type": "stream",
     "text": [
      "(37, 3072)\n"
     ]
    },
    {
     "data": {
      "application/vnd.plotly.v1+json": {
       "config": {
        "plotlyServerURL": "https://plot.ly"
       },
       "data": [
        {
         "hovertemplate": "token=Token: 1 The<br>Dim1=%{x}<br>Dim2=%{y}<br>text=%{text}<extra></extra>",
         "legendgroup": "Token: 1 The",
         "marker": {
          "color": "#636efa",
          "symbol": "circle"
         },
         "mode": "markers+text",
         "name": "Token: 1 The",
         "orientation": "v",
         "showlegend": true,
         "text": [
          "The"
         ],
         "textposition": "top center",
         "type": "scatter",
         "x": [
          61.86745071411133
         ],
         "xaxis": "x",
         "y": [
          217.30029296875
         ],
         "yaxis": "y"
        },
        {
         "hovertemplate": "token=Token: 2 train<br>Dim1=%{x}<br>Dim2=%{y}<br>text=%{text}<extra></extra>",
         "legendgroup": "Token: 2 train",
         "marker": {
          "color": "#EF553B",
          "symbol": "circle"
         },
         "mode": "markers+text",
         "name": "Token: 2 train",
         "orientation": "v",
         "showlegend": true,
         "text": [
          "train"
         ],
         "textposition": "top center",
         "type": "scatter",
         "x": [
          -142.74191284179688
         ],
         "xaxis": "x",
         "y": [
          209.53164672851562
         ],
         "yaxis": "y"
        },
        {
         "hovertemplate": "token=Token: 3 briefly<br>Dim1=%{x}<br>Dim2=%{y}<br>text=%{text}<extra></extra>",
         "legendgroup": "Token: 3 briefly",
         "marker": {
          "color": "#00cc96",
          "symbol": "circle"
         },
         "mode": "markers+text",
         "name": "Token: 3 briefly",
         "orientation": "v",
         "showlegend": true,
         "text": [
          "briefly"
         ],
         "textposition": "top center",
         "type": "scatter",
         "x": [
          148.15335083007812
         ],
         "xaxis": "x",
         "y": [
          -206.33106994628906
         ],
         "yaxis": "y"
        },
        {
         "hovertemplate": "token=Token: 4 stopped<br>Dim1=%{x}<br>Dim2=%{y}<br>text=%{text}<extra></extra>",
         "legendgroup": "Token: 4 stopped",
         "marker": {
          "color": "#ab63fa",
          "symbol": "circle"
         },
         "mode": "markers+text",
         "name": "Token: 4 stopped",
         "orientation": "v",
         "showlegend": true,
         "text": [
          "stopped"
         ],
         "textposition": "top center",
         "type": "scatter",
         "x": [
          -81.21477508544922
         ],
         "xaxis": "x",
         "y": [
          -13.410231590270996
         ],
         "yaxis": "y"
        },
        {
         "hovertemplate": "token=Token: 5 at<br>Dim1=%{x}<br>Dim2=%{y}<br>text=%{text}<extra></extra>",
         "legendgroup": "Token: 5 at",
         "marker": {
          "color": "#FFA15A",
          "symbol": "circle"
         },
         "mode": "markers+text",
         "name": "Token: 5 at",
         "orientation": "v",
         "showlegend": true,
         "text": [
          "at"
         ],
         "textposition": "top center",
         "type": "scatter",
         "x": [
          -18.94334602355957
         ],
         "xaxis": "x",
         "y": [
          78.55294036865234
         ],
         "yaxis": "y"
        },
        {
         "hovertemplate": "token=Token: 6 the<br>Dim1=%{x}<br>Dim2=%{y}<br>text=%{text}<extra></extra>",
         "legendgroup": "Token: 6 the",
         "marker": {
          "color": "#19d3f3",
          "symbol": "circle"
         },
         "mode": "markers+text",
         "name": "Token: 6 the",
         "orientation": "v",
         "showlegend": true,
         "text": [
          "the"
         ],
         "textposition": "top center",
         "type": "scatter",
         "x": [
          -2.18548321723938
         ],
         "xaxis": "x",
         "y": [
          149.8523712158203
         ],
         "yaxis": "y"
        },
        {
         "hovertemplate": "token=Token: 7 SBT<br>Dim1=%{x}<br>Dim2=%{y}<br>text=%{text}<extra></extra>",
         "legendgroup": "Token: 7 SBT",
         "marker": {
          "color": "#FF6692",
          "symbol": "circle"
         },
         "mode": "markers+text",
         "name": "Token: 7 SBT",
         "orientation": "v",
         "showlegend": true,
         "text": [
          "SBT"
         ],
         "textposition": "top center",
         "type": "scatter",
         "x": [
          -26.79720115661621
         ],
         "xaxis": "x",
         "y": [
          214.47735595703125
         ],
         "yaxis": "y"
        },
        {
         "hovertemplate": "token=Token: 8 Terminal<br>Dim1=%{x}<br>Dim2=%{y}<br>text=%{text}<extra></extra>",
         "legendgroup": "Token: 8 Terminal",
         "marker": {
          "color": "#B6E880",
          "symbol": "circle"
         },
         "mode": "markers+text",
         "name": "Token: 8 Terminal",
         "orientation": "v",
         "showlegend": true,
         "text": [
          "Terminal"
         ],
         "textposition": "top center",
         "type": "scatter",
         "x": [
          -52.960933685302734
         ],
         "xaxis": "x",
         "y": [
          294.3909606933594
         ],
         "yaxis": "y"
        },
        {
         "hovertemplate": "token=Token: 9 .<br>Dim1=%{x}<br>Dim2=%{y}<br>text=%{text}<extra></extra>",
         "legendgroup": "Token: 9 .",
         "marker": {
          "color": "#FF97FF",
          "symbol": "circle"
         },
         "mode": "markers+text",
         "name": "Token: 9 .",
         "orientation": "v",
         "showlegend": true,
         "text": [
          "."
         ],
         "textposition": "top center",
         "type": "scatter",
         "x": [
          227.91336059570312
         ],
         "xaxis": "x",
         "y": [
          96.91969299316406
         ],
         "yaxis": "y"
        },
        {
         "hovertemplate": "token=Token: 10 It<br>Dim1=%{x}<br>Dim2=%{y}<br>text=%{text}<extra></extra>",
         "legendgroup": "Token: 10 It",
         "marker": {
          "color": "#FECB52",
          "symbol": "circle"
         },
         "mode": "markers+text",
         "name": "Token: 10 It",
         "orientation": "v",
         "showlegend": true,
         "text": [
          "It"
         ],
         "textposition": "top center",
         "type": "scatter",
         "x": [
          -139.87867736816406
         ],
         "xaxis": "x",
         "y": [
          113.09581756591797
         ],
         "yaxis": "y"
        },
        {
         "hovertemplate": "token=Token: 11 was<br>Dim1=%{x}<br>Dim2=%{y}<br>text=%{text}<extra></extra>",
         "legendgroup": "Token: 11 was",
         "marker": {
          "color": "#636efa",
          "symbol": "circle"
         },
         "mode": "markers+text",
         "name": "Token: 11 was",
         "orientation": "v",
         "showlegend": true,
         "text": [
          "was"
         ],
         "textposition": "top center",
         "type": "scatter",
         "x": [
          -25.274457931518555
         ],
         "xaxis": "x",
         "y": [
          -111.63445281982422
         ],
         "yaxis": "y"
        },
        {
         "hovertemplate": "token=Token: 12 in<br>Dim1=%{x}<br>Dim2=%{y}<br>text=%{text}<extra></extra>",
         "legendgroup": "Token: 12 in",
         "marker": {
          "color": "#EF553B",
          "symbol": "circle"
         },
         "mode": "markers+text",
         "name": "Token: 12 in",
         "orientation": "v",
         "showlegend": true,
         "text": [
          "in"
         ],
         "textposition": "top center",
         "type": "scatter",
         "x": [
          -75.92345428466797
         ],
         "xaxis": "x",
         "y": [
          55.88993835449219
         ],
         "yaxis": "y"
        },
        {
         "hovertemplate": "token=Token: 13 this<br>Dim1=%{x}<br>Dim2=%{y}<br>text=%{text}<extra></extra>",
         "legendgroup": "Token: 13 this",
         "marker": {
          "color": "#00cc96",
          "symbol": "circle"
         },
         "mode": "markers+text",
         "name": "Token: 13 this",
         "orientation": "v",
         "showlegend": true,
         "text": [
          "this"
         ],
         "textposition": "top center",
         "type": "scatter",
         "x": [
          -66.38426208496094
         ],
         "xaxis": "x",
         "y": [
          137.8779754638672
         ],
         "yaxis": "y"
        },
        {
         "hovertemplate": "token=Token: 14 city<br>Dim1=%{x}<br>Dim2=%{y}<br>text=%{text}<extra></extra>",
         "legendgroup": "Token: 14 city",
         "marker": {
          "color": "#ab63fa",
          "symbol": "circle"
         },
         "mode": "markers+text",
         "name": "Token: 14 city",
         "orientation": "v",
         "showlegend": true,
         "text": [
          "city"
         ],
         "textposition": "top center",
         "type": "scatter",
         "x": [
          112.68873596191406
         ],
         "xaxis": "x",
         "y": [
          76.16449737548828
         ],
         "yaxis": "y"
        },
        {
         "hovertemplate": "token=Token: 15 that<br>Dim1=%{x}<br>Dim2=%{y}<br>text=%{text}<extra></extra>",
         "legendgroup": "Token: 15 that",
         "marker": {
          "color": "#FFA15A",
          "symbol": "circle"
         },
         "mode": "markers+text",
         "name": "Token: 15 that",
         "orientation": "v",
         "showlegend": true,
         "text": [
          "that"
         ],
         "textposition": "top center",
         "type": "scatter",
         "x": [
          44.33334732055664
         ],
         "xaxis": "x",
         "y": [
          67.51286315917969
         ],
         "yaxis": "y"
        },
        {
         "hovertemplate": "token=Token: 16 I<br>Dim1=%{x}<br>Dim2=%{y}<br>text=%{text}<extra></extra>",
         "legendgroup": "Token: 16 I",
         "marker": {
          "color": "#19d3f3",
          "symbol": "circle"
         },
         "mode": "markers+text",
         "name": "Token: 16 I",
         "orientation": "v",
         "showlegend": true,
         "text": [
          "I"
         ],
         "textposition": "top center",
         "type": "scatter",
         "x": [
          66.99311828613281
         ],
         "xaxis": "x",
         "y": [
          134.4508819580078
         ],
         "yaxis": "y"
        },
        {
         "hovertemplate": "token=Token: 17 underwent<br>Dim1=%{x}<br>Dim2=%{y}<br>text=%{text}<extra></extra>",
         "legendgroup": "Token: 17 underwent",
         "marker": {
          "color": "#FF6692",
          "symbol": "circle"
         },
         "mode": "markers+text",
         "name": "Token: 17 underwent",
         "orientation": "v",
         "showlegend": true,
         "text": [
          "underwent"
         ],
         "textposition": "top center",
         "type": "scatter",
         "x": [
          -52.57014083862305
         ],
         "xaxis": "x",
         "y": [
          -184.94219970703125
         ],
         "yaxis": "y"
        },
        {
         "hovertemplate": "token=Token: 18 my<br>Dim1=%{x}<br>Dim2=%{y}<br>text=%{text}<extra></extra>",
         "legendgroup": "Token: 18 my",
         "marker": {
          "color": "#B6E880",
          "symbol": "circle"
         },
         "mode": "markers+text",
         "name": "Token: 18 my",
         "orientation": "v",
         "showlegend": true,
         "text": [
          "my"
         ],
         "textposition": "top center",
         "type": "scatter",
         "x": [
          140.2004852294922
         ],
         "xaxis": "x",
         "y": [
          157.0067596435547
         ],
         "yaxis": "y"
        },
        {
         "hovertemplate": "token=Token: 19 training<br>Dim1=%{x}<br>Dim2=%{y}<br>text=%{text}<extra></extra>",
         "legendgroup": "Token: 19 training",
         "marker": {
          "color": "#FF97FF",
          "symbol": "circle"
         },
         "mode": "markers+text",
         "name": "Token: 19 training",
         "orientation": "v",
         "showlegend": true,
         "text": [
          "training"
         ],
         "textposition": "top center",
         "type": "scatter",
         "x": [
          54.11568832397461
         ],
         "xaxis": "x",
         "y": [
          1.8202095031738281
         ],
         "yaxis": "y"
        },
        {
         "hovertemplate": "token=Token: 20 at<br>Dim1=%{x}<br>Dim2=%{y}<br>text=%{text}<extra></extra>",
         "legendgroup": "Token: 20 at",
         "marker": {
          "color": "#FECB52",
          "symbol": "circle"
         },
         "mode": "markers+text",
         "name": "Token: 20 at",
         "orientation": "v",
         "showlegend": true,
         "text": [
          "at"
         ],
         "textposition": "top center",
         "type": "scatter",
         "x": [
          -13.018631935119629
         ],
         "xaxis": "x",
         "y": [
          16.378564834594727
         ],
         "yaxis": "y"
        },
        {
         "hovertemplate": "token=Token: 21 law<br>Dim1=%{x}<br>Dim2=%{y}<br>text=%{text}<extra></extra>",
         "legendgroup": "Token: 21 law",
         "marker": {
          "color": "#636efa",
          "symbol": "circle"
         },
         "mode": "markers+text",
         "name": "Token: 21 law",
         "orientation": "v",
         "showlegend": true,
         "text": [
          "law"
         ],
         "textposition": "top center",
         "type": "scatter",
         "x": [
          26.580739974975586
         ],
         "xaxis": "x",
         "y": [
          -253.62759399414062
         ],
         "yaxis": "y"
        },
        {
         "hovertemplate": "token=Token: 22 school<br>Dim1=%{x}<br>Dim2=%{y}<br>text=%{text}<extra></extra>",
         "legendgroup": "Token: 22 school",
         "marker": {
          "color": "#EF553B",
          "symbol": "circle"
         },
         "mode": "markers+text",
         "name": "Token: 22 school",
         "orientation": "v",
         "showlegend": true,
         "text": [
          "school"
         ],
         "textposition": "top center",
         "type": "scatter",
         "x": [
          83.92652893066406
         ],
         "xaxis": "x",
         "y": [
          -47.702728271484375
         ],
         "yaxis": "y"
        },
        {
         "hovertemplate": "token=Token: 23 .<br>Dim1=%{x}<br>Dim2=%{y}<br>text=%{text}<extra></extra>",
         "legendgroup": "Token: 23 .",
         "marker": {
          "color": "#00cc96",
          "symbol": "circle"
         },
         "mode": "markers+text",
         "name": "Token: 23 .",
         "orientation": "v",
         "showlegend": true,
         "text": [
          "."
         ],
         "textposition": "top center",
         "type": "scatter",
         "x": [
          250.6597137451172
         ],
         "xaxis": "x",
         "y": [
          15.315705299377441
         ],
         "yaxis": "y"
        },
        {
         "hovertemplate": "token=Token: 24 There<br>Dim1=%{x}<br>Dim2=%{y}<br>text=%{text}<extra></extra>",
         "legendgroup": "Token: 24 There",
         "marker": {
          "color": "#ab63fa",
          "symbol": "circle"
         },
         "mode": "markers+text",
         "name": "Token: 24 There",
         "orientation": "v",
         "showlegend": true,
         "text": [
          "There"
         ],
         "textposition": "top center",
         "type": "scatter",
         "x": [
          -205.0316925048828
         ],
         "xaxis": "x",
         "y": [
          94.9184341430664
         ],
         "yaxis": "y"
        },
        {
         "hovertemplate": "token=Token: 25 were<br>Dim1=%{x}<br>Dim2=%{y}<br>text=%{text}<extra></extra>",
         "legendgroup": "Token: 25 were",
         "marker": {
          "color": "#FFA15A",
          "symbol": "circle"
         },
         "mode": "markers+text",
         "name": "Token: 25 were",
         "orientation": "v",
         "showlegend": true,
         "text": [
          "were"
         ],
         "textposition": "top center",
         "type": "scatter",
         "x": [
          -82.47282409667969
         ],
         "xaxis": "x",
         "y": [
          -88.16920471191406
         ],
         "yaxis": "y"
        },
        {
         "hovertemplate": "token=Token: 26 so<br>Dim1=%{x}<br>Dim2=%{y}<br>text=%{text}<extra></extra>",
         "legendgroup": "Token: 26 so",
         "marker": {
          "color": "#19d3f3",
          "symbol": "circle"
         },
         "mode": "markers+text",
         "name": "Token: 26 so",
         "orientation": "v",
         "showlegend": true,
         "text": [
          "so"
         ],
         "textposition": "top center",
         "type": "scatter",
         "x": [
          -141.2101287841797
         ],
         "xaxis": "x",
         "y": [
          -144.78106689453125
         ],
         "yaxis": "y"
        },
        {
         "hovertemplate": "token=Token: 27 many<br>Dim1=%{x}<br>Dim2=%{y}<br>text=%{text}<extra></extra>",
         "legendgroup": "Token: 27 many",
         "marker": {
          "color": "#FF6692",
          "symbol": "circle"
         },
         "mode": "markers+text",
         "name": "Token: 27 many",
         "orientation": "v",
         "showlegend": true,
         "text": [
          "many"
         ],
         "textposition": "top center",
         "type": "scatter",
         "x": [
          -157.06178283691406
         ],
         "xaxis": "x",
         "y": [
          -77.36408996582031
         ],
         "yaxis": "y"
        },
        {
         "hovertemplate": "token=Token: 28 qualified<br>Dim1=%{x}<br>Dim2=%{y}<br>text=%{text}<extra></extra>",
         "legendgroup": "Token: 28 qualified",
         "marker": {
          "color": "#B6E880",
          "symbol": "circle"
         },
         "mode": "markers+text",
         "name": "Token: 28 qualified",
         "orientation": "v",
         "showlegend": true,
         "text": [
          "qualified"
         ],
         "textposition": "top center",
         "type": "scatter",
         "x": [
          -231.04649353027344
         ],
         "xaxis": "x",
         "y": [
          -73.39334106445312
         ],
         "yaxis": "y"
        },
        {
         "hovertemplate": "token=Token: 29 professors<br>Dim1=%{x}<br>Dim2=%{y}<br>text=%{text}<extra></extra>",
         "legendgroup": "Token: 29 professors",
         "marker": {
          "color": "#FF97FF",
          "symbol": "circle"
         },
         "mode": "markers+text",
         "name": "Token: 29 professors",
         "orientation": "v",
         "showlegend": true,
         "text": [
          "professors"
         ],
         "textposition": "top center",
         "type": "scatter",
         "x": [
          -169.9613037109375
         ],
         "xaxis": "x",
         "y": [
          0.8587648868560791
         ],
         "yaxis": "y"
        },
        {
         "hovertemplate": "token=Token: 30 who<br>Dim1=%{x}<br>Dim2=%{y}<br>text=%{text}<extra></extra>",
         "legendgroup": "Token: 30 who",
         "marker": {
          "color": "#FECB52",
          "symbol": "circle"
         },
         "mode": "markers+text",
         "name": "Token: 30 who",
         "orientation": "v",
         "showlegend": true,
         "text": [
          "who"
         ],
         "textposition": "top center",
         "type": "scatter",
         "x": [
          196.75018310546875
         ],
         "xaxis": "x",
         "y": [
          -117.1661605834961
         ],
         "yaxis": "y"
        },
        {
         "hovertemplate": "token=Token: 31 used<br>Dim1=%{x}<br>Dim2=%{y}<br>text=%{text}<extra></extra>",
         "legendgroup": "Token: 31 used",
         "marker": {
          "color": "#636efa",
          "symbol": "circle"
         },
         "mode": "markers+text",
         "name": "Token: 31 used",
         "orientation": "v",
         "showlegend": true,
         "text": [
          "used"
         ],
         "textposition": "top center",
         "type": "scatter",
         "x": [
          59.423885345458984
         ],
         "xaxis": "x",
         "y": [
          -169.67868041992188
         ],
         "yaxis": "y"
        },
        {
         "hovertemplate": "token=Token: 32 to<br>Dim1=%{x}<br>Dim2=%{y}<br>text=%{text}<extra></extra>",
         "legendgroup": "Token: 32 to",
         "marker": {
          "color": "#EF553B",
          "symbol": "circle"
         },
         "mode": "markers+text",
         "name": "Token: 32 to",
         "orientation": "v",
         "showlegend": true,
         "text": [
          "to"
         ],
         "textposition": "top center",
         "type": "scatter",
         "x": [
          6.0777692794799805
         ],
         "xaxis": "x",
         "y": [
          -50.898345947265625
         ],
         "yaxis": "y"
        },
        {
         "hovertemplate": "token=Token: 33 train<br>Dim1=%{x}<br>Dim2=%{y}<br>text=%{text}<extra></extra>",
         "legendgroup": "Token: 33 train",
         "marker": {
          "color": "#00cc96",
          "symbol": "circle"
         },
         "mode": "markers+text",
         "name": "Token: 33 train",
         "orientation": "v",
         "showlegend": true,
         "text": [
          "train"
         ],
         "textposition": "top center",
         "type": "scatter",
         "x": [
          49.03982925415039
         ],
         "xaxis": "x",
         "y": [
          -106.39054107666016
         ],
         "yaxis": "y"
        },
        {
         "hovertemplate": "token=Token: 34 us<br>Dim1=%{x}<br>Dim2=%{y}<br>text=%{text}<extra></extra>",
         "legendgroup": "Token: 34 us",
         "marker": {
          "color": "#ab63fa",
          "symbol": "circle"
         },
         "mode": "markers+text",
         "name": "Token: 34 us",
         "orientation": "v",
         "showlegend": true,
         "text": [
          "us"
         ],
         "textposition": "top center",
         "type": "scatter",
         "x": [
          126.98959350585938
         ],
         "xaxis": "x",
         "y": [
          2.805964946746826
         ],
         "yaxis": "y"
        },
        {
         "hovertemplate": "token=Token: 35 back<br>Dim1=%{x}<br>Dim2=%{y}<br>text=%{text}<extra></extra>",
         "legendgroup": "Token: 35 back",
         "marker": {
          "color": "#FFA15A",
          "symbol": "circle"
         },
         "mode": "markers+text",
         "name": "Token: 35 back",
         "orientation": "v",
         "showlegend": true,
         "text": [
          "back"
         ],
         "textposition": "top center",
         "type": "scatter",
         "x": [
          123.34764862060547
         ],
         "xaxis": "x",
         "y": [
          -105.53434753417969
         ],
         "yaxis": "y"
        },
        {
         "hovertemplate": "token=Token: 36 then<br>Dim1=%{x}<br>Dim2=%{y}<br>text=%{text}<extra></extra>",
         "legendgroup": "Token: 36 then",
         "marker": {
          "color": "#19d3f3",
          "symbol": "circle"
         },
         "mode": "markers+text",
         "name": "Token: 36 then",
         "orientation": "v",
         "showlegend": true,
         "text": [
          "then"
         ],
         "textposition": "top center",
         "type": "scatter",
         "x": [
          171.68057250976562
         ],
         "xaxis": "x",
         "y": [
          -48.715518951416016
         ],
         "yaxis": "y"
        },
        {
         "hovertemplate": "token=Token: 37 .<br>Dim1=%{x}<br>Dim2=%{y}<br>text=%{text}<extra></extra>",
         "legendgroup": "Token: 37 .",
         "marker": {
          "color": "#FF6692",
          "symbol": "circle"
         },
         "mode": "markers+text",
         "name": "Token: 37 .",
         "orientation": "v",
         "showlegend": true,
         "text": [
          "."
         ],
         "textposition": "top center",
         "type": "scatter",
         "x": [
          193.37844848632812
         ],
         "xaxis": "x",
         "y": [
          39.7092399597168
         ],
         "yaxis": "y"
        }
       ],
       "layout": {
        "height": 400,
        "legend": {
         "title": {
          "text": "token"
         },
         "tracegroupgap": 0
        },
        "margin": {
         "t": 60
        },
        "template": {
         "data": {
          "bar": [
           {
            "error_x": {
             "color": "#2a3f5f"
            },
            "error_y": {
             "color": "#2a3f5f"
            },
            "marker": {
             "line": {
              "color": "#E5ECF6",
              "width": 0.5
             }
            },
            "type": "bar"
           }
          ],
          "barpolar": [
           {
            "marker": {
             "line": {
              "color": "#E5ECF6",
              "width": 0.5
             }
            },
            "type": "barpolar"
           }
          ],
          "carpet": [
           {
            "aaxis": {
             "endlinecolor": "#2a3f5f",
             "gridcolor": "white",
             "linecolor": "white",
             "minorgridcolor": "white",
             "startlinecolor": "#2a3f5f"
            },
            "baxis": {
             "endlinecolor": "#2a3f5f",
             "gridcolor": "white",
             "linecolor": "white",
             "minorgridcolor": "white",
             "startlinecolor": "#2a3f5f"
            },
            "type": "carpet"
           }
          ],
          "choropleth": [
           {
            "colorbar": {
             "outlinewidth": 0,
             "ticks": ""
            },
            "type": "choropleth"
           }
          ],
          "contour": [
           {
            "colorbar": {
             "outlinewidth": 0,
             "ticks": ""
            },
            "colorscale": [
             [
              0,
              "#0d0887"
             ],
             [
              0.1111111111111111,
              "#46039f"
             ],
             [
              0.2222222222222222,
              "#7201a8"
             ],
             [
              0.3333333333333333,
              "#9c179e"
             ],
             [
              0.4444444444444444,
              "#bd3786"
             ],
             [
              0.5555555555555556,
              "#d8576b"
             ],
             [
              0.6666666666666666,
              "#ed7953"
             ],
             [
              0.7777777777777778,
              "#fb9f3a"
             ],
             [
              0.8888888888888888,
              "#fdca26"
             ],
             [
              1,
              "#f0f921"
             ]
            ],
            "type": "contour"
           }
          ],
          "contourcarpet": [
           {
            "colorbar": {
             "outlinewidth": 0,
             "ticks": ""
            },
            "type": "contourcarpet"
           }
          ],
          "heatmap": [
           {
            "colorbar": {
             "outlinewidth": 0,
             "ticks": ""
            },
            "colorscale": [
             [
              0,
              "#0d0887"
             ],
             [
              0.1111111111111111,
              "#46039f"
             ],
             [
              0.2222222222222222,
              "#7201a8"
             ],
             [
              0.3333333333333333,
              "#9c179e"
             ],
             [
              0.4444444444444444,
              "#bd3786"
             ],
             [
              0.5555555555555556,
              "#d8576b"
             ],
             [
              0.6666666666666666,
              "#ed7953"
             ],
             [
              0.7777777777777778,
              "#fb9f3a"
             ],
             [
              0.8888888888888888,
              "#fdca26"
             ],
             [
              1,
              "#f0f921"
             ]
            ],
            "type": "heatmap"
           }
          ],
          "heatmapgl": [
           {
            "colorbar": {
             "outlinewidth": 0,
             "ticks": ""
            },
            "colorscale": [
             [
              0,
              "#0d0887"
             ],
             [
              0.1111111111111111,
              "#46039f"
             ],
             [
              0.2222222222222222,
              "#7201a8"
             ],
             [
              0.3333333333333333,
              "#9c179e"
             ],
             [
              0.4444444444444444,
              "#bd3786"
             ],
             [
              0.5555555555555556,
              "#d8576b"
             ],
             [
              0.6666666666666666,
              "#ed7953"
             ],
             [
              0.7777777777777778,
              "#fb9f3a"
             ],
             [
              0.8888888888888888,
              "#fdca26"
             ],
             [
              1,
              "#f0f921"
             ]
            ],
            "type": "heatmapgl"
           }
          ],
          "histogram": [
           {
            "marker": {
             "colorbar": {
              "outlinewidth": 0,
              "ticks": ""
             }
            },
            "type": "histogram"
           }
          ],
          "histogram2d": [
           {
            "colorbar": {
             "outlinewidth": 0,
             "ticks": ""
            },
            "colorscale": [
             [
              0,
              "#0d0887"
             ],
             [
              0.1111111111111111,
              "#46039f"
             ],
             [
              0.2222222222222222,
              "#7201a8"
             ],
             [
              0.3333333333333333,
              "#9c179e"
             ],
             [
              0.4444444444444444,
              "#bd3786"
             ],
             [
              0.5555555555555556,
              "#d8576b"
             ],
             [
              0.6666666666666666,
              "#ed7953"
             ],
             [
              0.7777777777777778,
              "#fb9f3a"
             ],
             [
              0.8888888888888888,
              "#fdca26"
             ],
             [
              1,
              "#f0f921"
             ]
            ],
            "type": "histogram2d"
           }
          ],
          "histogram2dcontour": [
           {
            "colorbar": {
             "outlinewidth": 0,
             "ticks": ""
            },
            "colorscale": [
             [
              0,
              "#0d0887"
             ],
             [
              0.1111111111111111,
              "#46039f"
             ],
             [
              0.2222222222222222,
              "#7201a8"
             ],
             [
              0.3333333333333333,
              "#9c179e"
             ],
             [
              0.4444444444444444,
              "#bd3786"
             ],
             [
              0.5555555555555556,
              "#d8576b"
             ],
             [
              0.6666666666666666,
              "#ed7953"
             ],
             [
              0.7777777777777778,
              "#fb9f3a"
             ],
             [
              0.8888888888888888,
              "#fdca26"
             ],
             [
              1,
              "#f0f921"
             ]
            ],
            "type": "histogram2dcontour"
           }
          ],
          "mesh3d": [
           {
            "colorbar": {
             "outlinewidth": 0,
             "ticks": ""
            },
            "type": "mesh3d"
           }
          ],
          "parcoords": [
           {
            "line": {
             "colorbar": {
              "outlinewidth": 0,
              "ticks": ""
             }
            },
            "type": "parcoords"
           }
          ],
          "pie": [
           {
            "automargin": true,
            "type": "pie"
           }
          ],
          "scatter": [
           {
            "marker": {
             "colorbar": {
              "outlinewidth": 0,
              "ticks": ""
             }
            },
            "type": "scatter"
           }
          ],
          "scatter3d": [
           {
            "line": {
             "colorbar": {
              "outlinewidth": 0,
              "ticks": ""
             }
            },
            "marker": {
             "colorbar": {
              "outlinewidth": 0,
              "ticks": ""
             }
            },
            "type": "scatter3d"
           }
          ],
          "scattercarpet": [
           {
            "marker": {
             "colorbar": {
              "outlinewidth": 0,
              "ticks": ""
             }
            },
            "type": "scattercarpet"
           }
          ],
          "scattergeo": [
           {
            "marker": {
             "colorbar": {
              "outlinewidth": 0,
              "ticks": ""
             }
            },
            "type": "scattergeo"
           }
          ],
          "scattergl": [
           {
            "marker": {
             "colorbar": {
              "outlinewidth": 0,
              "ticks": ""
             }
            },
            "type": "scattergl"
           }
          ],
          "scattermapbox": [
           {
            "marker": {
             "colorbar": {
              "outlinewidth": 0,
              "ticks": ""
             }
            },
            "type": "scattermapbox"
           }
          ],
          "scatterpolar": [
           {
            "marker": {
             "colorbar": {
              "outlinewidth": 0,
              "ticks": ""
             }
            },
            "type": "scatterpolar"
           }
          ],
          "scatterpolargl": [
           {
            "marker": {
             "colorbar": {
              "outlinewidth": 0,
              "ticks": ""
             }
            },
            "type": "scatterpolargl"
           }
          ],
          "scatterternary": [
           {
            "marker": {
             "colorbar": {
              "outlinewidth": 0,
              "ticks": ""
             }
            },
            "type": "scatterternary"
           }
          ],
          "surface": [
           {
            "colorbar": {
             "outlinewidth": 0,
             "ticks": ""
            },
            "colorscale": [
             [
              0,
              "#0d0887"
             ],
             [
              0.1111111111111111,
              "#46039f"
             ],
             [
              0.2222222222222222,
              "#7201a8"
             ],
             [
              0.3333333333333333,
              "#9c179e"
             ],
             [
              0.4444444444444444,
              "#bd3786"
             ],
             [
              0.5555555555555556,
              "#d8576b"
             ],
             [
              0.6666666666666666,
              "#ed7953"
             ],
             [
              0.7777777777777778,
              "#fb9f3a"
             ],
             [
              0.8888888888888888,
              "#fdca26"
             ],
             [
              1,
              "#f0f921"
             ]
            ],
            "type": "surface"
           }
          ],
          "table": [
           {
            "cells": {
             "fill": {
              "color": "#EBF0F8"
             },
             "line": {
              "color": "white"
             }
            },
            "header": {
             "fill": {
              "color": "#C8D4E3"
             },
             "line": {
              "color": "white"
             }
            },
            "type": "table"
           }
          ]
         },
         "layout": {
          "annotationdefaults": {
           "arrowcolor": "#2a3f5f",
           "arrowhead": 0,
           "arrowwidth": 1
          },
          "autotypenumbers": "strict",
          "coloraxis": {
           "colorbar": {
            "outlinewidth": 0,
            "ticks": ""
           }
          },
          "colorscale": {
           "diverging": [
            [
             0,
             "#8e0152"
            ],
            [
             0.1,
             "#c51b7d"
            ],
            [
             0.2,
             "#de77ae"
            ],
            [
             0.3,
             "#f1b6da"
            ],
            [
             0.4,
             "#fde0ef"
            ],
            [
             0.5,
             "#f7f7f7"
            ],
            [
             0.6,
             "#e6f5d0"
            ],
            [
             0.7,
             "#b8e186"
            ],
            [
             0.8,
             "#7fbc41"
            ],
            [
             0.9,
             "#4d9221"
            ],
            [
             1,
             "#276419"
            ]
           ],
           "sequential": [
            [
             0,
             "#0d0887"
            ],
            [
             0.1111111111111111,
             "#46039f"
            ],
            [
             0.2222222222222222,
             "#7201a8"
            ],
            [
             0.3333333333333333,
             "#9c179e"
            ],
            [
             0.4444444444444444,
             "#bd3786"
            ],
            [
             0.5555555555555556,
             "#d8576b"
            ],
            [
             0.6666666666666666,
             "#ed7953"
            ],
            [
             0.7777777777777778,
             "#fb9f3a"
            ],
            [
             0.8888888888888888,
             "#fdca26"
            ],
            [
             1,
             "#f0f921"
            ]
           ],
           "sequentialminus": [
            [
             0,
             "#0d0887"
            ],
            [
             0.1111111111111111,
             "#46039f"
            ],
            [
             0.2222222222222222,
             "#7201a8"
            ],
            [
             0.3333333333333333,
             "#9c179e"
            ],
            [
             0.4444444444444444,
             "#bd3786"
            ],
            [
             0.5555555555555556,
             "#d8576b"
            ],
            [
             0.6666666666666666,
             "#ed7953"
            ],
            [
             0.7777777777777778,
             "#fb9f3a"
            ],
            [
             0.8888888888888888,
             "#fdca26"
            ],
            [
             1,
             "#f0f921"
            ]
           ]
          },
          "colorway": [
           "#636efa",
           "#EF553B",
           "#00cc96",
           "#ab63fa",
           "#FFA15A",
           "#19d3f3",
           "#FF6692",
           "#B6E880",
           "#FF97FF",
           "#FECB52"
          ],
          "font": {
           "color": "#2a3f5f"
          },
          "geo": {
           "bgcolor": "white",
           "lakecolor": "white",
           "landcolor": "#E5ECF6",
           "showlakes": true,
           "showland": true,
           "subunitcolor": "white"
          },
          "hoverlabel": {
           "align": "left"
          },
          "hovermode": "closest",
          "mapbox": {
           "style": "light"
          },
          "paper_bgcolor": "white",
          "plot_bgcolor": "#E5ECF6",
          "polar": {
           "angularaxis": {
            "gridcolor": "white",
            "linecolor": "white",
            "ticks": ""
           },
           "bgcolor": "#E5ECF6",
           "radialaxis": {
            "gridcolor": "white",
            "linecolor": "white",
            "ticks": ""
           }
          },
          "scene": {
           "xaxis": {
            "backgroundcolor": "#E5ECF6",
            "gridcolor": "white",
            "gridwidth": 2,
            "linecolor": "white",
            "showbackground": true,
            "ticks": "",
            "zerolinecolor": "white"
           },
           "yaxis": {
            "backgroundcolor": "#E5ECF6",
            "gridcolor": "white",
            "gridwidth": 2,
            "linecolor": "white",
            "showbackground": true,
            "ticks": "",
            "zerolinecolor": "white"
           },
           "zaxis": {
            "backgroundcolor": "#E5ECF6",
            "gridcolor": "white",
            "gridwidth": 2,
            "linecolor": "white",
            "showbackground": true,
            "ticks": "",
            "zerolinecolor": "white"
           }
          },
          "shapedefaults": {
           "line": {
            "color": "#2a3f5f"
           }
          },
          "ternary": {
           "aaxis": {
            "gridcolor": "white",
            "linecolor": "white",
            "ticks": ""
           },
           "baxis": {
            "gridcolor": "white",
            "linecolor": "white",
            "ticks": ""
           },
           "bgcolor": "#E5ECF6",
           "caxis": {
            "gridcolor": "white",
            "linecolor": "white",
            "ticks": ""
           }
          },
          "title": {
           "x": 0.05
          },
          "xaxis": {
           "automargin": true,
           "gridcolor": "white",
           "linecolor": "white",
           "ticks": "",
           "title": {
            "standoff": 15
           },
           "zerolinecolor": "white",
           "zerolinewidth": 2
          },
          "yaxis": {
           "automargin": true,
           "gridcolor": "white",
           "linecolor": "white",
           "ticks": "",
           "title": {
            "standoff": 15
           },
           "zerolinecolor": "white",
           "zerolinewidth": 2
          }
         }
        },
        "title": {
         "text": " ELMO embeddings"
        },
        "xaxis": {
         "anchor": "y",
         "domain": [
          0,
          1
         ],
         "title": {
          "text": "Dim1"
         }
        },
        "yaxis": {
         "anchor": "x",
         "domain": [
          0,
          1
         ],
         "title": {
          "text": "Dim2"
         }
        }
       }
      },
      "text/html": [
       "<div>                            <div id=\"9e96b34f-d7ee-42a4-bbf1-e1645d551b60\" class=\"plotly-graph-div\" style=\"height:400px; width:100%;\"></div>            <script type=\"text/javascript\">                require([\"plotly\"], function(Plotly) {                    window.PLOTLYENV=window.PLOTLYENV || {};                                    if (document.getElementById(\"9e96b34f-d7ee-42a4-bbf1-e1645d551b60\")) {                    Plotly.newPlot(                        \"9e96b34f-d7ee-42a4-bbf1-e1645d551b60\",                        [{\"hovertemplate\": \"token=Token: 1 The<br>Dim1=%{x}<br>Dim2=%{y}<br>text=%{text}<extra></extra>\", \"legendgroup\": \"Token: 1 The\", \"marker\": {\"color\": \"#636efa\", \"symbol\": \"circle\"}, \"mode\": \"markers+text\", \"name\": \"Token: 1 The\", \"orientation\": \"v\", \"showlegend\": true, \"text\": [\"The\"], \"textposition\": \"top center\", \"type\": \"scatter\", \"x\": [61.86745071411133], \"xaxis\": \"x\", \"y\": [217.30029296875], \"yaxis\": \"y\"}, {\"hovertemplate\": \"token=Token: 2 train<br>Dim1=%{x}<br>Dim2=%{y}<br>text=%{text}<extra></extra>\", \"legendgroup\": \"Token: 2 train\", \"marker\": {\"color\": \"#EF553B\", \"symbol\": \"circle\"}, \"mode\": \"markers+text\", \"name\": \"Token: 2 train\", \"orientation\": \"v\", \"showlegend\": true, \"text\": [\"train\"], \"textposition\": \"top center\", \"type\": \"scatter\", \"x\": [-142.74191284179688], \"xaxis\": \"x\", \"y\": [209.53164672851562], \"yaxis\": \"y\"}, {\"hovertemplate\": \"token=Token: 3 briefly<br>Dim1=%{x}<br>Dim2=%{y}<br>text=%{text}<extra></extra>\", \"legendgroup\": \"Token: 3 briefly\", \"marker\": {\"color\": \"#00cc96\", \"symbol\": \"circle\"}, \"mode\": \"markers+text\", \"name\": \"Token: 3 briefly\", \"orientation\": \"v\", \"showlegend\": true, \"text\": [\"briefly\"], \"textposition\": \"top center\", \"type\": \"scatter\", \"x\": [148.15335083007812], \"xaxis\": \"x\", \"y\": [-206.33106994628906], \"yaxis\": \"y\"}, {\"hovertemplate\": \"token=Token: 4 stopped<br>Dim1=%{x}<br>Dim2=%{y}<br>text=%{text}<extra></extra>\", \"legendgroup\": \"Token: 4 stopped\", \"marker\": {\"color\": \"#ab63fa\", \"symbol\": \"circle\"}, \"mode\": \"markers+text\", \"name\": \"Token: 4 stopped\", \"orientation\": \"v\", \"showlegend\": true, \"text\": [\"stopped\"], \"textposition\": \"top center\", \"type\": \"scatter\", \"x\": [-81.21477508544922], \"xaxis\": \"x\", \"y\": [-13.410231590270996], \"yaxis\": \"y\"}, {\"hovertemplate\": \"token=Token: 5 at<br>Dim1=%{x}<br>Dim2=%{y}<br>text=%{text}<extra></extra>\", \"legendgroup\": \"Token: 5 at\", \"marker\": {\"color\": \"#FFA15A\", \"symbol\": \"circle\"}, \"mode\": \"markers+text\", \"name\": \"Token: 5 at\", \"orientation\": \"v\", \"showlegend\": true, \"text\": [\"at\"], \"textposition\": \"top center\", \"type\": \"scatter\", \"x\": [-18.94334602355957], \"xaxis\": \"x\", \"y\": [78.55294036865234], \"yaxis\": \"y\"}, {\"hovertemplate\": \"token=Token: 6 the<br>Dim1=%{x}<br>Dim2=%{y}<br>text=%{text}<extra></extra>\", \"legendgroup\": \"Token: 6 the\", \"marker\": {\"color\": \"#19d3f3\", \"symbol\": \"circle\"}, \"mode\": \"markers+text\", \"name\": \"Token: 6 the\", \"orientation\": \"v\", \"showlegend\": true, \"text\": [\"the\"], \"textposition\": \"top center\", \"type\": \"scatter\", \"x\": [-2.18548321723938], \"xaxis\": \"x\", \"y\": [149.8523712158203], \"yaxis\": \"y\"}, {\"hovertemplate\": \"token=Token: 7 SBT<br>Dim1=%{x}<br>Dim2=%{y}<br>text=%{text}<extra></extra>\", \"legendgroup\": \"Token: 7 SBT\", \"marker\": {\"color\": \"#FF6692\", \"symbol\": \"circle\"}, \"mode\": \"markers+text\", \"name\": \"Token: 7 SBT\", \"orientation\": \"v\", \"showlegend\": true, \"text\": [\"SBT\"], \"textposition\": \"top center\", \"type\": \"scatter\", \"x\": [-26.79720115661621], \"xaxis\": \"x\", \"y\": [214.47735595703125], \"yaxis\": \"y\"}, {\"hovertemplate\": \"token=Token: 8 Terminal<br>Dim1=%{x}<br>Dim2=%{y}<br>text=%{text}<extra></extra>\", \"legendgroup\": \"Token: 8 Terminal\", \"marker\": {\"color\": \"#B6E880\", \"symbol\": \"circle\"}, \"mode\": \"markers+text\", \"name\": \"Token: 8 Terminal\", \"orientation\": \"v\", \"showlegend\": true, \"text\": [\"Terminal\"], \"textposition\": \"top center\", \"type\": \"scatter\", \"x\": [-52.960933685302734], \"xaxis\": \"x\", \"y\": [294.3909606933594], \"yaxis\": \"y\"}, {\"hovertemplate\": \"token=Token: 9 .<br>Dim1=%{x}<br>Dim2=%{y}<br>text=%{text}<extra></extra>\", \"legendgroup\": \"Token: 9 .\", \"marker\": {\"color\": \"#FF97FF\", \"symbol\": \"circle\"}, \"mode\": \"markers+text\", \"name\": \"Token: 9 .\", \"orientation\": \"v\", \"showlegend\": true, \"text\": [\".\"], \"textposition\": \"top center\", \"type\": \"scatter\", \"x\": [227.91336059570312], \"xaxis\": \"x\", \"y\": [96.91969299316406], \"yaxis\": \"y\"}, {\"hovertemplate\": \"token=Token: 10 It<br>Dim1=%{x}<br>Dim2=%{y}<br>text=%{text}<extra></extra>\", \"legendgroup\": \"Token: 10 It\", \"marker\": {\"color\": \"#FECB52\", \"symbol\": \"circle\"}, \"mode\": \"markers+text\", \"name\": \"Token: 10 It\", \"orientation\": \"v\", \"showlegend\": true, \"text\": [\"It\"], \"textposition\": \"top center\", \"type\": \"scatter\", \"x\": [-139.87867736816406], \"xaxis\": \"x\", \"y\": [113.09581756591797], \"yaxis\": \"y\"}, {\"hovertemplate\": \"token=Token: 11 was<br>Dim1=%{x}<br>Dim2=%{y}<br>text=%{text}<extra></extra>\", \"legendgroup\": \"Token: 11 was\", \"marker\": {\"color\": \"#636efa\", \"symbol\": \"circle\"}, \"mode\": \"markers+text\", \"name\": \"Token: 11 was\", \"orientation\": \"v\", \"showlegend\": true, \"text\": [\"was\"], \"textposition\": \"top center\", \"type\": \"scatter\", \"x\": [-25.274457931518555], \"xaxis\": \"x\", \"y\": [-111.63445281982422], \"yaxis\": \"y\"}, {\"hovertemplate\": \"token=Token: 12 in<br>Dim1=%{x}<br>Dim2=%{y}<br>text=%{text}<extra></extra>\", \"legendgroup\": \"Token: 12 in\", \"marker\": {\"color\": \"#EF553B\", \"symbol\": \"circle\"}, \"mode\": \"markers+text\", \"name\": \"Token: 12 in\", \"orientation\": \"v\", \"showlegend\": true, \"text\": [\"in\"], \"textposition\": \"top center\", \"type\": \"scatter\", \"x\": [-75.92345428466797], \"xaxis\": \"x\", \"y\": [55.88993835449219], \"yaxis\": \"y\"}, {\"hovertemplate\": \"token=Token: 13 this<br>Dim1=%{x}<br>Dim2=%{y}<br>text=%{text}<extra></extra>\", \"legendgroup\": \"Token: 13 this\", \"marker\": {\"color\": \"#00cc96\", \"symbol\": \"circle\"}, \"mode\": \"markers+text\", \"name\": \"Token: 13 this\", \"orientation\": \"v\", \"showlegend\": true, \"text\": [\"this\"], \"textposition\": \"top center\", \"type\": \"scatter\", \"x\": [-66.38426208496094], \"xaxis\": \"x\", \"y\": [137.8779754638672], \"yaxis\": \"y\"}, {\"hovertemplate\": \"token=Token: 14 city<br>Dim1=%{x}<br>Dim2=%{y}<br>text=%{text}<extra></extra>\", \"legendgroup\": \"Token: 14 city\", \"marker\": {\"color\": \"#ab63fa\", \"symbol\": \"circle\"}, \"mode\": \"markers+text\", \"name\": \"Token: 14 city\", \"orientation\": \"v\", \"showlegend\": true, \"text\": [\"city\"], \"textposition\": \"top center\", \"type\": \"scatter\", \"x\": [112.68873596191406], \"xaxis\": \"x\", \"y\": [76.16449737548828], \"yaxis\": \"y\"}, {\"hovertemplate\": \"token=Token: 15 that<br>Dim1=%{x}<br>Dim2=%{y}<br>text=%{text}<extra></extra>\", \"legendgroup\": \"Token: 15 that\", \"marker\": {\"color\": \"#FFA15A\", \"symbol\": \"circle\"}, \"mode\": \"markers+text\", \"name\": \"Token: 15 that\", \"orientation\": \"v\", \"showlegend\": true, \"text\": [\"that\"], \"textposition\": \"top center\", \"type\": \"scatter\", \"x\": [44.33334732055664], \"xaxis\": \"x\", \"y\": [67.51286315917969], \"yaxis\": \"y\"}, {\"hovertemplate\": \"token=Token: 16 I<br>Dim1=%{x}<br>Dim2=%{y}<br>text=%{text}<extra></extra>\", \"legendgroup\": \"Token: 16 I\", \"marker\": {\"color\": \"#19d3f3\", \"symbol\": \"circle\"}, \"mode\": \"markers+text\", \"name\": \"Token: 16 I\", \"orientation\": \"v\", \"showlegend\": true, \"text\": [\"I\"], \"textposition\": \"top center\", \"type\": \"scatter\", \"x\": [66.99311828613281], \"xaxis\": \"x\", \"y\": [134.4508819580078], \"yaxis\": \"y\"}, {\"hovertemplate\": \"token=Token: 17 underwent<br>Dim1=%{x}<br>Dim2=%{y}<br>text=%{text}<extra></extra>\", \"legendgroup\": \"Token: 17 underwent\", \"marker\": {\"color\": \"#FF6692\", \"symbol\": \"circle\"}, \"mode\": \"markers+text\", \"name\": \"Token: 17 underwent\", \"orientation\": \"v\", \"showlegend\": true, \"text\": [\"underwent\"], \"textposition\": \"top center\", \"type\": \"scatter\", \"x\": [-52.57014083862305], \"xaxis\": \"x\", \"y\": [-184.94219970703125], \"yaxis\": \"y\"}, {\"hovertemplate\": \"token=Token: 18 my<br>Dim1=%{x}<br>Dim2=%{y}<br>text=%{text}<extra></extra>\", \"legendgroup\": \"Token: 18 my\", \"marker\": {\"color\": \"#B6E880\", \"symbol\": \"circle\"}, \"mode\": \"markers+text\", \"name\": \"Token: 18 my\", \"orientation\": \"v\", \"showlegend\": true, \"text\": [\"my\"], \"textposition\": \"top center\", \"type\": \"scatter\", \"x\": [140.2004852294922], \"xaxis\": \"x\", \"y\": [157.0067596435547], \"yaxis\": \"y\"}, {\"hovertemplate\": \"token=Token: 19 training<br>Dim1=%{x}<br>Dim2=%{y}<br>text=%{text}<extra></extra>\", \"legendgroup\": \"Token: 19 training\", \"marker\": {\"color\": \"#FF97FF\", \"symbol\": \"circle\"}, \"mode\": \"markers+text\", \"name\": \"Token: 19 training\", \"orientation\": \"v\", \"showlegend\": true, \"text\": [\"training\"], \"textposition\": \"top center\", \"type\": \"scatter\", \"x\": [54.11568832397461], \"xaxis\": \"x\", \"y\": [1.8202095031738281], \"yaxis\": \"y\"}, {\"hovertemplate\": \"token=Token: 20 at<br>Dim1=%{x}<br>Dim2=%{y}<br>text=%{text}<extra></extra>\", \"legendgroup\": \"Token: 20 at\", \"marker\": {\"color\": \"#FECB52\", \"symbol\": \"circle\"}, \"mode\": \"markers+text\", \"name\": \"Token: 20 at\", \"orientation\": \"v\", \"showlegend\": true, \"text\": [\"at\"], \"textposition\": \"top center\", \"type\": \"scatter\", \"x\": [-13.018631935119629], \"xaxis\": \"x\", \"y\": [16.378564834594727], \"yaxis\": \"y\"}, {\"hovertemplate\": \"token=Token: 21 law<br>Dim1=%{x}<br>Dim2=%{y}<br>text=%{text}<extra></extra>\", \"legendgroup\": \"Token: 21 law\", \"marker\": {\"color\": \"#636efa\", \"symbol\": \"circle\"}, \"mode\": \"markers+text\", \"name\": \"Token: 21 law\", \"orientation\": \"v\", \"showlegend\": true, \"text\": [\"law\"], \"textposition\": \"top center\", \"type\": \"scatter\", \"x\": [26.580739974975586], \"xaxis\": \"x\", \"y\": [-253.62759399414062], \"yaxis\": \"y\"}, {\"hovertemplate\": \"token=Token: 22 school<br>Dim1=%{x}<br>Dim2=%{y}<br>text=%{text}<extra></extra>\", \"legendgroup\": \"Token: 22 school\", \"marker\": {\"color\": \"#EF553B\", \"symbol\": \"circle\"}, \"mode\": \"markers+text\", \"name\": \"Token: 22 school\", \"orientation\": \"v\", \"showlegend\": true, \"text\": [\"school\"], \"textposition\": \"top center\", \"type\": \"scatter\", \"x\": [83.92652893066406], \"xaxis\": \"x\", \"y\": [-47.702728271484375], \"yaxis\": \"y\"}, {\"hovertemplate\": \"token=Token: 23 .<br>Dim1=%{x}<br>Dim2=%{y}<br>text=%{text}<extra></extra>\", \"legendgroup\": \"Token: 23 .\", \"marker\": {\"color\": \"#00cc96\", \"symbol\": \"circle\"}, \"mode\": \"markers+text\", \"name\": \"Token: 23 .\", \"orientation\": \"v\", \"showlegend\": true, \"text\": [\".\"], \"textposition\": \"top center\", \"type\": \"scatter\", \"x\": [250.6597137451172], \"xaxis\": \"x\", \"y\": [15.315705299377441], \"yaxis\": \"y\"}, {\"hovertemplate\": \"token=Token: 24 There<br>Dim1=%{x}<br>Dim2=%{y}<br>text=%{text}<extra></extra>\", \"legendgroup\": \"Token: 24 There\", \"marker\": {\"color\": \"#ab63fa\", \"symbol\": \"circle\"}, \"mode\": \"markers+text\", \"name\": \"Token: 24 There\", \"orientation\": \"v\", \"showlegend\": true, \"text\": [\"There\"], \"textposition\": \"top center\", \"type\": \"scatter\", \"x\": [-205.0316925048828], \"xaxis\": \"x\", \"y\": [94.9184341430664], \"yaxis\": \"y\"}, {\"hovertemplate\": \"token=Token: 25 were<br>Dim1=%{x}<br>Dim2=%{y}<br>text=%{text}<extra></extra>\", \"legendgroup\": \"Token: 25 were\", \"marker\": {\"color\": \"#FFA15A\", \"symbol\": \"circle\"}, \"mode\": \"markers+text\", \"name\": \"Token: 25 were\", \"orientation\": \"v\", \"showlegend\": true, \"text\": [\"were\"], \"textposition\": \"top center\", \"type\": \"scatter\", \"x\": [-82.47282409667969], \"xaxis\": \"x\", \"y\": [-88.16920471191406], \"yaxis\": \"y\"}, {\"hovertemplate\": \"token=Token: 26 so<br>Dim1=%{x}<br>Dim2=%{y}<br>text=%{text}<extra></extra>\", \"legendgroup\": \"Token: 26 so\", \"marker\": {\"color\": \"#19d3f3\", \"symbol\": \"circle\"}, \"mode\": \"markers+text\", \"name\": \"Token: 26 so\", \"orientation\": \"v\", \"showlegend\": true, \"text\": [\"so\"], \"textposition\": \"top center\", \"type\": \"scatter\", \"x\": [-141.2101287841797], \"xaxis\": \"x\", \"y\": [-144.78106689453125], \"yaxis\": \"y\"}, {\"hovertemplate\": \"token=Token: 27 many<br>Dim1=%{x}<br>Dim2=%{y}<br>text=%{text}<extra></extra>\", \"legendgroup\": \"Token: 27 many\", \"marker\": {\"color\": \"#FF6692\", \"symbol\": \"circle\"}, \"mode\": \"markers+text\", \"name\": \"Token: 27 many\", \"orientation\": \"v\", \"showlegend\": true, \"text\": [\"many\"], \"textposition\": \"top center\", \"type\": \"scatter\", \"x\": [-157.06178283691406], \"xaxis\": \"x\", \"y\": [-77.36408996582031], \"yaxis\": \"y\"}, {\"hovertemplate\": \"token=Token: 28 qualified<br>Dim1=%{x}<br>Dim2=%{y}<br>text=%{text}<extra></extra>\", \"legendgroup\": \"Token: 28 qualified\", \"marker\": {\"color\": \"#B6E880\", \"symbol\": \"circle\"}, \"mode\": \"markers+text\", \"name\": \"Token: 28 qualified\", \"orientation\": \"v\", \"showlegend\": true, \"text\": [\"qualified\"], \"textposition\": \"top center\", \"type\": \"scatter\", \"x\": [-231.04649353027344], \"xaxis\": \"x\", \"y\": [-73.39334106445312], \"yaxis\": \"y\"}, {\"hovertemplate\": \"token=Token: 29 professors<br>Dim1=%{x}<br>Dim2=%{y}<br>text=%{text}<extra></extra>\", \"legendgroup\": \"Token: 29 professors\", \"marker\": {\"color\": \"#FF97FF\", \"symbol\": \"circle\"}, \"mode\": \"markers+text\", \"name\": \"Token: 29 professors\", \"orientation\": \"v\", \"showlegend\": true, \"text\": [\"professors\"], \"textposition\": \"top center\", \"type\": \"scatter\", \"x\": [-169.9613037109375], \"xaxis\": \"x\", \"y\": [0.8587648868560791], \"yaxis\": \"y\"}, {\"hovertemplate\": \"token=Token: 30 who<br>Dim1=%{x}<br>Dim2=%{y}<br>text=%{text}<extra></extra>\", \"legendgroup\": \"Token: 30 who\", \"marker\": {\"color\": \"#FECB52\", \"symbol\": \"circle\"}, \"mode\": \"markers+text\", \"name\": \"Token: 30 who\", \"orientation\": \"v\", \"showlegend\": true, \"text\": [\"who\"], \"textposition\": \"top center\", \"type\": \"scatter\", \"x\": [196.75018310546875], \"xaxis\": \"x\", \"y\": [-117.1661605834961], \"yaxis\": \"y\"}, {\"hovertemplate\": \"token=Token: 31 used<br>Dim1=%{x}<br>Dim2=%{y}<br>text=%{text}<extra></extra>\", \"legendgroup\": \"Token: 31 used\", \"marker\": {\"color\": \"#636efa\", \"symbol\": \"circle\"}, \"mode\": \"markers+text\", \"name\": \"Token: 31 used\", \"orientation\": \"v\", \"showlegend\": true, \"text\": [\"used\"], \"textposition\": \"top center\", \"type\": \"scatter\", \"x\": [59.423885345458984], \"xaxis\": \"x\", \"y\": [-169.67868041992188], \"yaxis\": \"y\"}, {\"hovertemplate\": \"token=Token: 32 to<br>Dim1=%{x}<br>Dim2=%{y}<br>text=%{text}<extra></extra>\", \"legendgroup\": \"Token: 32 to\", \"marker\": {\"color\": \"#EF553B\", \"symbol\": \"circle\"}, \"mode\": \"markers+text\", \"name\": \"Token: 32 to\", \"orientation\": \"v\", \"showlegend\": true, \"text\": [\"to\"], \"textposition\": \"top center\", \"type\": \"scatter\", \"x\": [6.0777692794799805], \"xaxis\": \"x\", \"y\": [-50.898345947265625], \"yaxis\": \"y\"}, {\"hovertemplate\": \"token=Token: 33 train<br>Dim1=%{x}<br>Dim2=%{y}<br>text=%{text}<extra></extra>\", \"legendgroup\": \"Token: 33 train\", \"marker\": {\"color\": \"#00cc96\", \"symbol\": \"circle\"}, \"mode\": \"markers+text\", \"name\": \"Token: 33 train\", \"orientation\": \"v\", \"showlegend\": true, \"text\": [\"train\"], \"textposition\": \"top center\", \"type\": \"scatter\", \"x\": [49.03982925415039], \"xaxis\": \"x\", \"y\": [-106.39054107666016], \"yaxis\": \"y\"}, {\"hovertemplate\": \"token=Token: 34 us<br>Dim1=%{x}<br>Dim2=%{y}<br>text=%{text}<extra></extra>\", \"legendgroup\": \"Token: 34 us\", \"marker\": {\"color\": \"#ab63fa\", \"symbol\": \"circle\"}, \"mode\": \"markers+text\", \"name\": \"Token: 34 us\", \"orientation\": \"v\", \"showlegend\": true, \"text\": [\"us\"], \"textposition\": \"top center\", \"type\": \"scatter\", \"x\": [126.98959350585938], \"xaxis\": \"x\", \"y\": [2.805964946746826], \"yaxis\": \"y\"}, {\"hovertemplate\": \"token=Token: 35 back<br>Dim1=%{x}<br>Dim2=%{y}<br>text=%{text}<extra></extra>\", \"legendgroup\": \"Token: 35 back\", \"marker\": {\"color\": \"#FFA15A\", \"symbol\": \"circle\"}, \"mode\": \"markers+text\", \"name\": \"Token: 35 back\", \"orientation\": \"v\", \"showlegend\": true, \"text\": [\"back\"], \"textposition\": \"top center\", \"type\": \"scatter\", \"x\": [123.34764862060547], \"xaxis\": \"x\", \"y\": [-105.53434753417969], \"yaxis\": \"y\"}, {\"hovertemplate\": \"token=Token: 36 then<br>Dim1=%{x}<br>Dim2=%{y}<br>text=%{text}<extra></extra>\", \"legendgroup\": \"Token: 36 then\", \"marker\": {\"color\": \"#19d3f3\", \"symbol\": \"circle\"}, \"mode\": \"markers+text\", \"name\": \"Token: 36 then\", \"orientation\": \"v\", \"showlegend\": true, \"text\": [\"then\"], \"textposition\": \"top center\", \"type\": \"scatter\", \"x\": [171.68057250976562], \"xaxis\": \"x\", \"y\": [-48.715518951416016], \"yaxis\": \"y\"}, {\"hovertemplate\": \"token=Token: 37 .<br>Dim1=%{x}<br>Dim2=%{y}<br>text=%{text}<extra></extra>\", \"legendgroup\": \"Token: 37 .\", \"marker\": {\"color\": \"#FF6692\", \"symbol\": \"circle\"}, \"mode\": \"markers+text\", \"name\": \"Token: 37 .\", \"orientation\": \"v\", \"showlegend\": true, \"text\": [\".\"], \"textposition\": \"top center\", \"type\": \"scatter\", \"x\": [193.37844848632812], \"xaxis\": \"x\", \"y\": [39.7092399597168], \"yaxis\": \"y\"}],                        {\"height\": 400, \"legend\": {\"title\": {\"text\": \"token\"}, \"tracegroupgap\": 0}, \"margin\": {\"t\": 60}, \"template\": {\"data\": {\"bar\": [{\"error_x\": {\"color\": \"#2a3f5f\"}, \"error_y\": {\"color\": \"#2a3f5f\"}, \"marker\": {\"line\": {\"color\": \"#E5ECF6\", \"width\": 0.5}}, \"type\": \"bar\"}], \"barpolar\": [{\"marker\": {\"line\": {\"color\": \"#E5ECF6\", \"width\": 0.5}}, \"type\": \"barpolar\"}], \"carpet\": [{\"aaxis\": {\"endlinecolor\": \"#2a3f5f\", \"gridcolor\": \"white\", \"linecolor\": \"white\", \"minorgridcolor\": \"white\", \"startlinecolor\": \"#2a3f5f\"}, \"baxis\": {\"endlinecolor\": \"#2a3f5f\", \"gridcolor\": \"white\", \"linecolor\": \"white\", \"minorgridcolor\": \"white\", \"startlinecolor\": \"#2a3f5f\"}, \"type\": \"carpet\"}], \"choropleth\": [{\"colorbar\": {\"outlinewidth\": 0, \"ticks\": \"\"}, \"type\": \"choropleth\"}], \"contour\": [{\"colorbar\": {\"outlinewidth\": 0, \"ticks\": \"\"}, \"colorscale\": [[0.0, \"#0d0887\"], [0.1111111111111111, \"#46039f\"], [0.2222222222222222, \"#7201a8\"], [0.3333333333333333, \"#9c179e\"], [0.4444444444444444, \"#bd3786\"], [0.5555555555555556, \"#d8576b\"], [0.6666666666666666, \"#ed7953\"], [0.7777777777777778, \"#fb9f3a\"], [0.8888888888888888, \"#fdca26\"], [1.0, \"#f0f921\"]], \"type\": \"contour\"}], \"contourcarpet\": [{\"colorbar\": {\"outlinewidth\": 0, \"ticks\": \"\"}, \"type\": \"contourcarpet\"}], \"heatmap\": [{\"colorbar\": {\"outlinewidth\": 0, \"ticks\": \"\"}, \"colorscale\": [[0.0, \"#0d0887\"], [0.1111111111111111, \"#46039f\"], [0.2222222222222222, \"#7201a8\"], [0.3333333333333333, \"#9c179e\"], [0.4444444444444444, \"#bd3786\"], [0.5555555555555556, \"#d8576b\"], [0.6666666666666666, \"#ed7953\"], [0.7777777777777778, \"#fb9f3a\"], [0.8888888888888888, \"#fdca26\"], [1.0, \"#f0f921\"]], \"type\": \"heatmap\"}], \"heatmapgl\": [{\"colorbar\": {\"outlinewidth\": 0, \"ticks\": \"\"}, \"colorscale\": [[0.0, \"#0d0887\"], [0.1111111111111111, \"#46039f\"], [0.2222222222222222, \"#7201a8\"], [0.3333333333333333, \"#9c179e\"], [0.4444444444444444, \"#bd3786\"], [0.5555555555555556, \"#d8576b\"], [0.6666666666666666, \"#ed7953\"], [0.7777777777777778, \"#fb9f3a\"], [0.8888888888888888, \"#fdca26\"], [1.0, \"#f0f921\"]], \"type\": \"heatmapgl\"}], \"histogram\": [{\"marker\": {\"colorbar\": {\"outlinewidth\": 0, \"ticks\": \"\"}}, \"type\": \"histogram\"}], \"histogram2d\": [{\"colorbar\": {\"outlinewidth\": 0, \"ticks\": \"\"}, \"colorscale\": [[0.0, \"#0d0887\"], [0.1111111111111111, \"#46039f\"], [0.2222222222222222, \"#7201a8\"], [0.3333333333333333, \"#9c179e\"], [0.4444444444444444, \"#bd3786\"], [0.5555555555555556, \"#d8576b\"], [0.6666666666666666, \"#ed7953\"], [0.7777777777777778, \"#fb9f3a\"], [0.8888888888888888, \"#fdca26\"], [1.0, \"#f0f921\"]], \"type\": \"histogram2d\"}], \"histogram2dcontour\": [{\"colorbar\": {\"outlinewidth\": 0, \"ticks\": \"\"}, \"colorscale\": [[0.0, \"#0d0887\"], [0.1111111111111111, \"#46039f\"], [0.2222222222222222, \"#7201a8\"], [0.3333333333333333, \"#9c179e\"], [0.4444444444444444, \"#bd3786\"], [0.5555555555555556, \"#d8576b\"], [0.6666666666666666, \"#ed7953\"], [0.7777777777777778, \"#fb9f3a\"], [0.8888888888888888, \"#fdca26\"], [1.0, \"#f0f921\"]], \"type\": \"histogram2dcontour\"}], \"mesh3d\": [{\"colorbar\": {\"outlinewidth\": 0, \"ticks\": \"\"}, \"type\": \"mesh3d\"}], \"parcoords\": [{\"line\": {\"colorbar\": {\"outlinewidth\": 0, \"ticks\": \"\"}}, \"type\": \"parcoords\"}], \"pie\": [{\"automargin\": true, \"type\": \"pie\"}], \"scatter\": [{\"marker\": {\"colorbar\": {\"outlinewidth\": 0, \"ticks\": \"\"}}, \"type\": \"scatter\"}], \"scatter3d\": [{\"line\": {\"colorbar\": {\"outlinewidth\": 0, \"ticks\": \"\"}}, \"marker\": {\"colorbar\": {\"outlinewidth\": 0, \"ticks\": \"\"}}, \"type\": \"scatter3d\"}], \"scattercarpet\": [{\"marker\": {\"colorbar\": {\"outlinewidth\": 0, \"ticks\": \"\"}}, \"type\": \"scattercarpet\"}], \"scattergeo\": [{\"marker\": {\"colorbar\": {\"outlinewidth\": 0, \"ticks\": \"\"}}, \"type\": \"scattergeo\"}], \"scattergl\": [{\"marker\": {\"colorbar\": {\"outlinewidth\": 0, \"ticks\": \"\"}}, \"type\": \"scattergl\"}], \"scattermapbox\": [{\"marker\": {\"colorbar\": {\"outlinewidth\": 0, \"ticks\": \"\"}}, \"type\": \"scattermapbox\"}], \"scatterpolar\": [{\"marker\": {\"colorbar\": {\"outlinewidth\": 0, \"ticks\": \"\"}}, \"type\": \"scatterpolar\"}], \"scatterpolargl\": [{\"marker\": {\"colorbar\": {\"outlinewidth\": 0, \"ticks\": \"\"}}, \"type\": \"scatterpolargl\"}], \"scatterternary\": [{\"marker\": {\"colorbar\": {\"outlinewidth\": 0, \"ticks\": \"\"}}, \"type\": \"scatterternary\"}], \"surface\": [{\"colorbar\": {\"outlinewidth\": 0, \"ticks\": \"\"}, \"colorscale\": [[0.0, \"#0d0887\"], [0.1111111111111111, \"#46039f\"], [0.2222222222222222, \"#7201a8\"], [0.3333333333333333, \"#9c179e\"], [0.4444444444444444, \"#bd3786\"], [0.5555555555555556, \"#d8576b\"], [0.6666666666666666, \"#ed7953\"], [0.7777777777777778, \"#fb9f3a\"], [0.8888888888888888, \"#fdca26\"], [1.0, \"#f0f921\"]], \"type\": \"surface\"}], \"table\": [{\"cells\": {\"fill\": {\"color\": \"#EBF0F8\"}, \"line\": {\"color\": \"white\"}}, \"header\": {\"fill\": {\"color\": \"#C8D4E3\"}, \"line\": {\"color\": \"white\"}}, \"type\": \"table\"}]}, \"layout\": {\"annotationdefaults\": {\"arrowcolor\": \"#2a3f5f\", \"arrowhead\": 0, \"arrowwidth\": 1}, \"autotypenumbers\": \"strict\", \"coloraxis\": {\"colorbar\": {\"outlinewidth\": 0, \"ticks\": \"\"}}, \"colorscale\": {\"diverging\": [[0, \"#8e0152\"], [0.1, \"#c51b7d\"], [0.2, \"#de77ae\"], [0.3, \"#f1b6da\"], [0.4, \"#fde0ef\"], [0.5, \"#f7f7f7\"], [0.6, \"#e6f5d0\"], [0.7, \"#b8e186\"], [0.8, \"#7fbc41\"], [0.9, \"#4d9221\"], [1, \"#276419\"]], \"sequential\": [[0.0, \"#0d0887\"], [0.1111111111111111, \"#46039f\"], [0.2222222222222222, \"#7201a8\"], [0.3333333333333333, \"#9c179e\"], [0.4444444444444444, \"#bd3786\"], [0.5555555555555556, \"#d8576b\"], [0.6666666666666666, \"#ed7953\"], [0.7777777777777778, \"#fb9f3a\"], [0.8888888888888888, \"#fdca26\"], [1.0, \"#f0f921\"]], \"sequentialminus\": [[0.0, \"#0d0887\"], [0.1111111111111111, \"#46039f\"], [0.2222222222222222, \"#7201a8\"], [0.3333333333333333, \"#9c179e\"], [0.4444444444444444, \"#bd3786\"], [0.5555555555555556, \"#d8576b\"], [0.6666666666666666, \"#ed7953\"], [0.7777777777777778, \"#fb9f3a\"], [0.8888888888888888, \"#fdca26\"], [1.0, \"#f0f921\"]]}, \"colorway\": [\"#636efa\", \"#EF553B\", \"#00cc96\", \"#ab63fa\", \"#FFA15A\", \"#19d3f3\", \"#FF6692\", \"#B6E880\", \"#FF97FF\", \"#FECB52\"], \"font\": {\"color\": \"#2a3f5f\"}, \"geo\": {\"bgcolor\": \"white\", \"lakecolor\": \"white\", \"landcolor\": \"#E5ECF6\", \"showlakes\": true, \"showland\": true, \"subunitcolor\": \"white\"}, \"hoverlabel\": {\"align\": \"left\"}, \"hovermode\": \"closest\", \"mapbox\": {\"style\": \"light\"}, \"paper_bgcolor\": \"white\", \"plot_bgcolor\": \"#E5ECF6\", \"polar\": {\"angularaxis\": {\"gridcolor\": \"white\", \"linecolor\": \"white\", \"ticks\": \"\"}, \"bgcolor\": \"#E5ECF6\", \"radialaxis\": {\"gridcolor\": \"white\", \"linecolor\": \"white\", \"ticks\": \"\"}}, \"scene\": {\"xaxis\": {\"backgroundcolor\": \"#E5ECF6\", \"gridcolor\": \"white\", \"gridwidth\": 2, \"linecolor\": \"white\", \"showbackground\": true, \"ticks\": \"\", \"zerolinecolor\": \"white\"}, \"yaxis\": {\"backgroundcolor\": \"#E5ECF6\", \"gridcolor\": \"white\", \"gridwidth\": 2, \"linecolor\": \"white\", \"showbackground\": true, \"ticks\": \"\", \"zerolinecolor\": \"white\"}, \"zaxis\": {\"backgroundcolor\": \"#E5ECF6\", \"gridcolor\": \"white\", \"gridwidth\": 2, \"linecolor\": \"white\", \"showbackground\": true, \"ticks\": \"\", \"zerolinecolor\": \"white\"}}, \"shapedefaults\": {\"line\": {\"color\": \"#2a3f5f\"}}, \"ternary\": {\"aaxis\": {\"gridcolor\": \"white\", \"linecolor\": \"white\", \"ticks\": \"\"}, \"baxis\": {\"gridcolor\": \"white\", \"linecolor\": \"white\", \"ticks\": \"\"}, \"bgcolor\": \"#E5ECF6\", \"caxis\": {\"gridcolor\": \"white\", \"linecolor\": \"white\", \"ticks\": \"\"}}, \"title\": {\"x\": 0.05}, \"xaxis\": {\"automargin\": true, \"gridcolor\": \"white\", \"linecolor\": \"white\", \"ticks\": \"\", \"title\": {\"standoff\": 15}, \"zerolinecolor\": \"white\", \"zerolinewidth\": 2}, \"yaxis\": {\"automargin\": true, \"gridcolor\": \"white\", \"linecolor\": \"white\", \"ticks\": \"\", \"title\": {\"standoff\": 15}, \"zerolinecolor\": \"white\", \"zerolinewidth\": 2}}}, \"title\": {\"text\": \" ELMO embeddings\"}, \"xaxis\": {\"anchor\": \"y\", \"domain\": [0.0, 1.0], \"title\": {\"text\": \"Dim1\"}}, \"yaxis\": {\"anchor\": \"x\", \"domain\": [0.0, 1.0], \"title\": {\"text\": \"Dim2\"}}},                        {\"responsive\": true}                    ).then(function(){\n",
       "                            \n",
       "var gd = document.getElementById('9e96b34f-d7ee-42a4-bbf1-e1645d551b60');\n",
       "var x = new MutationObserver(function (mutations, observer) {{\n",
       "        var display = window.getComputedStyle(gd).display;\n",
       "        if (!display || display === 'none') {{\n",
       "            console.log([gd, 'removed!']);\n",
       "            Plotly.purge(gd);\n",
       "            observer.disconnect();\n",
       "        }}\n",
       "}});\n",
       "\n",
       "// Listen for the removal of the full notebook cells\n",
       "var notebookContainer = gd.closest('#notebook-container');\n",
       "if (notebookContainer) {{\n",
       "    x.observe(notebookContainer, {childList: true});\n",
       "}}\n",
       "\n",
       "// Listen for the clearing of the current output cell\n",
       "var outputEl = gd.closest('.output');\n",
       "if (outputEl) {{\n",
       "    x.observe(outputEl, {childList: true});\n",
       "}}\n",
       "\n",
       "                        })                };                });            </script>        </div>"
      ]
     },
     "metadata": {},
     "output_type": "display_data"
    }
   ],
   "source": [
    "perplexity_s=30\n",
    "elmo_embedding =  ELMoEmbeddings()\n",
    "embeddings,tokens=get_embeddings(text,elmo_embedding)\n",
    "fig=tsne_plot_embeddings(embeddings,tokens,perplexity_s)\n",
    "fig.update_layout(height=400, title_text=\" ELMO embeddings\")\n",
    "fig.show()"
   ]
  },
  {
   "cell_type": "markdown",
   "metadata": {},
   "source": [
    "BERT\n",
    "\n",
    "The BERT model alos clearly understands the difference in both the terms. This based on the appearance of the words in the sentence template and also from its learnings across both ways"
   ]
  },
  {
   "cell_type": "code",
   "execution_count": 45,
   "metadata": {},
   "outputs": [
    {
     "name": "stdout",
     "output_type": "stream",
     "text": [
      "(37, 768)\n"
     ]
    },
    {
     "data": {
      "application/vnd.plotly.v1+json": {
       "config": {
        "plotlyServerURL": "https://plot.ly"
       },
       "data": [
        {
         "hovertemplate": "token=Token: 1 The<br>Dim1=%{x}<br>Dim2=%{y}<br>text=%{text}<extra></extra>",
         "legendgroup": "Token: 1 The",
         "marker": {
          "color": "#636efa",
          "symbol": "circle"
         },
         "mode": "markers+text",
         "name": "Token: 1 The",
         "orientation": "v",
         "showlegend": true,
         "text": [
          "The"
         ],
         "textposition": "top center",
         "type": "scatter",
         "x": [
          -71.92072296142578
         ],
         "xaxis": "x",
         "y": [
          -1.7108004093170166
         ],
         "yaxis": "y"
        },
        {
         "hovertemplate": "token=Token: 2 train<br>Dim1=%{x}<br>Dim2=%{y}<br>text=%{text}<extra></extra>",
         "legendgroup": "Token: 2 train",
         "marker": {
          "color": "#EF553B",
          "symbol": "circle"
         },
         "mode": "markers+text",
         "name": "Token: 2 train",
         "orientation": "v",
         "showlegend": true,
         "text": [
          "train"
         ],
         "textposition": "top center",
         "type": "scatter",
         "x": [
          -197.7763671875
         ],
         "xaxis": "x",
         "y": [
          -214.94224548339844
         ],
         "yaxis": "y"
        },
        {
         "hovertemplate": "token=Token: 3 briefly<br>Dim1=%{x}<br>Dim2=%{y}<br>text=%{text}<extra></extra>",
         "legendgroup": "Token: 3 briefly",
         "marker": {
          "color": "#00cc96",
          "symbol": "circle"
         },
         "mode": "markers+text",
         "name": "Token: 3 briefly",
         "orientation": "v",
         "showlegend": true,
         "text": [
          "briefly"
         ],
         "textposition": "top center",
         "type": "scatter",
         "x": [
          -162.21551513671875
         ],
         "xaxis": "x",
         "y": [
          14.344080924987793
         ],
         "yaxis": "y"
        },
        {
         "hovertemplate": "token=Token: 4 stopped<br>Dim1=%{x}<br>Dim2=%{y}<br>text=%{text}<extra></extra>",
         "legendgroup": "Token: 4 stopped",
         "marker": {
          "color": "#ab63fa",
          "symbol": "circle"
         },
         "mode": "markers+text",
         "name": "Token: 4 stopped",
         "orientation": "v",
         "showlegend": true,
         "text": [
          "stopped"
         ],
         "textposition": "top center",
         "type": "scatter",
         "x": [
          -257.17083740234375
         ],
         "xaxis": "x",
         "y": [
          25.592195510864258
         ],
         "yaxis": "y"
        },
        {
         "hovertemplate": "token=Token: 5 at<br>Dim1=%{x}<br>Dim2=%{y}<br>text=%{text}<extra></extra>",
         "legendgroup": "Token: 5 at",
         "marker": {
          "color": "#FFA15A",
          "symbol": "circle"
         },
         "mode": "markers+text",
         "name": "Token: 5 at",
         "orientation": "v",
         "showlegend": true,
         "text": [
          "at"
         ],
         "textposition": "top center",
         "type": "scatter",
         "x": [
          -204.5305938720703
         ],
         "xaxis": "x",
         "y": [
          -55.54716491699219
         ],
         "yaxis": "y"
        },
        {
         "hovertemplate": "token=Token: 6 the<br>Dim1=%{x}<br>Dim2=%{y}<br>text=%{text}<extra></extra>",
         "legendgroup": "Token: 6 the",
         "marker": {
          "color": "#19d3f3",
          "symbol": "circle"
         },
         "mode": "markers+text",
         "name": "Token: 6 the",
         "orientation": "v",
         "showlegend": true,
         "text": [
          "the"
         ],
         "textposition": "top center",
         "type": "scatter",
         "x": [
          -166.75779724121094
         ],
         "xaxis": "x",
         "y": [
          93.05743408203125
         ],
         "yaxis": "y"
        },
        {
         "hovertemplate": "token=Token: 7 SBT<br>Dim1=%{x}<br>Dim2=%{y}<br>text=%{text}<extra></extra>",
         "legendgroup": "Token: 7 SBT",
         "marker": {
          "color": "#FF6692",
          "symbol": "circle"
         },
         "mode": "markers+text",
         "name": "Token: 7 SBT",
         "orientation": "v",
         "showlegend": true,
         "text": [
          "SBT"
         ],
         "textposition": "top center",
         "type": "scatter",
         "x": [
          -303.5973815917969
         ],
         "xaxis": "x",
         "y": [
          -93.4865951538086
         ],
         "yaxis": "y"
        },
        {
         "hovertemplate": "token=Token: 8 Terminal<br>Dim1=%{x}<br>Dim2=%{y}<br>text=%{text}<extra></extra>",
         "legendgroup": "Token: 8 Terminal",
         "marker": {
          "color": "#B6E880",
          "symbol": "circle"
         },
         "mode": "markers+text",
         "name": "Token: 8 Terminal",
         "orientation": "v",
         "showlegend": true,
         "text": [
          "Terminal"
         ],
         "textposition": "top center",
         "type": "scatter",
         "x": [
          -264.6103820800781
         ],
         "xaxis": "x",
         "y": [
          123.28887176513672
         ],
         "yaxis": "y"
        },
        {
         "hovertemplate": "token=Token: 9 .<br>Dim1=%{x}<br>Dim2=%{y}<br>text=%{text}<extra></extra>",
         "legendgroup": "Token: 9 .",
         "marker": {
          "color": "#FF97FF",
          "symbol": "circle"
         },
         "mode": "markers+text",
         "name": "Token: 9 .",
         "orientation": "v",
         "showlegend": true,
         "text": [
          "."
         ],
         "textposition": "top center",
         "type": "scatter",
         "x": [
          -87.28092193603516
         ],
         "xaxis": "x",
         "y": [
          68.9354476928711
         ],
         "yaxis": "y"
        },
        {
         "hovertemplate": "token=Token: 10 It<br>Dim1=%{x}<br>Dim2=%{y}<br>text=%{text}<extra></extra>",
         "legendgroup": "Token: 10 It",
         "marker": {
          "color": "#FECB52",
          "symbol": "circle"
         },
         "mode": "markers+text",
         "name": "Token: 10 It",
         "orientation": "v",
         "showlegend": true,
         "text": [
          "It"
         ],
         "textposition": "top center",
         "type": "scatter",
         "x": [
          91.48729705810547
         ],
         "xaxis": "x",
         "y": [
          234.3089141845703
         ],
         "yaxis": "y"
        },
        {
         "hovertemplate": "token=Token: 11 was<br>Dim1=%{x}<br>Dim2=%{y}<br>text=%{text}<extra></extra>",
         "legendgroup": "Token: 11 was",
         "marker": {
          "color": "#636efa",
          "symbol": "circle"
         },
         "mode": "markers+text",
         "name": "Token: 11 was",
         "orientation": "v",
         "showlegend": true,
         "text": [
          "was"
         ],
         "textposition": "top center",
         "type": "scatter",
         "x": [
          21.823678970336914
         ],
         "xaxis": "x",
         "y": [
          179.4719696044922
         ],
         "yaxis": "y"
        },
        {
         "hovertemplate": "token=Token: 12 in<br>Dim1=%{x}<br>Dim2=%{y}<br>text=%{text}<extra></extra>",
         "legendgroup": "Token: 12 in",
         "marker": {
          "color": "#EF553B",
          "symbol": "circle"
         },
         "mode": "markers+text",
         "name": "Token: 12 in",
         "orientation": "v",
         "showlegend": true,
         "text": [
          "in"
         ],
         "textposition": "top center",
         "type": "scatter",
         "x": [
          -113.1656494140625
         ],
         "xaxis": "x",
         "y": [
          -60.41178894042969
         ],
         "yaxis": "y"
        },
        {
         "hovertemplate": "token=Token: 13 this<br>Dim1=%{x}<br>Dim2=%{y}<br>text=%{text}<extra></extra>",
         "legendgroup": "Token: 13 this",
         "marker": {
          "color": "#00cc96",
          "symbol": "circle"
         },
         "mode": "markers+text",
         "name": "Token: 13 this",
         "orientation": "v",
         "showlegend": true,
         "text": [
          "this"
         ],
         "textposition": "top center",
         "type": "scatter",
         "x": [
          -111.74805450439453
         ],
         "xaxis": "x",
         "y": [
          161.83973693847656
         ],
         "yaxis": "y"
        },
        {
         "hovertemplate": "token=Token: 14 city<br>Dim1=%{x}<br>Dim2=%{y}<br>text=%{text}<extra></extra>",
         "legendgroup": "Token: 14 city",
         "marker": {
          "color": "#ab63fa",
          "symbol": "circle"
         },
         "mode": "markers+text",
         "name": "Token: 14 city",
         "orientation": "v",
         "showlegend": true,
         "text": [
          "city"
         ],
         "textposition": "top center",
         "type": "scatter",
         "x": [
          -188.79396057128906
         ],
         "xaxis": "x",
         "y": [
          213.5375518798828
         ],
         "yaxis": "y"
        },
        {
         "hovertemplate": "token=Token: 15 that<br>Dim1=%{x}<br>Dim2=%{y}<br>text=%{text}<extra></extra>",
         "legendgroup": "Token: 15 that",
         "marker": {
          "color": "#FFA15A",
          "symbol": "circle"
         },
         "mode": "markers+text",
         "name": "Token: 15 that",
         "orientation": "v",
         "showlegend": true,
         "text": [
          "that"
         ],
         "textposition": "top center",
         "type": "scatter",
         "x": [
          -34.63112258911133
         ],
         "xaxis": "x",
         "y": [
          127.48400115966797
         ],
         "yaxis": "y"
        },
        {
         "hovertemplate": "token=Token: 16 I<br>Dim1=%{x}<br>Dim2=%{y}<br>text=%{text}<extra></extra>",
         "legendgroup": "Token: 16 I",
         "marker": {
          "color": "#19d3f3",
          "symbol": "circle"
         },
         "mode": "markers+text",
         "name": "Token: 16 I",
         "orientation": "v",
         "showlegend": true,
         "text": [
          "I"
         ],
         "textposition": "top center",
         "type": "scatter",
         "x": [
          -154.21482849121094
         ],
         "xaxis": "x",
         "y": [
          -132.3960723876953
         ],
         "yaxis": "y"
        },
        {
         "hovertemplate": "token=Token: 17 underwent<br>Dim1=%{x}<br>Dim2=%{y}<br>text=%{text}<extra></extra>",
         "legendgroup": "Token: 17 underwent",
         "marker": {
          "color": "#FF6692",
          "symbol": "circle"
         },
         "mode": "markers+text",
         "name": "Token: 17 underwent",
         "orientation": "v",
         "showlegend": true,
         "text": [
          "underwent"
         ],
         "textposition": "top center",
         "type": "scatter",
         "x": [
          63.71422576904297
         ],
         "xaxis": "x",
         "y": [
          -242.01080322265625
         ],
         "yaxis": "y"
        },
        {
         "hovertemplate": "token=Token: 18 my<br>Dim1=%{x}<br>Dim2=%{y}<br>text=%{text}<extra></extra>",
         "legendgroup": "Token: 18 my",
         "marker": {
          "color": "#B6E880",
          "symbol": "circle"
         },
         "mode": "markers+text",
         "name": "Token: 18 my",
         "orientation": "v",
         "showlegend": true,
         "text": [
          "my"
         ],
         "textposition": "top center",
         "type": "scatter",
         "x": [
          57.85811233520508
         ],
         "xaxis": "x",
         "y": [
          -81.87300109863281
         ],
         "yaxis": "y"
        },
        {
         "hovertemplate": "token=Token: 19 training<br>Dim1=%{x}<br>Dim2=%{y}<br>text=%{text}<extra></extra>",
         "legendgroup": "Token: 19 training",
         "marker": {
          "color": "#FF97FF",
          "symbol": "circle"
         },
         "mode": "markers+text",
         "name": "Token: 19 training",
         "orientation": "v",
         "showlegend": true,
         "text": [
          "training"
         ],
         "textposition": "top center",
         "type": "scatter",
         "x": [
          181.78990173339844
         ],
         "xaxis": "x",
         "y": [
          -105.67499542236328
         ],
         "yaxis": "y"
        },
        {
         "hovertemplate": "token=Token: 20 at<br>Dim1=%{x}<br>Dim2=%{y}<br>text=%{text}<extra></extra>",
         "legendgroup": "Token: 20 at",
         "marker": {
          "color": "#FECB52",
          "symbol": "circle"
         },
         "mode": "markers+text",
         "name": "Token: 20 at",
         "orientation": "v",
         "showlegend": true,
         "text": [
          "at"
         ],
         "textposition": "top center",
         "type": "scatter",
         "x": [
          -26.2297306060791
         ],
         "xaxis": "x",
         "y": [
          -79.21994018554688
         ],
         "yaxis": "y"
        },
        {
         "hovertemplate": "token=Token: 21 law<br>Dim1=%{x}<br>Dim2=%{y}<br>text=%{text}<extra></extra>",
         "legendgroup": "Token: 21 law",
         "marker": {
          "color": "#636efa",
          "symbol": "circle"
         },
         "mode": "markers+text",
         "name": "Token: 21 law",
         "orientation": "v",
         "showlegend": true,
         "text": [
          "law"
         ],
         "textposition": "top center",
         "type": "scatter",
         "x": [
          282.90460205078125
         ],
         "xaxis": "x",
         "y": [
          -57.17416000366211
         ],
         "yaxis": "y"
        },
        {
         "hovertemplate": "token=Token: 22 school<br>Dim1=%{x}<br>Dim2=%{y}<br>text=%{text}<extra></extra>",
         "legendgroup": "Token: 22 school",
         "marker": {
          "color": "#EF553B",
          "symbol": "circle"
         },
         "mode": "markers+text",
         "name": "Token: 22 school",
         "orientation": "v",
         "showlegend": true,
         "text": [
          "school"
         ],
         "textposition": "top center",
         "type": "scatter",
         "x": [
          107.53177642822266
         ],
         "xaxis": "x",
         "y": [
          -147.53053283691406
         ],
         "yaxis": "y"
        },
        {
         "hovertemplate": "token=Token: 23 .<br>Dim1=%{x}<br>Dim2=%{y}<br>text=%{text}<extra></extra>",
         "legendgroup": "Token: 23 .",
         "marker": {
          "color": "#00cc96",
          "symbol": "circle"
         },
         "mode": "markers+text",
         "name": "Token: 23 .",
         "orientation": "v",
         "showlegend": true,
         "text": [
          "."
         ],
         "textposition": "top center",
         "type": "scatter",
         "x": [
          -12.78538990020752
         ],
         "xaxis": "x",
         "y": [
          54.94039535522461
         ],
         "yaxis": "y"
        },
        {
         "hovertemplate": "token=Token: 24 There<br>Dim1=%{x}<br>Dim2=%{y}<br>text=%{text}<extra></extra>",
         "legendgroup": "Token: 24 There",
         "marker": {
          "color": "#ab63fa",
          "symbol": "circle"
         },
         "mode": "markers+text",
         "name": "Token: 24 There",
         "orientation": "v",
         "showlegend": true,
         "text": [
          "There"
         ],
         "textposition": "top center",
         "type": "scatter",
         "x": [
          -57.70497512817383
         ],
         "xaxis": "x",
         "y": [
          232.9219970703125
         ],
         "yaxis": "y"
        },
        {
         "hovertemplate": "token=Token: 25 were<br>Dim1=%{x}<br>Dim2=%{y}<br>text=%{text}<extra></extra>",
         "legendgroup": "Token: 25 were",
         "marker": {
          "color": "#FFA15A",
          "symbol": "circle"
         },
         "mode": "markers+text",
         "name": "Token: 25 were",
         "orientation": "v",
         "showlegend": true,
         "text": [
          "were"
         ],
         "textposition": "top center",
         "type": "scatter",
         "x": [
          97.03214263916016
         ],
         "xaxis": "x",
         "y": [
          143.89073181152344
         ],
         "yaxis": "y"
        },
        {
         "hovertemplate": "token=Token: 26 so<br>Dim1=%{x}<br>Dim2=%{y}<br>text=%{text}<extra></extra>",
         "legendgroup": "Token: 26 so",
         "marker": {
          "color": "#19d3f3",
          "symbol": "circle"
         },
         "mode": "markers+text",
         "name": "Token: 26 so",
         "orientation": "v",
         "showlegend": true,
         "text": [
          "so"
         ],
         "textposition": "top center",
         "type": "scatter",
         "x": [
          10.712138175964355
         ],
         "xaxis": "x",
         "y": [
          300.4467468261719
         ],
         "yaxis": "y"
        },
        {
         "hovertemplate": "token=Token: 27 many<br>Dim1=%{x}<br>Dim2=%{y}<br>text=%{text}<extra></extra>",
         "legendgroup": "Token: 27 many",
         "marker": {
          "color": "#FF6692",
          "symbol": "circle"
         },
         "mode": "markers+text",
         "name": "Token: 27 many",
         "orientation": "v",
         "showlegend": true,
         "text": [
          "many"
         ],
         "textposition": "top center",
         "type": "scatter",
         "x": [
          189.43739318847656
         ],
         "xaxis": "x",
         "y": [
          162.0203857421875
         ],
         "yaxis": "y"
        },
        {
         "hovertemplate": "token=Token: 28 qualified<br>Dim1=%{x}<br>Dim2=%{y}<br>text=%{text}<extra></extra>",
         "legendgroup": "Token: 28 qualified",
         "marker": {
          "color": "#B6E880",
          "symbol": "circle"
         },
         "mode": "markers+text",
         "name": "Token: 28 qualified",
         "orientation": "v",
         "showlegend": true,
         "text": [
          "qualified"
         ],
         "textposition": "top center",
         "type": "scatter",
         "x": [
          238.6980743408203
         ],
         "xaxis": "x",
         "y": [
          53.87958908081055
         ],
         "yaxis": "y"
        },
        {
         "hovertemplate": "token=Token: 29 professors<br>Dim1=%{x}<br>Dim2=%{y}<br>text=%{text}<extra></extra>",
         "legendgroup": "Token: 29 professors",
         "marker": {
          "color": "#FF97FF",
          "symbol": "circle"
         },
         "mode": "markers+text",
         "name": "Token: 29 professors",
         "orientation": "v",
         "showlegend": true,
         "text": [
          "professors"
         ],
         "textposition": "top center",
         "type": "scatter",
         "x": [
          188.777587890625
         ],
         "xaxis": "x",
         "y": [
          -207.87783813476562
         ],
         "yaxis": "y"
        },
        {
         "hovertemplate": "token=Token: 30 who<br>Dim1=%{x}<br>Dim2=%{y}<br>text=%{text}<extra></extra>",
         "legendgroup": "Token: 30 who",
         "marker": {
          "color": "#FECB52",
          "symbol": "circle"
         },
         "mode": "markers+text",
         "name": "Token: 30 who",
         "orientation": "v",
         "showlegend": true,
         "text": [
          "who"
         ],
         "textposition": "top center",
         "type": "scatter",
         "x": [
          144.08946228027344
         ],
         "xaxis": "x",
         "y": [
          65.41478729248047
         ],
         "yaxis": "y"
        },
        {
         "hovertemplate": "token=Token: 31 used<br>Dim1=%{x}<br>Dim2=%{y}<br>text=%{text}<extra></extra>",
         "legendgroup": "Token: 31 used",
         "marker": {
          "color": "#636efa",
          "symbol": "circle"
         },
         "mode": "markers+text",
         "name": "Token: 31 used",
         "orientation": "v",
         "showlegend": true,
         "text": [
          "used"
         ],
         "textposition": "top center",
         "type": "scatter",
         "x": [
          59.29315185546875
         ],
         "xaxis": "x",
         "y": [
          74.76524353027344
         ],
         "yaxis": "y"
        },
        {
         "hovertemplate": "token=Token: 32 to<br>Dim1=%{x}<br>Dim2=%{y}<br>text=%{text}<extra></extra>",
         "legendgroup": "Token: 32 to",
         "marker": {
          "color": "#EF553B",
          "symbol": "circle"
         },
         "mode": "markers+text",
         "name": "Token: 32 to",
         "orientation": "v",
         "showlegend": true,
         "text": [
          "to"
         ],
         "textposition": "top center",
         "type": "scatter",
         "x": [
          -71.53583526611328
         ],
         "xaxis": "x",
         "y": [
          -143.21121215820312
         ],
         "yaxis": "y"
        },
        {
         "hovertemplate": "token=Token: 33 train<br>Dim1=%{x}<br>Dim2=%{y}<br>text=%{text}<extra></extra>",
         "legendgroup": "Token: 33 train",
         "marker": {
          "color": "#00cc96",
          "symbol": "circle"
         },
         "mode": "markers+text",
         "name": "Token: 33 train",
         "orientation": "v",
         "showlegend": true,
         "text": [
          "train"
         ],
         "textposition": "top center",
         "type": "scatter",
         "x": [
          171.2243194580078
         ],
         "xaxis": "x",
         "y": [
          -27.878957748413086
         ],
         "yaxis": "y"
        },
        {
         "hovertemplate": "token=Token: 34 us<br>Dim1=%{x}<br>Dim2=%{y}<br>text=%{text}<extra></extra>",
         "legendgroup": "Token: 34 us",
         "marker": {
          "color": "#ab63fa",
          "symbol": "circle"
         },
         "mode": "markers+text",
         "name": "Token: 34 us",
         "orientation": "v",
         "showlegend": true,
         "text": [
          "us"
         ],
         "textposition": "top center",
         "type": "scatter",
         "x": [
          89.33572387695312
         ],
         "xaxis": "x",
         "y": [
          -6.455163955688477
         ],
         "yaxis": "y"
        },
        {
         "hovertemplate": "token=Token: 35 back<br>Dim1=%{x}<br>Dim2=%{y}<br>text=%{text}<extra></extra>",
         "legendgroup": "Token: 35 back",
         "marker": {
          "color": "#FFA15A",
          "symbol": "circle"
         },
         "mode": "markers+text",
         "name": "Token: 35 back",
         "orientation": "v",
         "showlegend": true,
         "text": [
          "back"
         ],
         "textposition": "top center",
         "type": "scatter",
         "x": [
          -58.1305046081543
         ],
         "xaxis": "x",
         "y": [
          -238.29312133789062
         ],
         "yaxis": "y"
        },
        {
         "hovertemplate": "token=Token: 36 then<br>Dim1=%{x}<br>Dim2=%{y}<br>text=%{text}<extra></extra>",
         "legendgroup": "Token: 36 then",
         "marker": {
          "color": "#19d3f3",
          "symbol": "circle"
         },
         "mode": "markers+text",
         "name": "Token: 36 then",
         "orientation": "v",
         "showlegend": true,
         "text": [
          "then"
         ],
         "textposition": "top center",
         "type": "scatter",
         "x": [
          10.650836944580078
         ],
         "xaxis": "x",
         "y": [
          -163.11892700195312
         ],
         "yaxis": "y"
        },
        {
         "hovertemplate": "token=Token: 37 .<br>Dim1=%{x}<br>Dim2=%{y}<br>text=%{text}<extra></extra>",
         "legendgroup": "Token: 37 .",
         "marker": {
          "color": "#FF6692",
          "symbol": "circle"
         },
         "mode": "markers+text",
         "name": "Token: 37 .",
         "orientation": "v",
         "showlegend": true,
         "text": [
          "."
         ],
         "textposition": "top center",
         "type": "scatter",
         "x": [
          10.32485294342041
         ],
         "xaxis": "x",
         "y": [
          -10.493788719177246
         ],
         "yaxis": "y"
        }
       ],
       "layout": {
        "height": 400,
        "legend": {
         "title": {
          "text": "token"
         },
         "tracegroupgap": 0
        },
        "margin": {
         "t": 60
        },
        "template": {
         "data": {
          "bar": [
           {
            "error_x": {
             "color": "#2a3f5f"
            },
            "error_y": {
             "color": "#2a3f5f"
            },
            "marker": {
             "line": {
              "color": "#E5ECF6",
              "width": 0.5
             }
            },
            "type": "bar"
           }
          ],
          "barpolar": [
           {
            "marker": {
             "line": {
              "color": "#E5ECF6",
              "width": 0.5
             }
            },
            "type": "barpolar"
           }
          ],
          "carpet": [
           {
            "aaxis": {
             "endlinecolor": "#2a3f5f",
             "gridcolor": "white",
             "linecolor": "white",
             "minorgridcolor": "white",
             "startlinecolor": "#2a3f5f"
            },
            "baxis": {
             "endlinecolor": "#2a3f5f",
             "gridcolor": "white",
             "linecolor": "white",
             "minorgridcolor": "white",
             "startlinecolor": "#2a3f5f"
            },
            "type": "carpet"
           }
          ],
          "choropleth": [
           {
            "colorbar": {
             "outlinewidth": 0,
             "ticks": ""
            },
            "type": "choropleth"
           }
          ],
          "contour": [
           {
            "colorbar": {
             "outlinewidth": 0,
             "ticks": ""
            },
            "colorscale": [
             [
              0,
              "#0d0887"
             ],
             [
              0.1111111111111111,
              "#46039f"
             ],
             [
              0.2222222222222222,
              "#7201a8"
             ],
             [
              0.3333333333333333,
              "#9c179e"
             ],
             [
              0.4444444444444444,
              "#bd3786"
             ],
             [
              0.5555555555555556,
              "#d8576b"
             ],
             [
              0.6666666666666666,
              "#ed7953"
             ],
             [
              0.7777777777777778,
              "#fb9f3a"
             ],
             [
              0.8888888888888888,
              "#fdca26"
             ],
             [
              1,
              "#f0f921"
             ]
            ],
            "type": "contour"
           }
          ],
          "contourcarpet": [
           {
            "colorbar": {
             "outlinewidth": 0,
             "ticks": ""
            },
            "type": "contourcarpet"
           }
          ],
          "heatmap": [
           {
            "colorbar": {
             "outlinewidth": 0,
             "ticks": ""
            },
            "colorscale": [
             [
              0,
              "#0d0887"
             ],
             [
              0.1111111111111111,
              "#46039f"
             ],
             [
              0.2222222222222222,
              "#7201a8"
             ],
             [
              0.3333333333333333,
              "#9c179e"
             ],
             [
              0.4444444444444444,
              "#bd3786"
             ],
             [
              0.5555555555555556,
              "#d8576b"
             ],
             [
              0.6666666666666666,
              "#ed7953"
             ],
             [
              0.7777777777777778,
              "#fb9f3a"
             ],
             [
              0.8888888888888888,
              "#fdca26"
             ],
             [
              1,
              "#f0f921"
             ]
            ],
            "type": "heatmap"
           }
          ],
          "heatmapgl": [
           {
            "colorbar": {
             "outlinewidth": 0,
             "ticks": ""
            },
            "colorscale": [
             [
              0,
              "#0d0887"
             ],
             [
              0.1111111111111111,
              "#46039f"
             ],
             [
              0.2222222222222222,
              "#7201a8"
             ],
             [
              0.3333333333333333,
              "#9c179e"
             ],
             [
              0.4444444444444444,
              "#bd3786"
             ],
             [
              0.5555555555555556,
              "#d8576b"
             ],
             [
              0.6666666666666666,
              "#ed7953"
             ],
             [
              0.7777777777777778,
              "#fb9f3a"
             ],
             [
              0.8888888888888888,
              "#fdca26"
             ],
             [
              1,
              "#f0f921"
             ]
            ],
            "type": "heatmapgl"
           }
          ],
          "histogram": [
           {
            "marker": {
             "colorbar": {
              "outlinewidth": 0,
              "ticks": ""
             }
            },
            "type": "histogram"
           }
          ],
          "histogram2d": [
           {
            "colorbar": {
             "outlinewidth": 0,
             "ticks": ""
            },
            "colorscale": [
             [
              0,
              "#0d0887"
             ],
             [
              0.1111111111111111,
              "#46039f"
             ],
             [
              0.2222222222222222,
              "#7201a8"
             ],
             [
              0.3333333333333333,
              "#9c179e"
             ],
             [
              0.4444444444444444,
              "#bd3786"
             ],
             [
              0.5555555555555556,
              "#d8576b"
             ],
             [
              0.6666666666666666,
              "#ed7953"
             ],
             [
              0.7777777777777778,
              "#fb9f3a"
             ],
             [
              0.8888888888888888,
              "#fdca26"
             ],
             [
              1,
              "#f0f921"
             ]
            ],
            "type": "histogram2d"
           }
          ],
          "histogram2dcontour": [
           {
            "colorbar": {
             "outlinewidth": 0,
             "ticks": ""
            },
            "colorscale": [
             [
              0,
              "#0d0887"
             ],
             [
              0.1111111111111111,
              "#46039f"
             ],
             [
              0.2222222222222222,
              "#7201a8"
             ],
             [
              0.3333333333333333,
              "#9c179e"
             ],
             [
              0.4444444444444444,
              "#bd3786"
             ],
             [
              0.5555555555555556,
              "#d8576b"
             ],
             [
              0.6666666666666666,
              "#ed7953"
             ],
             [
              0.7777777777777778,
              "#fb9f3a"
             ],
             [
              0.8888888888888888,
              "#fdca26"
             ],
             [
              1,
              "#f0f921"
             ]
            ],
            "type": "histogram2dcontour"
           }
          ],
          "mesh3d": [
           {
            "colorbar": {
             "outlinewidth": 0,
             "ticks": ""
            },
            "type": "mesh3d"
           }
          ],
          "parcoords": [
           {
            "line": {
             "colorbar": {
              "outlinewidth": 0,
              "ticks": ""
             }
            },
            "type": "parcoords"
           }
          ],
          "pie": [
           {
            "automargin": true,
            "type": "pie"
           }
          ],
          "scatter": [
           {
            "marker": {
             "colorbar": {
              "outlinewidth": 0,
              "ticks": ""
             }
            },
            "type": "scatter"
           }
          ],
          "scatter3d": [
           {
            "line": {
             "colorbar": {
              "outlinewidth": 0,
              "ticks": ""
             }
            },
            "marker": {
             "colorbar": {
              "outlinewidth": 0,
              "ticks": ""
             }
            },
            "type": "scatter3d"
           }
          ],
          "scattercarpet": [
           {
            "marker": {
             "colorbar": {
              "outlinewidth": 0,
              "ticks": ""
             }
            },
            "type": "scattercarpet"
           }
          ],
          "scattergeo": [
           {
            "marker": {
             "colorbar": {
              "outlinewidth": 0,
              "ticks": ""
             }
            },
            "type": "scattergeo"
           }
          ],
          "scattergl": [
           {
            "marker": {
             "colorbar": {
              "outlinewidth": 0,
              "ticks": ""
             }
            },
            "type": "scattergl"
           }
          ],
          "scattermapbox": [
           {
            "marker": {
             "colorbar": {
              "outlinewidth": 0,
              "ticks": ""
             }
            },
            "type": "scattermapbox"
           }
          ],
          "scatterpolar": [
           {
            "marker": {
             "colorbar": {
              "outlinewidth": 0,
              "ticks": ""
             }
            },
            "type": "scatterpolar"
           }
          ],
          "scatterpolargl": [
           {
            "marker": {
             "colorbar": {
              "outlinewidth": 0,
              "ticks": ""
             }
            },
            "type": "scatterpolargl"
           }
          ],
          "scatterternary": [
           {
            "marker": {
             "colorbar": {
              "outlinewidth": 0,
              "ticks": ""
             }
            },
            "type": "scatterternary"
           }
          ],
          "surface": [
           {
            "colorbar": {
             "outlinewidth": 0,
             "ticks": ""
            },
            "colorscale": [
             [
              0,
              "#0d0887"
             ],
             [
              0.1111111111111111,
              "#46039f"
             ],
             [
              0.2222222222222222,
              "#7201a8"
             ],
             [
              0.3333333333333333,
              "#9c179e"
             ],
             [
              0.4444444444444444,
              "#bd3786"
             ],
             [
              0.5555555555555556,
              "#d8576b"
             ],
             [
              0.6666666666666666,
              "#ed7953"
             ],
             [
              0.7777777777777778,
              "#fb9f3a"
             ],
             [
              0.8888888888888888,
              "#fdca26"
             ],
             [
              1,
              "#f0f921"
             ]
            ],
            "type": "surface"
           }
          ],
          "table": [
           {
            "cells": {
             "fill": {
              "color": "#EBF0F8"
             },
             "line": {
              "color": "white"
             }
            },
            "header": {
             "fill": {
              "color": "#C8D4E3"
             },
             "line": {
              "color": "white"
             }
            },
            "type": "table"
           }
          ]
         },
         "layout": {
          "annotationdefaults": {
           "arrowcolor": "#2a3f5f",
           "arrowhead": 0,
           "arrowwidth": 1
          },
          "autotypenumbers": "strict",
          "coloraxis": {
           "colorbar": {
            "outlinewidth": 0,
            "ticks": ""
           }
          },
          "colorscale": {
           "diverging": [
            [
             0,
             "#8e0152"
            ],
            [
             0.1,
             "#c51b7d"
            ],
            [
             0.2,
             "#de77ae"
            ],
            [
             0.3,
             "#f1b6da"
            ],
            [
             0.4,
             "#fde0ef"
            ],
            [
             0.5,
             "#f7f7f7"
            ],
            [
             0.6,
             "#e6f5d0"
            ],
            [
             0.7,
             "#b8e186"
            ],
            [
             0.8,
             "#7fbc41"
            ],
            [
             0.9,
             "#4d9221"
            ],
            [
             1,
             "#276419"
            ]
           ],
           "sequential": [
            [
             0,
             "#0d0887"
            ],
            [
             0.1111111111111111,
             "#46039f"
            ],
            [
             0.2222222222222222,
             "#7201a8"
            ],
            [
             0.3333333333333333,
             "#9c179e"
            ],
            [
             0.4444444444444444,
             "#bd3786"
            ],
            [
             0.5555555555555556,
             "#d8576b"
            ],
            [
             0.6666666666666666,
             "#ed7953"
            ],
            [
             0.7777777777777778,
             "#fb9f3a"
            ],
            [
             0.8888888888888888,
             "#fdca26"
            ],
            [
             1,
             "#f0f921"
            ]
           ],
           "sequentialminus": [
            [
             0,
             "#0d0887"
            ],
            [
             0.1111111111111111,
             "#46039f"
            ],
            [
             0.2222222222222222,
             "#7201a8"
            ],
            [
             0.3333333333333333,
             "#9c179e"
            ],
            [
             0.4444444444444444,
             "#bd3786"
            ],
            [
             0.5555555555555556,
             "#d8576b"
            ],
            [
             0.6666666666666666,
             "#ed7953"
            ],
            [
             0.7777777777777778,
             "#fb9f3a"
            ],
            [
             0.8888888888888888,
             "#fdca26"
            ],
            [
             1,
             "#f0f921"
            ]
           ]
          },
          "colorway": [
           "#636efa",
           "#EF553B",
           "#00cc96",
           "#ab63fa",
           "#FFA15A",
           "#19d3f3",
           "#FF6692",
           "#B6E880",
           "#FF97FF",
           "#FECB52"
          ],
          "font": {
           "color": "#2a3f5f"
          },
          "geo": {
           "bgcolor": "white",
           "lakecolor": "white",
           "landcolor": "#E5ECF6",
           "showlakes": true,
           "showland": true,
           "subunitcolor": "white"
          },
          "hoverlabel": {
           "align": "left"
          },
          "hovermode": "closest",
          "mapbox": {
           "style": "light"
          },
          "paper_bgcolor": "white",
          "plot_bgcolor": "#E5ECF6",
          "polar": {
           "angularaxis": {
            "gridcolor": "white",
            "linecolor": "white",
            "ticks": ""
           },
           "bgcolor": "#E5ECF6",
           "radialaxis": {
            "gridcolor": "white",
            "linecolor": "white",
            "ticks": ""
           }
          },
          "scene": {
           "xaxis": {
            "backgroundcolor": "#E5ECF6",
            "gridcolor": "white",
            "gridwidth": 2,
            "linecolor": "white",
            "showbackground": true,
            "ticks": "",
            "zerolinecolor": "white"
           },
           "yaxis": {
            "backgroundcolor": "#E5ECF6",
            "gridcolor": "white",
            "gridwidth": 2,
            "linecolor": "white",
            "showbackground": true,
            "ticks": "",
            "zerolinecolor": "white"
           },
           "zaxis": {
            "backgroundcolor": "#E5ECF6",
            "gridcolor": "white",
            "gridwidth": 2,
            "linecolor": "white",
            "showbackground": true,
            "ticks": "",
            "zerolinecolor": "white"
           }
          },
          "shapedefaults": {
           "line": {
            "color": "#2a3f5f"
           }
          },
          "ternary": {
           "aaxis": {
            "gridcolor": "white",
            "linecolor": "white",
            "ticks": ""
           },
           "baxis": {
            "gridcolor": "white",
            "linecolor": "white",
            "ticks": ""
           },
           "bgcolor": "#E5ECF6",
           "caxis": {
            "gridcolor": "white",
            "linecolor": "white",
            "ticks": ""
           }
          },
          "title": {
           "x": 0.05
          },
          "xaxis": {
           "automargin": true,
           "gridcolor": "white",
           "linecolor": "white",
           "ticks": "",
           "title": {
            "standoff": 15
           },
           "zerolinecolor": "white",
           "zerolinewidth": 2
          },
          "yaxis": {
           "automargin": true,
           "gridcolor": "white",
           "linecolor": "white",
           "ticks": "",
           "title": {
            "standoff": 15
           },
           "zerolinecolor": "white",
           "zerolinewidth": 2
          }
         }
        },
        "title": {
         "text": " BERT embeddings"
        },
        "xaxis": {
         "anchor": "y",
         "domain": [
          0,
          1
         ],
         "title": {
          "text": "Dim1"
         }
        },
        "yaxis": {
         "anchor": "x",
         "domain": [
          0,
          1
         ],
         "title": {
          "text": "Dim2"
         }
        }
       }
      },
      "text/html": [
       "<div>                            <div id=\"597f90e8-d554-45b8-815e-874ca611242b\" class=\"plotly-graph-div\" style=\"height:400px; width:100%;\"></div>            <script type=\"text/javascript\">                require([\"plotly\"], function(Plotly) {                    window.PLOTLYENV=window.PLOTLYENV || {};                                    if (document.getElementById(\"597f90e8-d554-45b8-815e-874ca611242b\")) {                    Plotly.newPlot(                        \"597f90e8-d554-45b8-815e-874ca611242b\",                        [{\"hovertemplate\": \"token=Token: 1 The<br>Dim1=%{x}<br>Dim2=%{y}<br>text=%{text}<extra></extra>\", \"legendgroup\": \"Token: 1 The\", \"marker\": {\"color\": \"#636efa\", \"symbol\": \"circle\"}, \"mode\": \"markers+text\", \"name\": \"Token: 1 The\", \"orientation\": \"v\", \"showlegend\": true, \"text\": [\"The\"], \"textposition\": \"top center\", \"type\": \"scatter\", \"x\": [-71.92072296142578], \"xaxis\": \"x\", \"y\": [-1.7108004093170166], \"yaxis\": \"y\"}, {\"hovertemplate\": \"token=Token: 2 train<br>Dim1=%{x}<br>Dim2=%{y}<br>text=%{text}<extra></extra>\", \"legendgroup\": \"Token: 2 train\", \"marker\": {\"color\": \"#EF553B\", \"symbol\": \"circle\"}, \"mode\": \"markers+text\", \"name\": \"Token: 2 train\", \"orientation\": \"v\", \"showlegend\": true, \"text\": [\"train\"], \"textposition\": \"top center\", \"type\": \"scatter\", \"x\": [-197.7763671875], \"xaxis\": \"x\", \"y\": [-214.94224548339844], \"yaxis\": \"y\"}, {\"hovertemplate\": \"token=Token: 3 briefly<br>Dim1=%{x}<br>Dim2=%{y}<br>text=%{text}<extra></extra>\", \"legendgroup\": \"Token: 3 briefly\", \"marker\": {\"color\": \"#00cc96\", \"symbol\": \"circle\"}, \"mode\": \"markers+text\", \"name\": \"Token: 3 briefly\", \"orientation\": \"v\", \"showlegend\": true, \"text\": [\"briefly\"], \"textposition\": \"top center\", \"type\": \"scatter\", \"x\": [-162.21551513671875], \"xaxis\": \"x\", \"y\": [14.344080924987793], \"yaxis\": \"y\"}, {\"hovertemplate\": \"token=Token: 4 stopped<br>Dim1=%{x}<br>Dim2=%{y}<br>text=%{text}<extra></extra>\", \"legendgroup\": \"Token: 4 stopped\", \"marker\": {\"color\": \"#ab63fa\", \"symbol\": \"circle\"}, \"mode\": \"markers+text\", \"name\": \"Token: 4 stopped\", \"orientation\": \"v\", \"showlegend\": true, \"text\": [\"stopped\"], \"textposition\": \"top center\", \"type\": \"scatter\", \"x\": [-257.17083740234375], \"xaxis\": \"x\", \"y\": [25.592195510864258], \"yaxis\": \"y\"}, {\"hovertemplate\": \"token=Token: 5 at<br>Dim1=%{x}<br>Dim2=%{y}<br>text=%{text}<extra></extra>\", \"legendgroup\": \"Token: 5 at\", \"marker\": {\"color\": \"#FFA15A\", \"symbol\": \"circle\"}, \"mode\": \"markers+text\", \"name\": \"Token: 5 at\", \"orientation\": \"v\", \"showlegend\": true, \"text\": [\"at\"], \"textposition\": \"top center\", \"type\": \"scatter\", \"x\": [-204.5305938720703], \"xaxis\": \"x\", \"y\": [-55.54716491699219], \"yaxis\": \"y\"}, {\"hovertemplate\": \"token=Token: 6 the<br>Dim1=%{x}<br>Dim2=%{y}<br>text=%{text}<extra></extra>\", \"legendgroup\": \"Token: 6 the\", \"marker\": {\"color\": \"#19d3f3\", \"symbol\": \"circle\"}, \"mode\": \"markers+text\", \"name\": \"Token: 6 the\", \"orientation\": \"v\", \"showlegend\": true, \"text\": [\"the\"], \"textposition\": \"top center\", \"type\": \"scatter\", \"x\": [-166.75779724121094], \"xaxis\": \"x\", \"y\": [93.05743408203125], \"yaxis\": \"y\"}, {\"hovertemplate\": \"token=Token: 7 SBT<br>Dim1=%{x}<br>Dim2=%{y}<br>text=%{text}<extra></extra>\", \"legendgroup\": \"Token: 7 SBT\", \"marker\": {\"color\": \"#FF6692\", \"symbol\": \"circle\"}, \"mode\": \"markers+text\", \"name\": \"Token: 7 SBT\", \"orientation\": \"v\", \"showlegend\": true, \"text\": [\"SBT\"], \"textposition\": \"top center\", \"type\": \"scatter\", \"x\": [-303.5973815917969], \"xaxis\": \"x\", \"y\": [-93.4865951538086], \"yaxis\": \"y\"}, {\"hovertemplate\": \"token=Token: 8 Terminal<br>Dim1=%{x}<br>Dim2=%{y}<br>text=%{text}<extra></extra>\", \"legendgroup\": \"Token: 8 Terminal\", \"marker\": {\"color\": \"#B6E880\", \"symbol\": \"circle\"}, \"mode\": \"markers+text\", \"name\": \"Token: 8 Terminal\", \"orientation\": \"v\", \"showlegend\": true, \"text\": [\"Terminal\"], \"textposition\": \"top center\", \"type\": \"scatter\", \"x\": [-264.6103820800781], \"xaxis\": \"x\", \"y\": [123.28887176513672], \"yaxis\": \"y\"}, {\"hovertemplate\": \"token=Token: 9 .<br>Dim1=%{x}<br>Dim2=%{y}<br>text=%{text}<extra></extra>\", \"legendgroup\": \"Token: 9 .\", \"marker\": {\"color\": \"#FF97FF\", \"symbol\": \"circle\"}, \"mode\": \"markers+text\", \"name\": \"Token: 9 .\", \"orientation\": \"v\", \"showlegend\": true, \"text\": [\".\"], \"textposition\": \"top center\", \"type\": \"scatter\", \"x\": [-87.28092193603516], \"xaxis\": \"x\", \"y\": [68.9354476928711], \"yaxis\": \"y\"}, {\"hovertemplate\": \"token=Token: 10 It<br>Dim1=%{x}<br>Dim2=%{y}<br>text=%{text}<extra></extra>\", \"legendgroup\": \"Token: 10 It\", \"marker\": {\"color\": \"#FECB52\", \"symbol\": \"circle\"}, \"mode\": \"markers+text\", \"name\": \"Token: 10 It\", \"orientation\": \"v\", \"showlegend\": true, \"text\": [\"It\"], \"textposition\": \"top center\", \"type\": \"scatter\", \"x\": [91.48729705810547], \"xaxis\": \"x\", \"y\": [234.3089141845703], \"yaxis\": \"y\"}, {\"hovertemplate\": \"token=Token: 11 was<br>Dim1=%{x}<br>Dim2=%{y}<br>text=%{text}<extra></extra>\", \"legendgroup\": \"Token: 11 was\", \"marker\": {\"color\": \"#636efa\", \"symbol\": \"circle\"}, \"mode\": \"markers+text\", \"name\": \"Token: 11 was\", \"orientation\": \"v\", \"showlegend\": true, \"text\": [\"was\"], \"textposition\": \"top center\", \"type\": \"scatter\", \"x\": [21.823678970336914], \"xaxis\": \"x\", \"y\": [179.4719696044922], \"yaxis\": \"y\"}, {\"hovertemplate\": \"token=Token: 12 in<br>Dim1=%{x}<br>Dim2=%{y}<br>text=%{text}<extra></extra>\", \"legendgroup\": \"Token: 12 in\", \"marker\": {\"color\": \"#EF553B\", \"symbol\": \"circle\"}, \"mode\": \"markers+text\", \"name\": \"Token: 12 in\", \"orientation\": \"v\", \"showlegend\": true, \"text\": [\"in\"], \"textposition\": \"top center\", \"type\": \"scatter\", \"x\": [-113.1656494140625], \"xaxis\": \"x\", \"y\": [-60.41178894042969], \"yaxis\": \"y\"}, {\"hovertemplate\": \"token=Token: 13 this<br>Dim1=%{x}<br>Dim2=%{y}<br>text=%{text}<extra></extra>\", \"legendgroup\": \"Token: 13 this\", \"marker\": {\"color\": \"#00cc96\", \"symbol\": \"circle\"}, \"mode\": \"markers+text\", \"name\": \"Token: 13 this\", \"orientation\": \"v\", \"showlegend\": true, \"text\": [\"this\"], \"textposition\": \"top center\", \"type\": \"scatter\", \"x\": [-111.74805450439453], \"xaxis\": \"x\", \"y\": [161.83973693847656], \"yaxis\": \"y\"}, {\"hovertemplate\": \"token=Token: 14 city<br>Dim1=%{x}<br>Dim2=%{y}<br>text=%{text}<extra></extra>\", \"legendgroup\": \"Token: 14 city\", \"marker\": {\"color\": \"#ab63fa\", \"symbol\": \"circle\"}, \"mode\": \"markers+text\", \"name\": \"Token: 14 city\", \"orientation\": \"v\", \"showlegend\": true, \"text\": [\"city\"], \"textposition\": \"top center\", \"type\": \"scatter\", \"x\": [-188.79396057128906], \"xaxis\": \"x\", \"y\": [213.5375518798828], \"yaxis\": \"y\"}, {\"hovertemplate\": \"token=Token: 15 that<br>Dim1=%{x}<br>Dim2=%{y}<br>text=%{text}<extra></extra>\", \"legendgroup\": \"Token: 15 that\", \"marker\": {\"color\": \"#FFA15A\", \"symbol\": \"circle\"}, \"mode\": \"markers+text\", \"name\": \"Token: 15 that\", \"orientation\": \"v\", \"showlegend\": true, \"text\": [\"that\"], \"textposition\": \"top center\", \"type\": \"scatter\", \"x\": [-34.63112258911133], \"xaxis\": \"x\", \"y\": [127.48400115966797], \"yaxis\": \"y\"}, {\"hovertemplate\": \"token=Token: 16 I<br>Dim1=%{x}<br>Dim2=%{y}<br>text=%{text}<extra></extra>\", \"legendgroup\": \"Token: 16 I\", \"marker\": {\"color\": \"#19d3f3\", \"symbol\": \"circle\"}, \"mode\": \"markers+text\", \"name\": \"Token: 16 I\", \"orientation\": \"v\", \"showlegend\": true, \"text\": [\"I\"], \"textposition\": \"top center\", \"type\": \"scatter\", \"x\": [-154.21482849121094], \"xaxis\": \"x\", \"y\": [-132.3960723876953], \"yaxis\": \"y\"}, {\"hovertemplate\": \"token=Token: 17 underwent<br>Dim1=%{x}<br>Dim2=%{y}<br>text=%{text}<extra></extra>\", \"legendgroup\": \"Token: 17 underwent\", \"marker\": {\"color\": \"#FF6692\", \"symbol\": \"circle\"}, \"mode\": \"markers+text\", \"name\": \"Token: 17 underwent\", \"orientation\": \"v\", \"showlegend\": true, \"text\": [\"underwent\"], \"textposition\": \"top center\", \"type\": \"scatter\", \"x\": [63.71422576904297], \"xaxis\": \"x\", \"y\": [-242.01080322265625], \"yaxis\": \"y\"}, {\"hovertemplate\": \"token=Token: 18 my<br>Dim1=%{x}<br>Dim2=%{y}<br>text=%{text}<extra></extra>\", \"legendgroup\": \"Token: 18 my\", \"marker\": {\"color\": \"#B6E880\", \"symbol\": \"circle\"}, \"mode\": \"markers+text\", \"name\": \"Token: 18 my\", \"orientation\": \"v\", \"showlegend\": true, \"text\": [\"my\"], \"textposition\": \"top center\", \"type\": \"scatter\", \"x\": [57.85811233520508], \"xaxis\": \"x\", \"y\": [-81.87300109863281], \"yaxis\": \"y\"}, {\"hovertemplate\": \"token=Token: 19 training<br>Dim1=%{x}<br>Dim2=%{y}<br>text=%{text}<extra></extra>\", \"legendgroup\": \"Token: 19 training\", \"marker\": {\"color\": \"#FF97FF\", \"symbol\": \"circle\"}, \"mode\": \"markers+text\", \"name\": \"Token: 19 training\", \"orientation\": \"v\", \"showlegend\": true, \"text\": [\"training\"], \"textposition\": \"top center\", \"type\": \"scatter\", \"x\": [181.78990173339844], \"xaxis\": \"x\", \"y\": [-105.67499542236328], \"yaxis\": \"y\"}, {\"hovertemplate\": \"token=Token: 20 at<br>Dim1=%{x}<br>Dim2=%{y}<br>text=%{text}<extra></extra>\", \"legendgroup\": \"Token: 20 at\", \"marker\": {\"color\": \"#FECB52\", \"symbol\": \"circle\"}, \"mode\": \"markers+text\", \"name\": \"Token: 20 at\", \"orientation\": \"v\", \"showlegend\": true, \"text\": [\"at\"], \"textposition\": \"top center\", \"type\": \"scatter\", \"x\": [-26.2297306060791], \"xaxis\": \"x\", \"y\": [-79.21994018554688], \"yaxis\": \"y\"}, {\"hovertemplate\": \"token=Token: 21 law<br>Dim1=%{x}<br>Dim2=%{y}<br>text=%{text}<extra></extra>\", \"legendgroup\": \"Token: 21 law\", \"marker\": {\"color\": \"#636efa\", \"symbol\": \"circle\"}, \"mode\": \"markers+text\", \"name\": \"Token: 21 law\", \"orientation\": \"v\", \"showlegend\": true, \"text\": [\"law\"], \"textposition\": \"top center\", \"type\": \"scatter\", \"x\": [282.90460205078125], \"xaxis\": \"x\", \"y\": [-57.17416000366211], \"yaxis\": \"y\"}, {\"hovertemplate\": \"token=Token: 22 school<br>Dim1=%{x}<br>Dim2=%{y}<br>text=%{text}<extra></extra>\", \"legendgroup\": \"Token: 22 school\", \"marker\": {\"color\": \"#EF553B\", \"symbol\": \"circle\"}, \"mode\": \"markers+text\", \"name\": \"Token: 22 school\", \"orientation\": \"v\", \"showlegend\": true, \"text\": [\"school\"], \"textposition\": \"top center\", \"type\": \"scatter\", \"x\": [107.53177642822266], \"xaxis\": \"x\", \"y\": [-147.53053283691406], \"yaxis\": \"y\"}, {\"hovertemplate\": \"token=Token: 23 .<br>Dim1=%{x}<br>Dim2=%{y}<br>text=%{text}<extra></extra>\", \"legendgroup\": \"Token: 23 .\", \"marker\": {\"color\": \"#00cc96\", \"symbol\": \"circle\"}, \"mode\": \"markers+text\", \"name\": \"Token: 23 .\", \"orientation\": \"v\", \"showlegend\": true, \"text\": [\".\"], \"textposition\": \"top center\", \"type\": \"scatter\", \"x\": [-12.78538990020752], \"xaxis\": \"x\", \"y\": [54.94039535522461], \"yaxis\": \"y\"}, {\"hovertemplate\": \"token=Token: 24 There<br>Dim1=%{x}<br>Dim2=%{y}<br>text=%{text}<extra></extra>\", \"legendgroup\": \"Token: 24 There\", \"marker\": {\"color\": \"#ab63fa\", \"symbol\": \"circle\"}, \"mode\": \"markers+text\", \"name\": \"Token: 24 There\", \"orientation\": \"v\", \"showlegend\": true, \"text\": [\"There\"], \"textposition\": \"top center\", \"type\": \"scatter\", \"x\": [-57.70497512817383], \"xaxis\": \"x\", \"y\": [232.9219970703125], \"yaxis\": \"y\"}, {\"hovertemplate\": \"token=Token: 25 were<br>Dim1=%{x}<br>Dim2=%{y}<br>text=%{text}<extra></extra>\", \"legendgroup\": \"Token: 25 were\", \"marker\": {\"color\": \"#FFA15A\", \"symbol\": \"circle\"}, \"mode\": \"markers+text\", \"name\": \"Token: 25 were\", \"orientation\": \"v\", \"showlegend\": true, \"text\": [\"were\"], \"textposition\": \"top center\", \"type\": \"scatter\", \"x\": [97.03214263916016], \"xaxis\": \"x\", \"y\": [143.89073181152344], \"yaxis\": \"y\"}, {\"hovertemplate\": \"token=Token: 26 so<br>Dim1=%{x}<br>Dim2=%{y}<br>text=%{text}<extra></extra>\", \"legendgroup\": \"Token: 26 so\", \"marker\": {\"color\": \"#19d3f3\", \"symbol\": \"circle\"}, \"mode\": \"markers+text\", \"name\": \"Token: 26 so\", \"orientation\": \"v\", \"showlegend\": true, \"text\": [\"so\"], \"textposition\": \"top center\", \"type\": \"scatter\", \"x\": [10.712138175964355], \"xaxis\": \"x\", \"y\": [300.4467468261719], \"yaxis\": \"y\"}, {\"hovertemplate\": \"token=Token: 27 many<br>Dim1=%{x}<br>Dim2=%{y}<br>text=%{text}<extra></extra>\", \"legendgroup\": \"Token: 27 many\", \"marker\": {\"color\": \"#FF6692\", \"symbol\": \"circle\"}, \"mode\": \"markers+text\", \"name\": \"Token: 27 many\", \"orientation\": \"v\", \"showlegend\": true, \"text\": [\"many\"], \"textposition\": \"top center\", \"type\": \"scatter\", \"x\": [189.43739318847656], \"xaxis\": \"x\", \"y\": [162.0203857421875], \"yaxis\": \"y\"}, {\"hovertemplate\": \"token=Token: 28 qualified<br>Dim1=%{x}<br>Dim2=%{y}<br>text=%{text}<extra></extra>\", \"legendgroup\": \"Token: 28 qualified\", \"marker\": {\"color\": \"#B6E880\", \"symbol\": \"circle\"}, \"mode\": \"markers+text\", \"name\": \"Token: 28 qualified\", \"orientation\": \"v\", \"showlegend\": true, \"text\": [\"qualified\"], \"textposition\": \"top center\", \"type\": \"scatter\", \"x\": [238.6980743408203], \"xaxis\": \"x\", \"y\": [53.87958908081055], \"yaxis\": \"y\"}, {\"hovertemplate\": \"token=Token: 29 professors<br>Dim1=%{x}<br>Dim2=%{y}<br>text=%{text}<extra></extra>\", \"legendgroup\": \"Token: 29 professors\", \"marker\": {\"color\": \"#FF97FF\", \"symbol\": \"circle\"}, \"mode\": \"markers+text\", \"name\": \"Token: 29 professors\", \"orientation\": \"v\", \"showlegend\": true, \"text\": [\"professors\"], \"textposition\": \"top center\", \"type\": \"scatter\", \"x\": [188.777587890625], \"xaxis\": \"x\", \"y\": [-207.87783813476562], \"yaxis\": \"y\"}, {\"hovertemplate\": \"token=Token: 30 who<br>Dim1=%{x}<br>Dim2=%{y}<br>text=%{text}<extra></extra>\", \"legendgroup\": \"Token: 30 who\", \"marker\": {\"color\": \"#FECB52\", \"symbol\": \"circle\"}, \"mode\": \"markers+text\", \"name\": \"Token: 30 who\", \"orientation\": \"v\", \"showlegend\": true, \"text\": [\"who\"], \"textposition\": \"top center\", \"type\": \"scatter\", \"x\": [144.08946228027344], \"xaxis\": \"x\", \"y\": [65.41478729248047], \"yaxis\": \"y\"}, {\"hovertemplate\": \"token=Token: 31 used<br>Dim1=%{x}<br>Dim2=%{y}<br>text=%{text}<extra></extra>\", \"legendgroup\": \"Token: 31 used\", \"marker\": {\"color\": \"#636efa\", \"symbol\": \"circle\"}, \"mode\": \"markers+text\", \"name\": \"Token: 31 used\", \"orientation\": \"v\", \"showlegend\": true, \"text\": [\"used\"], \"textposition\": \"top center\", \"type\": \"scatter\", \"x\": [59.29315185546875], \"xaxis\": \"x\", \"y\": [74.76524353027344], \"yaxis\": \"y\"}, {\"hovertemplate\": \"token=Token: 32 to<br>Dim1=%{x}<br>Dim2=%{y}<br>text=%{text}<extra></extra>\", \"legendgroup\": \"Token: 32 to\", \"marker\": {\"color\": \"#EF553B\", \"symbol\": \"circle\"}, \"mode\": \"markers+text\", \"name\": \"Token: 32 to\", \"orientation\": \"v\", \"showlegend\": true, \"text\": [\"to\"], \"textposition\": \"top center\", \"type\": \"scatter\", \"x\": [-71.53583526611328], \"xaxis\": \"x\", \"y\": [-143.21121215820312], \"yaxis\": \"y\"}, {\"hovertemplate\": \"token=Token: 33 train<br>Dim1=%{x}<br>Dim2=%{y}<br>text=%{text}<extra></extra>\", \"legendgroup\": \"Token: 33 train\", \"marker\": {\"color\": \"#00cc96\", \"symbol\": \"circle\"}, \"mode\": \"markers+text\", \"name\": \"Token: 33 train\", \"orientation\": \"v\", \"showlegend\": true, \"text\": [\"train\"], \"textposition\": \"top center\", \"type\": \"scatter\", \"x\": [171.2243194580078], \"xaxis\": \"x\", \"y\": [-27.878957748413086], \"yaxis\": \"y\"}, {\"hovertemplate\": \"token=Token: 34 us<br>Dim1=%{x}<br>Dim2=%{y}<br>text=%{text}<extra></extra>\", \"legendgroup\": \"Token: 34 us\", \"marker\": {\"color\": \"#ab63fa\", \"symbol\": \"circle\"}, \"mode\": \"markers+text\", \"name\": \"Token: 34 us\", \"orientation\": \"v\", \"showlegend\": true, \"text\": [\"us\"], \"textposition\": \"top center\", \"type\": \"scatter\", \"x\": [89.33572387695312], \"xaxis\": \"x\", \"y\": [-6.455163955688477], \"yaxis\": \"y\"}, {\"hovertemplate\": \"token=Token: 35 back<br>Dim1=%{x}<br>Dim2=%{y}<br>text=%{text}<extra></extra>\", \"legendgroup\": \"Token: 35 back\", \"marker\": {\"color\": \"#FFA15A\", \"symbol\": \"circle\"}, \"mode\": \"markers+text\", \"name\": \"Token: 35 back\", \"orientation\": \"v\", \"showlegend\": true, \"text\": [\"back\"], \"textposition\": \"top center\", \"type\": \"scatter\", \"x\": [-58.1305046081543], \"xaxis\": \"x\", \"y\": [-238.29312133789062], \"yaxis\": \"y\"}, {\"hovertemplate\": \"token=Token: 36 then<br>Dim1=%{x}<br>Dim2=%{y}<br>text=%{text}<extra></extra>\", \"legendgroup\": \"Token: 36 then\", \"marker\": {\"color\": \"#19d3f3\", \"symbol\": \"circle\"}, \"mode\": \"markers+text\", \"name\": \"Token: 36 then\", \"orientation\": \"v\", \"showlegend\": true, \"text\": [\"then\"], \"textposition\": \"top center\", \"type\": \"scatter\", \"x\": [10.650836944580078], \"xaxis\": \"x\", \"y\": [-163.11892700195312], \"yaxis\": \"y\"}, {\"hovertemplate\": \"token=Token: 37 .<br>Dim1=%{x}<br>Dim2=%{y}<br>text=%{text}<extra></extra>\", \"legendgroup\": \"Token: 37 .\", \"marker\": {\"color\": \"#FF6692\", \"symbol\": \"circle\"}, \"mode\": \"markers+text\", \"name\": \"Token: 37 .\", \"orientation\": \"v\", \"showlegend\": true, \"text\": [\".\"], \"textposition\": \"top center\", \"type\": \"scatter\", \"x\": [10.32485294342041], \"xaxis\": \"x\", \"y\": [-10.493788719177246], \"yaxis\": \"y\"}],                        {\"height\": 400, \"legend\": {\"title\": {\"text\": \"token\"}, \"tracegroupgap\": 0}, \"margin\": {\"t\": 60}, \"template\": {\"data\": {\"bar\": [{\"error_x\": {\"color\": \"#2a3f5f\"}, \"error_y\": {\"color\": \"#2a3f5f\"}, \"marker\": {\"line\": {\"color\": \"#E5ECF6\", \"width\": 0.5}}, \"type\": \"bar\"}], \"barpolar\": [{\"marker\": {\"line\": {\"color\": \"#E5ECF6\", \"width\": 0.5}}, \"type\": \"barpolar\"}], \"carpet\": [{\"aaxis\": {\"endlinecolor\": \"#2a3f5f\", \"gridcolor\": \"white\", \"linecolor\": \"white\", \"minorgridcolor\": \"white\", \"startlinecolor\": \"#2a3f5f\"}, \"baxis\": {\"endlinecolor\": \"#2a3f5f\", \"gridcolor\": \"white\", \"linecolor\": \"white\", \"minorgridcolor\": \"white\", \"startlinecolor\": \"#2a3f5f\"}, \"type\": \"carpet\"}], \"choropleth\": [{\"colorbar\": {\"outlinewidth\": 0, \"ticks\": \"\"}, \"type\": \"choropleth\"}], \"contour\": [{\"colorbar\": {\"outlinewidth\": 0, \"ticks\": \"\"}, \"colorscale\": [[0.0, \"#0d0887\"], [0.1111111111111111, \"#46039f\"], [0.2222222222222222, \"#7201a8\"], [0.3333333333333333, \"#9c179e\"], [0.4444444444444444, \"#bd3786\"], [0.5555555555555556, \"#d8576b\"], [0.6666666666666666, \"#ed7953\"], [0.7777777777777778, \"#fb9f3a\"], [0.8888888888888888, \"#fdca26\"], [1.0, \"#f0f921\"]], \"type\": \"contour\"}], \"contourcarpet\": [{\"colorbar\": {\"outlinewidth\": 0, \"ticks\": \"\"}, \"type\": \"contourcarpet\"}], \"heatmap\": [{\"colorbar\": {\"outlinewidth\": 0, \"ticks\": \"\"}, \"colorscale\": [[0.0, \"#0d0887\"], [0.1111111111111111, \"#46039f\"], [0.2222222222222222, \"#7201a8\"], [0.3333333333333333, \"#9c179e\"], [0.4444444444444444, \"#bd3786\"], [0.5555555555555556, \"#d8576b\"], [0.6666666666666666, \"#ed7953\"], [0.7777777777777778, \"#fb9f3a\"], [0.8888888888888888, \"#fdca26\"], [1.0, \"#f0f921\"]], \"type\": \"heatmap\"}], \"heatmapgl\": [{\"colorbar\": {\"outlinewidth\": 0, \"ticks\": \"\"}, \"colorscale\": [[0.0, \"#0d0887\"], [0.1111111111111111, \"#46039f\"], [0.2222222222222222, \"#7201a8\"], [0.3333333333333333, \"#9c179e\"], [0.4444444444444444, \"#bd3786\"], [0.5555555555555556, \"#d8576b\"], [0.6666666666666666, \"#ed7953\"], [0.7777777777777778, \"#fb9f3a\"], [0.8888888888888888, \"#fdca26\"], [1.0, \"#f0f921\"]], \"type\": \"heatmapgl\"}], \"histogram\": [{\"marker\": {\"colorbar\": {\"outlinewidth\": 0, \"ticks\": \"\"}}, \"type\": \"histogram\"}], \"histogram2d\": [{\"colorbar\": {\"outlinewidth\": 0, \"ticks\": \"\"}, \"colorscale\": [[0.0, \"#0d0887\"], [0.1111111111111111, \"#46039f\"], [0.2222222222222222, \"#7201a8\"], [0.3333333333333333, \"#9c179e\"], [0.4444444444444444, \"#bd3786\"], [0.5555555555555556, \"#d8576b\"], [0.6666666666666666, \"#ed7953\"], [0.7777777777777778, \"#fb9f3a\"], [0.8888888888888888, \"#fdca26\"], [1.0, \"#f0f921\"]], \"type\": \"histogram2d\"}], \"histogram2dcontour\": [{\"colorbar\": {\"outlinewidth\": 0, \"ticks\": \"\"}, \"colorscale\": [[0.0, \"#0d0887\"], [0.1111111111111111, \"#46039f\"], [0.2222222222222222, \"#7201a8\"], [0.3333333333333333, \"#9c179e\"], [0.4444444444444444, \"#bd3786\"], [0.5555555555555556, \"#d8576b\"], [0.6666666666666666, \"#ed7953\"], [0.7777777777777778, \"#fb9f3a\"], [0.8888888888888888, \"#fdca26\"], [1.0, \"#f0f921\"]], \"type\": \"histogram2dcontour\"}], \"mesh3d\": [{\"colorbar\": {\"outlinewidth\": 0, \"ticks\": \"\"}, \"type\": \"mesh3d\"}], \"parcoords\": [{\"line\": {\"colorbar\": {\"outlinewidth\": 0, \"ticks\": \"\"}}, \"type\": \"parcoords\"}], \"pie\": [{\"automargin\": true, \"type\": \"pie\"}], \"scatter\": [{\"marker\": {\"colorbar\": {\"outlinewidth\": 0, \"ticks\": \"\"}}, \"type\": \"scatter\"}], \"scatter3d\": [{\"line\": {\"colorbar\": {\"outlinewidth\": 0, \"ticks\": \"\"}}, \"marker\": {\"colorbar\": {\"outlinewidth\": 0, \"ticks\": \"\"}}, \"type\": \"scatter3d\"}], \"scattercarpet\": [{\"marker\": {\"colorbar\": {\"outlinewidth\": 0, \"ticks\": \"\"}}, \"type\": \"scattercarpet\"}], \"scattergeo\": [{\"marker\": {\"colorbar\": {\"outlinewidth\": 0, \"ticks\": \"\"}}, \"type\": \"scattergeo\"}], \"scattergl\": [{\"marker\": {\"colorbar\": {\"outlinewidth\": 0, \"ticks\": \"\"}}, \"type\": \"scattergl\"}], \"scattermapbox\": [{\"marker\": {\"colorbar\": {\"outlinewidth\": 0, \"ticks\": \"\"}}, \"type\": \"scattermapbox\"}], \"scatterpolar\": [{\"marker\": {\"colorbar\": {\"outlinewidth\": 0, \"ticks\": \"\"}}, \"type\": \"scatterpolar\"}], \"scatterpolargl\": [{\"marker\": {\"colorbar\": {\"outlinewidth\": 0, \"ticks\": \"\"}}, \"type\": \"scatterpolargl\"}], \"scatterternary\": [{\"marker\": {\"colorbar\": {\"outlinewidth\": 0, \"ticks\": \"\"}}, \"type\": \"scatterternary\"}], \"surface\": [{\"colorbar\": {\"outlinewidth\": 0, \"ticks\": \"\"}, \"colorscale\": [[0.0, \"#0d0887\"], [0.1111111111111111, \"#46039f\"], [0.2222222222222222, \"#7201a8\"], [0.3333333333333333, \"#9c179e\"], [0.4444444444444444, \"#bd3786\"], [0.5555555555555556, \"#d8576b\"], [0.6666666666666666, \"#ed7953\"], [0.7777777777777778, \"#fb9f3a\"], [0.8888888888888888, \"#fdca26\"], [1.0, \"#f0f921\"]], \"type\": \"surface\"}], \"table\": [{\"cells\": {\"fill\": {\"color\": \"#EBF0F8\"}, \"line\": {\"color\": \"white\"}}, \"header\": {\"fill\": {\"color\": \"#C8D4E3\"}, \"line\": {\"color\": \"white\"}}, \"type\": \"table\"}]}, \"layout\": {\"annotationdefaults\": {\"arrowcolor\": \"#2a3f5f\", \"arrowhead\": 0, \"arrowwidth\": 1}, \"autotypenumbers\": \"strict\", \"coloraxis\": {\"colorbar\": {\"outlinewidth\": 0, \"ticks\": \"\"}}, \"colorscale\": {\"diverging\": [[0, \"#8e0152\"], [0.1, \"#c51b7d\"], [0.2, \"#de77ae\"], [0.3, \"#f1b6da\"], [0.4, \"#fde0ef\"], [0.5, \"#f7f7f7\"], [0.6, \"#e6f5d0\"], [0.7, \"#b8e186\"], [0.8, \"#7fbc41\"], [0.9, \"#4d9221\"], [1, \"#276419\"]], \"sequential\": [[0.0, \"#0d0887\"], [0.1111111111111111, \"#46039f\"], [0.2222222222222222, \"#7201a8\"], [0.3333333333333333, \"#9c179e\"], [0.4444444444444444, \"#bd3786\"], [0.5555555555555556, \"#d8576b\"], [0.6666666666666666, \"#ed7953\"], [0.7777777777777778, \"#fb9f3a\"], [0.8888888888888888, \"#fdca26\"], [1.0, \"#f0f921\"]], \"sequentialminus\": [[0.0, \"#0d0887\"], [0.1111111111111111, \"#46039f\"], [0.2222222222222222, \"#7201a8\"], [0.3333333333333333, \"#9c179e\"], [0.4444444444444444, \"#bd3786\"], [0.5555555555555556, \"#d8576b\"], [0.6666666666666666, \"#ed7953\"], [0.7777777777777778, \"#fb9f3a\"], [0.8888888888888888, \"#fdca26\"], [1.0, \"#f0f921\"]]}, \"colorway\": [\"#636efa\", \"#EF553B\", \"#00cc96\", \"#ab63fa\", \"#FFA15A\", \"#19d3f3\", \"#FF6692\", \"#B6E880\", \"#FF97FF\", \"#FECB52\"], \"font\": {\"color\": \"#2a3f5f\"}, \"geo\": {\"bgcolor\": \"white\", \"lakecolor\": \"white\", \"landcolor\": \"#E5ECF6\", \"showlakes\": true, \"showland\": true, \"subunitcolor\": \"white\"}, \"hoverlabel\": {\"align\": \"left\"}, \"hovermode\": \"closest\", \"mapbox\": {\"style\": \"light\"}, \"paper_bgcolor\": \"white\", \"plot_bgcolor\": \"#E5ECF6\", \"polar\": {\"angularaxis\": {\"gridcolor\": \"white\", \"linecolor\": \"white\", \"ticks\": \"\"}, \"bgcolor\": \"#E5ECF6\", \"radialaxis\": {\"gridcolor\": \"white\", \"linecolor\": \"white\", \"ticks\": \"\"}}, \"scene\": {\"xaxis\": {\"backgroundcolor\": \"#E5ECF6\", \"gridcolor\": \"white\", \"gridwidth\": 2, \"linecolor\": \"white\", \"showbackground\": true, \"ticks\": \"\", \"zerolinecolor\": \"white\"}, \"yaxis\": {\"backgroundcolor\": \"#E5ECF6\", \"gridcolor\": \"white\", \"gridwidth\": 2, \"linecolor\": \"white\", \"showbackground\": true, \"ticks\": \"\", \"zerolinecolor\": \"white\"}, \"zaxis\": {\"backgroundcolor\": \"#E5ECF6\", \"gridcolor\": \"white\", \"gridwidth\": 2, \"linecolor\": \"white\", \"showbackground\": true, \"ticks\": \"\", \"zerolinecolor\": \"white\"}}, \"shapedefaults\": {\"line\": {\"color\": \"#2a3f5f\"}}, \"ternary\": {\"aaxis\": {\"gridcolor\": \"white\", \"linecolor\": \"white\", \"ticks\": \"\"}, \"baxis\": {\"gridcolor\": \"white\", \"linecolor\": \"white\", \"ticks\": \"\"}, \"bgcolor\": \"#E5ECF6\", \"caxis\": {\"gridcolor\": \"white\", \"linecolor\": \"white\", \"ticks\": \"\"}}, \"title\": {\"x\": 0.05}, \"xaxis\": {\"automargin\": true, \"gridcolor\": \"white\", \"linecolor\": \"white\", \"ticks\": \"\", \"title\": {\"standoff\": 15}, \"zerolinecolor\": \"white\", \"zerolinewidth\": 2}, \"yaxis\": {\"automargin\": true, \"gridcolor\": \"white\", \"linecolor\": \"white\", \"ticks\": \"\", \"title\": {\"standoff\": 15}, \"zerolinecolor\": \"white\", \"zerolinewidth\": 2}}}, \"title\": {\"text\": \" BERT embeddings\"}, \"xaxis\": {\"anchor\": \"y\", \"domain\": [0.0, 1.0], \"title\": {\"text\": \"Dim1\"}}, \"yaxis\": {\"anchor\": \"x\", \"domain\": [0.0, 1.0], \"title\": {\"text\": \"Dim2\"}}},                        {\"responsive\": true}                    ).then(function(){\n",
       "                            \n",
       "var gd = document.getElementById('597f90e8-d554-45b8-815e-874ca611242b');\n",
       "var x = new MutationObserver(function (mutations, observer) {{\n",
       "        var display = window.getComputedStyle(gd).display;\n",
       "        if (!display || display === 'none') {{\n",
       "            console.log([gd, 'removed!']);\n",
       "            Plotly.purge(gd);\n",
       "            observer.disconnect();\n",
       "        }}\n",
       "}});\n",
       "\n",
       "// Listen for the removal of the full notebook cells\n",
       "var notebookContainer = gd.closest('#notebook-container');\n",
       "if (notebookContainer) {{\n",
       "    x.observe(notebookContainer, {childList: true});\n",
       "}}\n",
       "\n",
       "// Listen for the clearing of the current output cell\n",
       "var outputEl = gd.closest('.output');\n",
       "if (outputEl) {{\n",
       "    x.observe(outputEl, {childList: true});\n",
       "}}\n",
       "\n",
       "                        })                };                });            </script>        </div>"
      ]
     },
     "metadata": {},
     "output_type": "display_data"
    }
   ],
   "source": [
    "perplexity_s=34\n",
    "bert_embedding = TransformerWordEmbeddings('bert-base-uncased')\n",
    "embeddings,tokens=get_embeddings(text,bert_embedding)\n",
    "fig=tsne_plot_embeddings(embeddings,tokens,perplexity_s)\n",
    "fig.update_layout(height=400, title_text=\" BERT embeddings\")\n",
    "fig.show()"
   ]
  },
  {
   "cell_type": "code",
   "execution_count": null,
   "metadata": {},
   "outputs": [],
   "source": [
    "# text=\"\"\"On our way a huge tree bark was lying on the road so we had to take a longer route to reach Rob's home. \n",
    "# When we reachd his place the dog gave a loud bark and become silent afterward\n",
    "# \"\"\""
   ]
  },
  {
   "cell_type": "code",
   "execution_count": 8,
   "metadata": {},
   "outputs": [],
   "source": [
    "# text=\"\"\"\n",
    "# I will miss the training school and all the fun I had. \n",
    "# I am grateful that I could train a bright batch of students here. It was time to board the train to my hometown. \n",
    "# \"\"\""
   ]
  },
  {
   "cell_type": "code",
   "execution_count": 6,
   "metadata": {},
   "outputs": [],
   "source": [
    "# def tsne_plot_embeddings_sns(emb_mat,tokens,perplexity=30):\n",
    "#     tsne = TSNE(n_components=2,random_state=12,perplexity=perplexity)\n",
    "#     emb_tsne = tsne.fit_transform(emb_mat)\n",
    "#     emb_tsne_data = np.vstack((emb_tsne.T, tokens)).T\n",
    "#     df_tsne = pd.DataFrame(emb_tsne_data, columns=['Dim1', 'Dim2', 'token'])\n",
    "#     ax = sns.scatterplot(data=df_tsne, x='Dim1', y='Dim2', hue='token')\n",
    "#     ax.set_title('T-SNE ELMO Embeddings, colored by Part of Speech Tag')\n",
    "#     plt.legend(bbox_to_anchor=(1.01, 1),borderaxespad=0)\n",
    "#     label_point(df_tsne.Dim1, df_tsne.Dim2, pd.Series([t.text for t in df_tsne.token]), plt.gca())"
   ]
  },
  {
   "cell_type": "code",
   "execution_count": 7,
   "metadata": {},
   "outputs": [],
   "source": [
    "# def label_point(x, y, val, ax):\n",
    "#     a = pd.concat({'x': x, 'y': y, 'val': val}, axis=1)\n",
    "#     for i, point in a.iterrows():\n",
    "#         ax.text(point['x']+.02, point['y'], str(point['val']))  "
   ]
  }
 ],
 "metadata": {
  "kernelspec": {
   "display_name": "nlp",
   "language": "python",
   "name": "nlp"
  },
  "language_info": {
   "codemirror_mode": {
    "name": "ipython",
    "version": 3
   },
   "file_extension": ".py",
   "mimetype": "text/x-python",
   "name": "python",
   "nbconvert_exporter": "python",
   "pygments_lexer": "ipython3",
   "version": "3.7.10"
  }
 },
 "nbformat": 4,
 "nbformat_minor": 2
}
